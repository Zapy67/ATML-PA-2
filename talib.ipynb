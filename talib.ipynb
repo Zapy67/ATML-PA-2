{
 "cells": [
  {
   "cell_type": "code",
   "execution_count": 4,
   "id": "92f941aa",
   "metadata": {},
   "outputs": [
    {
     "name": "stdout",
     "output_type": "stream",
     "text": [
      "fatal: destination path 'ATML-PA-2' already exists and is not an empty directory.\n"
     ]
    }
   ],
   "source": [
    "!git clone -b talib-1 http://github.com/Zapy67/ATML-PA-2"
   ]
  },
  {
   "cell_type": "code",
   "execution_count": 7,
   "id": "38c75ba6",
   "metadata": {},
   "outputs": [
    {
     "name": "stdout",
     "output_type": "stream",
     "text": [
      "/kaggle/working/ATML-PA-2\n"
     ]
    }
   ],
   "source": [
    "%cd ATML-PA-2/"
   ]
  },
  {
   "cell_type": "code",
   "execution_count": 8,
   "id": "fe01b431",
   "metadata": {},
   "outputs": [
    {
     "name": "stdout",
     "output_type": "stream",
     "text": [
      "architectures  ATML_PA2.pdf  DAN  datasets  LICENSE  README.md\ttraining  utils\n"
     ]
    }
   ],
   "source": [
    "!ls"
   ]
  },
  {
   "cell_type": "code",
   "execution_count": 10,
   "id": "0ba589ec",
   "metadata": {},
   "outputs": [
    {
     "name": "stdout",
     "output_type": "stream",
     "text": [
      "warning: redirecting to https://github.com/Zapy67/ATML-PA-2/\n",
      "remote: Enumerating objects: 14, done.\u001b[K\n",
      "remote: Counting objects: 100% (14/14), done.\u001b[K\n",
      "remote: Compressing objects: 100% (6/6), done.\u001b[K\n",
      "remote: Total 10 (delta 3), reused 10 (delta 3), pack-reused 0 (from 0)\u001b[K\n",
      "Unpacking objects: 100% (10/10), 145.63 KiB | 2.31 MiB/s, done.\n",
      "From http://github.com/Zapy67/ATML-PA-2\n",
      " * branch            talib-1    -> FETCH_HEAD\n",
      "Updating 18c2bcd..4376f95\n",
      "Fast-forward\n",
      " DAN/dan.ipynb           | 2260 \u001b[32m++++++++++++++++++++++++++++++++++++++++++++\u001b[m\u001b[31m---\u001b[m\n",
      " datasets/office-home.py |  133 \u001b[32m+++\u001b[m\n",
      " talib.ipynb             |    0\n",
      " 3 files changed, 2293 insertions(+), 100 deletions(-)\n",
      " create mode 100644 datasets/office-home.py\n",
      " create mode 100644 talib.ipynb\n"
     ]
    }
   ],
   "source": [
    "!git pull http://github.com/Zapy67/ATML-PA-2 talib-1"
   ]
  },
  {
   "cell_type": "code",
   "execution_count": null,
   "id": "729181f5",
   "metadata": {},
   "outputs": [],
   "source": []
  }
 ],
 "metadata": {
  "kernelspec": {
   "display_name": "Python 3 (ipykernel)",
   "language": "python",
   "name": "python3"
  },
  "language_info": {
   "codemirror_mode": {
    "name": "ipython",
    "version": 3
   },
   "file_extension": ".py",
   "mimetype": "text/x-python",
   "name": "python",
   "nbconvert_exporter": "python",
   "pygments_lexer": "ipython3",
   "version": "3.11.13"
  }
 },
 "nbformat": 4,
 "nbformat_minor": 5
}
