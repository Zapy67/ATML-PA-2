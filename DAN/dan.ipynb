{
 "cells": [
  {
   "cell_type": "code",
   "execution_count": null,
   "id": "32826e95",
   "metadata": {},
   "outputs": [],
   "source": [
    "!git clone -b atm-10 http://github.com/Zapy67/ATML-PA-2"
   ]
  },
  {
   "cell_type": "code",
   "execution_count": null,
   "id": "d207ae40",
   "metadata": {},
   "outputs": [],
   "source": [
    "!git pull http://github.com/Zapy67/ATML-PA-2 atm-10"
   ]
  },
  {
   "cell_type": "code",
   "execution_count": null,
   "id": "3ea64875",
   "metadata": {},
   "outputs": [],
   "source": [
    "!pip install deeplake==3.9.16"
   ]
  },
  {
   "cell_type": "code",
   "execution_count": 5,
   "id": "d283198d",
   "metadata": {},
   "outputs": [
    {
     "name": "stdout",
     "output_type": "stream",
     "text": [
      "\u001b[0m\u001b[01;34minput\u001b[0m/  \u001b[01;34mlib\u001b[0m/  \u001b[01;34mworking\u001b[0m/\n"
     ]
    }
   ],
   "source": [
    "ls "
   ]
  },
  {
   "cell_type": "code",
   "execution_count": 2,
   "id": "a32cc9bb",
   "metadata": {},
   "outputs": [
    {
     "name": "stdout",
     "output_type": "stream",
     "text": [
      "/kaggle\n"
     ]
    }
   ],
   "source": [
    "cd ../"
   ]
  },
  {
   "cell_type": "code",
   "execution_count": 6,
   "id": "d5837ff9",
   "metadata": {},
   "outputs": [],
   "source": [
    "import torch\n",
    "from torch import nn\n",
    "\n",
    "class GaussianKernel(nn.Module):\n",
    "    def __init__(self, sigma=1.0):\n",
    "        super().__init__()\n",
    "        self.sigma = sigma\n",
    "\n",
    "    def forward(self, x, y):\n",
    "        diff = x - y\n",
    "        dist = torch.sum(diff ** 2, dim= tuple(range(1, x.dim())))\n",
    "        return torch.exp(-dist / (2 * self.sigma ** 2))\n",
    "\n",
    "class MKMMDLoss(nn.Module):        \n",
    "        def __init__(self, sigmas_):\n",
    "            super().__init__()\n",
    "            self.sigmas_ = sigmas_\n",
    "              \n",
    "        def forward(self, H_s, H_t):\n",
    "            assert len(H_s) == len(H_t)\n",
    "            assert len(H_s) % 2 == 0\n",
    "\n",
    "            half_size = len(H_s) // 2\n",
    "\n",
    "            xs1, xs2 = H_s[0:half_size], H_s[half_size:]\n",
    "            xt1, xt2 = H_t[0:half_size], H_t[half_size:]\n",
    "\n",
    "            mmd2 = 0\n",
    "            for sigma in self.sigmas_:\n",
    "                k = GaussianKernel(sigma)\n",
    "                k_ss = k(xs1, xs2)\n",
    "                k_tt = k(xt1, xt2)\n",
    "                k_st = k(xs1, xt2)\n",
    "                k_ts = k(xs2, xt1)\n",
    "                mmd2 += (k_ss + k_tt - k_st - k_ts).mean()\n",
    "            \n",
    "            return torch.clamp( 2* mmd2  / len(self.sigmas_), min=0)\n",
    "        \n",
    "class DANLoss(nn.Module):\n",
    "        def __init__(self, sigmas, scale):\n",
    "            super().__init__()\n",
    "            self.sigmas = sigmas\n",
    "            self.scale = scale\n",
    "            self.mkmmd = MKMMDLoss(sigmas)\n",
    "            self.supervised = torch.nn.CrossEntropyLoss()\n",
    "              \n",
    "        def forward(self, source_features, target_features, logits, labels):\n",
    "            scaled_mkmmd = 0\n",
    "            for H_s, H_t in zip(source_features, target_features):\n",
    "                scaled_mkmmd += self.scale*self.mkmmd(H_s, H_t)\n",
    "            \n",
    "            supervised = self.supervised(logits, labels) \n",
    "            \n",
    "            return supervised, scaled_mkmmd   \n",
    "            \n"
   ]
  },
  {
   "cell_type": "code",
   "execution_count": 7,
   "id": "4c6bb9d2",
   "metadata": {},
   "outputs": [],
   "source": [
    "from PIL import Image\n",
    "import torch\n",
    "from torchvision import datasets, transforms\n",
    "from torch.utils.data import DataLoader\n",
    "from torchvision.models import ResNet50_Weights\n",
    "import pandas as pd\n",
    "import os\n",
    "\n",
    "class OfficeHomeDataset(torch.utils.data.Dataset):    \n",
    "    def __init__(self, root_dir, csv_file, domains, transform=None):\n",
    "        self.df = pd.read_csv(csv_file)       \n",
    "        self.df['domain'] = self.df['name'].apply(lambda x: x.split('/')[2])\n",
    "        self.df['image']  = self.df['name'].apply(lambda x: os.path.join(root_dir, x.split('/', 2)[-1].strip()))\n",
    "        self.df['label']  = self.df['name'].apply(lambda x: x.split('/')[3])\n",
    "       \n",
    "        self.df = self.df[self.df['domain'].isin(domains)].reset_index(drop=True)\n",
    "        self.df = self.df[self.df['label'] != \"Clock\"].reset_index(drop=True)\n",
    "        self.transform = transform\n",
    "        \n",
    "        self.classes = sorted(self.df['label'].unique())\n",
    "        self.class_to_idx = {cls: idx for idx, cls in enumerate(self.classes)}\n",
    "\n",
    "    def __len__(self):\n",
    "        return len(self.df)\n",
    "\n",
    "    def __getitem__(self, idx):\n",
    "        if torch.is_tensor(idx):\n",
    "            idx = idx.tolist()\n",
    "\n",
    "        row = self.df.iloc[idx]\n",
    "        path = row['image']\n",
    "        label = row['label']\n",
    "        \n",
    "        image = Image.open(path).convert('RGB')\n",
    "        if self.transform:\n",
    "            image = self.transform(image)\n",
    "\n",
    "        return image, self.class_to_idx[label]\n",
    "\n",
    "\n",
    "root_dir = \"OfficeHomeDataset\"\n",
    "csv_file = f\"{root_dir}/ImageInfo.csv\"\n",
    "\n",
    "sources = [\"Art\", \"Real World\", \"Product\"]\n",
    "target = [\"Clipart\"]\n",
    "\n",
    "transform = ResNet50_Weights.IMAGENET1K_V1.transforms()\n",
    "\n",
    "source_ds = OfficeHomeDataset(root_dir, csv_file, sources, transform)\n",
    "target_ds = OfficeHomeDataset(root_dir, csv_file, target, transform)\n",
    "\n",
    "source_loader = torch.utils.data.DataLoader(source_ds, shuffle=True, batch_size=32)\n",
    "target_loader = torch.utils.data.DataLoader(target_ds, shuffle=True, batch_size=32)\n",
    "    "
   ]
  },
  {
   "cell_type": "code",
   "execution_count": null,
   "id": "0d6ccd2f",
   "metadata": {},
   "outputs": [],
   "source": []
  },
  {
   "cell_type": "code",
   "execution_count": 113,
   "id": "281b4728",
   "metadata": {},
   "outputs": [],
   "source": [
    "import os\n",
    "import argparse\n",
    "import torch\n",
    "import matplotlib.pyplot as plt\n",
    "import seaborn as sns\n",
    "from tqdm import trange\n",
    "from sklearn.metrics import classification_report, confusion_matrix\n",
    "from torchvision.models import resnet50, ResNet50_Weights\n",
    "\n",
    "# --------------------------\n",
    "# Utility Functions\n",
    "# --------------------------\n",
    "\n",
    "def unfreeze_layers(model, names):\n",
    "    for name in names:\n",
    "        module = getattr(model, name)\n",
    "        for p in module.parameters():\n",
    "            p.requires_grad = True\n",
    "\n",
    "def dan_train_step(source_loader, target_loader, model, optimizer, loss_fn, accuracy_fn, device):\n",
    "    model.to(device)\n",
    "    model.train()\n",
    "    \n",
    "    total_loss = total_supervised = total_mkmmd = correct = 0\n",
    "    \n",
    "    for (X_s, Y_s), (X_t, _) in zip(source_loader, target_loader):\n",
    "        X_s, Y_s, X_t = X_s.to(device), Y_s.to(device), X_t.to(device)\n",
    "        optimizer.zero_grad()\n",
    "      \n",
    "        logits, source_features = model(X_s)\n",
    "        _, target_features = model(X_t)\n",
    "      \n",
    "        \n",
    "        supervised, scaled_mkmmd = loss_fn(source_features, target_features, logits, Y_s)\n",
    "        \n",
    "        loss = supervised + scaled_mkmmd\n",
    "        loss.backward()\n",
    "        optimizer.step()\n",
    "       \n",
    "        total_loss += loss.item()\n",
    "        total_supervised += supervised.item()\n",
    "        total_mkmmd += scaled_mkmmd.item()\n",
    "        correct += accuracy_fn(logits, Y_s)\n",
    "\n",
    "    n_batches = len(source_loader)\n",
    "    avg_loss = total_loss / n_batches\n",
    "    avg_supervised = total_supervised / n_batches\n",
    "    avg_mkmmd = total_mkmmd / n_batches\n",
    "    acc = correct / len(source_loader.dataset)\n",
    "    \n",
    "    \n",
    "    return avg_loss, avg_supervised, avg_mkmmd, acc\n",
    "\n",
    "def dan_loader_accuracy(loader, model, accuracy_fn, device):\n",
    "    model.eval()\n",
    "    correct = 0\n",
    "    with torch.inference_mode():\n",
    "        for X, Y in loader:\n",
    "            X, Y = X.to(device), Y.to(device)\n",
    "            logits, _ = model(X)\n",
    "            correct += accuracy_fn(logits, Y)\n",
    "    return correct / len(loader.dataset)\n",
    "\n",
    "def dan_train(source_loader, target_loader, test_loader, epochs, optimizer, model, loss_fn, accuracy_fn, device):\n",
    "    source_losses = []\n",
    "    supervised_losses = []\n",
    "    mkmmd_losses = []\n",
    "    train_accs = []\n",
    "    test_accs = []\n",
    "\n",
    "    for epoch in trange(epochs, desc=\"Training\"):\n",
    "        print(f\"\\nEpoch {epoch+1}/{epochs}\")\n",
    "        loss_fn.scale = min(loss_fn.scale*(1.1), 128)\n",
    "       \n",
    "        avg_loss, avg_supervised, avg_mkmmd, avg_acc = dan_train_step(\n",
    "            source_loader, target_loader, model, optimizer, loss_fn, accuracy_fn, device\n",
    "        )\n",
    "\n",
    "        source_losses.append(avg_loss)\n",
    "        supervised_losses.append(avg_supervised)\n",
    "        mkmmd_losses.append(avg_mkmmd)\n",
    "        train_accs.append(avg_acc)\n",
    "\n",
    "        test_acc = dan_loader_accuracy(test_loader, model, accuracy_fn, device)\n",
    "        test_accs.append(test_acc)\n",
    "        print(f\"\\nTrain loss: {avg_loss:.5f} | Supervised: {avg_supervised:.5f} | MK-MMD: {avg_mkmmd:.5f} | Train acc: {avg_acc*100:.2f}% | Test acc={test_acc*100:.2f}%\\n\", flush=True)\n",
    "\n",
    "\n",
    "    return source_losses, supervised_losses, mkmmd_losses, train_accs, test_accs\n",
    "\n",
    "def dan_evaluate_loader(loader, model, device, class_names=None, savepath=None):\n",
    "    model.to(device)\n",
    "    model.eval()\n",
    "    \n",
    "    all_preds = []\n",
    "    all_labels = []\n",
    "\n",
    "    with torch.inference_mode():\n",
    "        for X, Y in loader:\n",
    "            X, Y = X.to(device), Y.to(device)\n",
    "            logits, _ = model(X)\n",
    "            all_preds.append(torch.argmax(logits, dim=1).cpu())\n",
    "            all_labels.append(Y.cpu())\n",
    "\n",
    "    all_preds = torch.cat(all_preds).numpy()\n",
    "    all_labels = torch.cat(all_labels).numpy()\n",
    "\n",
    "    report = classification_report(all_labels, all_preds, target_names=class_names, digits=4)\n",
    "\n",
    "    cm = confusion_matrix(all_labels, all_preds)\n",
    "    plt.figure(figsize=(8,6))\n",
    "    sns.heatmap(cm, annot=True, cmap='Blues',\n",
    "                xticklabels=class_names,\n",
    "                yticklabels=class_names)\n",
    "    plt.xlabel('Predicted')\n",
    "    plt.ylabel('True')\n",
    "    plt.title(f'Confusion Matrix')\n",
    "   \n",
    "    if savepath:\n",
    "        plt.savefig(savepath)\n",
    "    plt.show()\n",
    "\n",
    "    return report, cm\n",
    "\n",
    "# --------------------------\n",
    "# Main\n",
    "# # --------------------------\n",
    "# def main(args):\n",
    "\n",
    "    # parser = argparse.ArgumentParser(description=\"DAN Training Script\")\n",
    "    # parser.add_argument(\"--epochs\", type=int, default=5)\n",
    "    # parser.add_argument(\"--lr\", type=float, default=1e-4)\n",
    "    # parser.add_argument(\"--weight_decay\", type=float, default=0.0)\n",
    "    # parser.add_argument(\"--batch_size\", type=int, default=32)\n",
    "    # parser.add_argument(\"--momentum\", type=float, default=0.0)\n",
    "    # parser.add_argument(\"--save_path\", type=str, default=\"dan_model.pth\")\n",
    "    # args = parser.parse_args()\n",
    "\n",
    "    # device = torch.device(\"cuda\" if torch.cuda.is_available() else \"cpu\")\n",
    "\n",
    "    # # ----------------------\n",
    "    # # Model\n",
    "    # # ----------------------\n",
    "\n",
    "    # dan_resnet = resnet50(ResNet50_Weights.DEFAULT)\n",
    "\n",
    "\n",
    "    # def _forward_impl(self, x):\n",
    "    #     x = self.conv1(x)\n",
    "    #     x = self.bn1(x)\n",
    "    #     x = self.relu(x)\n",
    "    #     x = self.maxpool(x)\n",
    "\n",
    "    #     f1 = self.layer1(x)\n",
    "    #     f2 = self.layer2(f1)\n",
    "    #     f3 = self.layer3(f2)\n",
    "    #     f4 = self.layer4(f3)\n",
    "\n",
    "    #     x = torch.flatten(self.avgpool(f4), 1)\n",
    "    #     x = self.fc(x)\n",
    "\n",
    "    #     return x, [f4, x]\n",
    "\n",
    "    # import types\n",
    "    # dan_resnet.forward = types.MethodType(_forward_impl, dan_resnet)\n",
    "\n",
    "    # for p in dan_resnet.parameters():\n",
    "    #     p.requires_grad = False\n",
    "    # unfreeze_layers(dan_resnet, ['layer3','layer4', 'fc'])\n",
    "\n",
    "    # # ----------------------\n",
    "    # # Optimizer & Loss\n",
    "    # # ----------------------\n",
    "    # loss_fn = DANLoss(sigmas=[1.0, 5.0, 10.0], scale=1.0)\n",
    "    # optimizer = torch.optim.SGD(dan_resnet.parameters(), lr=args.lr, weight_decay=args.weight_decay, momentum=args.momentum)\n",
    "\n",
    "    # # ----------------------\n",
    "    # # Training\n",
    "    # # ----------------------\n",
    "    \n",
    "\n",
    "    # # define accuracy function\n",
    "    # def accuracy_fn(logits, labels):\n",
    "    #     return (torch.argmax(logits, dim=1) == labels).sum().item()\n",
    "\n",
    "    # source_losses, supervised_losses, mkmmd_losses, train_accs, test_accs = train(\n",
    "    #     source_loader, target_loader, target_loader,\n",
    "    #     epochs=args.epochs,\n",
    "    #     optimizer=optimizer,\n",
    "    #     model=dan_resnet,\n",
    "    #     loss_fn=loss_fn,\n",
    "    #     accuracy_fn=accuracy_fn,\n",
    "    #     device=device\n",
    "    # )\n",
    "\n",
    "    # # ----------------------\n",
    "    # # Plot\n",
    "    # # ----------------------\n",
    "    # fig, axes= plt.subplots(1,2)\n",
    "    # fig.suptitle(\"Training Dynamics\")\n",
    "    # fig.set_size_inches(10, 3)\n",
    "    # ax1, ax2 = axes\n",
    "\n",
    "    # ax1.set(title=\"Accuracies\", xlabel=\"Epoch\", ylabel=\"Accuracy\")\n",
    "    # ax1.plot(train_accs, label=\"Source\")\n",
    "    # ax1.plot(test_accs, label=\"Target\")\n",
    "    # ax1.legend(), ax1.grid(True)\n",
    "\n",
    "    # ax2.set(title=\"Source Losses\", xlabel=\"Epoch\", ylabel=\"Loss\")\n",
    "    # ax2.plot(source_losses, label=\"Total\")\n",
    "    # ax2.plot(supervised_losses, label=\"Supervised\")\n",
    "    # ax2.plot(mkmmd_losses, label=\"MKMMD\")\n",
    "    # ax2.legend(), ax2.grid(True)\n",
    "\n",
    "    # os.makedirs('figs', exist_ok=True)\n",
    "    # plt.savefig('figs/training_dynamics.png')\n",
    "    # torch.save(dan_resnet.state_dict(), args.save_path)"
   ]
  },
  {
   "cell_type": "code",
   "execution_count": 9,
   "id": "d2c69c5b",
   "metadata": {},
   "outputs": [],
   "source": [
    "import os\n",
    "import torch\n",
    "import torchvision\n",
    "import pathlib\n",
    "from torchvision.transforms import v2\n",
    "import matplotlib.pyplot as plt\n",
    "import tqdm\n",
    "from torchmetrics import ConfusionMatrix, Precision, Recall, F1Score\n",
    "from torch import nn\n",
    "from torchinfo import summary\n",
    "import seaborn as sns\n",
    "from sklearn.metrics import classification_report\n",
    "from torchvision.models import resnet50, ResNet50_Weights, vit_b_16, ViT_B_16_Weights\n",
    "from sklearn.manifold import TSNE\n",
    "import random\n",
    "from tqdm import trange\n",
    "\n",
    "\n",
    "\n",
    "def train_step(train_loader: torch.utils.data.DataLoader, model: torch.nn.Module, optimizer: torch.optim.Optimizer, loss_fn: torch.nn.Module, device: torch.device):\n",
    "    model.to(device), model.train()\n",
    "    train_loss, num_correct = 0, 0\n",
    "\n",
    "    for X,Y in train_loader:\n",
    "        X, Y = X.to(device), Y.to(device)\n",
    "        optimizer.zero_grad()\n",
    "        preds = model(X)\n",
    "        loss = loss_fn(preds,Y)\n",
    "        num_correct += sum(preds.argmax(axis=1)==Y).item()\n",
    "        loss.backward()\n",
    "        optimizer.step()\n",
    "        train_loss+=loss.item()\n",
    "\n",
    "    train_loss/=len(train_loader)\n",
    "    acc = num_correct/(len(train_loader.dataset))\n",
    "    print(f\"\\nTrain loss: {train_loss:.5f} |  Train acc: {acc*100:.2f} %\\n\", flush=True)\n",
    "    return train_loss, acc\n",
    "\n",
    "def test_step(test_loader: torch.utils.data.DataLoader, model: torch.nn.Module, loss_fn: torch.nn.Module, device: torch.device):\n",
    "    model.to(device), model.eval()\n",
    "    test_loss, num_correct = 0, 0\n",
    "\n",
    "    with torch.inference_mode():\n",
    "        for X,Y in test_loader:\n",
    "            X, Y = X.to(device), Y.to(device)\n",
    "            preds = model(X)\n",
    "            test_loss += loss_fn(preds,Y).item()\n",
    "            num_correct += sum(preds.argmax(axis=1)==Y).item()\n",
    "\n",
    "    test_loss /= len(test_loader)\n",
    "    acc = num_correct/len(test_loader.dataset)\n",
    "    print(f\"Test loss: {test_loss:.5f} | Test acc: {acc*100:.2f} %\\n\", flush=True)\n",
    "    return test_loss, acc\n",
    "\n",
    "def train(train_loader: torch.utils.data.DataLoader, test_loader: torch.utils.data.DataLoader, epochs: int, optimizer: torch.optim.Optimizer, model: torch.nn.Module, loss_fn: torch.nn.Module, device: torch.device):\n",
    "    model.to(device)\n",
    "    train_losses, test_losses, train_accuracies, test_accuracies = [], [], [], []\n",
    "   \n",
    "    for epoch in trange(epochs):\n",
    "        print(f\"epoch: {epoch+1}\")\n",
    "        train_loss, train_acc = train_step(train_loader, model, optimizer, loss_fn, device)\n",
    "        test_loss, test_acc = test_step(test_loader, model, loss_fn, device)\n",
    "        train_losses.append(train_loss), train_accuracies.append(train_acc)\n",
    "        test_losses.append(test_loss), test_accuracies.append(test_acc)\n",
    "\n",
    "    return train_losses, test_losses, train_accuracies, test_accuracies\n",
    "\n",
    "\n",
    "def metrics(y_preds: torch.tensor, y: torch.tensor, classes: list[str],):\n",
    "    y_preds, y = y_preds.cpu(), y.cpu()\n",
    "    confmat = ConfusionMatrix('multiclass', num_classes=len(classes),)\n",
    "    return {\"confmat\" : confmat(y_preds, y),\"classification_report\":classification_report(y, y_preds.argmax(axis=1), target_names=classes)}\n",
    "\n",
    "def display_metrics(metrics: dict, classes: list[str]):\n",
    "    print(metrics[\"classification_report\"])\n",
    "    sns.heatmap(metrics['confmat'], cmap='Blues', annot=True, xticklabels=classes, yticklabels=classes)\n",
    "    plt.show()\n",
    "\n",
    "def get_classes(ds):\n",
    "    if isinstance(ds, torch.utils.data.Subset):\n",
    "        return ds.dataset.classes\n",
    "    elif isinstance(ds, torch.utils.data.ConcatDataset):\n",
    "        classes = set()\n",
    "        \n",
    "        for dataset in ds.datasets:\n",
    "            classes.update(dataset.classes)\n",
    "\n",
    "        return sorted(list(classes))\n",
    "    else:\n",
    "        return ds.classes\n",
    "\n",
    "def eval_model(ds: torch.utils.data.Dataset, model: torch.nn.Module, device: torch.device,):\n",
    "    all_preds, all_targets = [], []\n",
    "    model.to(device), model.eval()\n",
    "    num_correct = 0\n",
    "    loader = torch.utils.data.DataLoader(ds, batch_size=32)\n",
    "\n",
    "    with torch.inference_mode():\n",
    "        for X, Y in loader:\n",
    "            X, Y = X.to(device), Y.to(device)\n",
    "            preds = model(X)\n",
    "            num_correct += sum(preds.argmax(axis=1)==Y).item()\n",
    "            all_preds.append(preds.cpu())\n",
    "            all_targets.append(Y.cpu())\n",
    "\n",
    "        all_preds = torch.concat(all_preds, dim=0)\n",
    "        all_targets = torch.concat(all_targets, dim=0)\n",
    "    \n",
    "    classes = get_classes(ds) \n",
    "    mts = metrics(all_preds, all_targets, classes=classes)\n",
    "    display_metrics(mts, classes)\n",
    "    return mts\n",
    "    \n",
    "\n",
    "def plot_dynamics(train_loss_hist, test_loss_hist, train_acc_hist, test_acc_hist):\n",
    "    fig, axes= plt.subplots(1,2)\n",
    "    fig.suptitle(\"Training Dynamics\")\n",
    "    fig.set_size_inches(10, 3)\n",
    "    ax1, ax2 = axes\n",
    "\n",
    "    ax1.set_title(\"Accuracies\")\n",
    "    ax1.set_xlabel(\"Epoch\")\n",
    "    ax1.set_ylabel(\"Accuracy\")\n",
    "    ax1.plot(train_acc_hist, label=\"Train\")\n",
    "    ax1.plot(test_acc_hist, label=\"Test\")\n",
    "    ax1.legend()\n",
    "    ax1.grid(True)\n",
    "\n",
    "    ax2.set_title(\"Losses\")\n",
    "    ax2.set_xlabel(\"Epoch\")\n",
    "    ax2.set_ylabel(\"Loss\")\n",
    "    ax2.plot(train_loss_hist, label=\"Train\")\n",
    "    ax2.plot(test_loss_hist, label=\"Test\")\n",
    "    ax2.legend()\n",
    "    ax2.grid(True)\n",
    "    plt.show()\n",
    "    \n",
    "\n",
    "def config_layers(modules:nn.Module | list[nn.Module], freeze:bool=False):\n",
    "    if isinstance(modules, (list, tuple)):\n",
    "        for module in modules:\n",
    "            config_layers(module, freeze)\n",
    "    else:\n",
    "        for p in modules.parameters():\n",
    "            p.requires_grad = not freeze\n",
    "\n",
    "\n",
    "def init_model(type:str, num_classes:int, freeze_backbone:bool=False):\n",
    "    mdl = None\n",
    "    if type == \"vit\":\n",
    "        mdl = vit_b_16(weights = ViT_B_16_Weights.IMAGENET1K_V1)\n",
    "        if freeze_backbone:\n",
    "            config_layers(mdl, freeze=True)\n",
    "        num_ft = mdl.heads.head.in_features\n",
    "        mdl.heads.head = torch.nn.Linear(num_ft, num_classes).to(device)\n",
    "      \n",
    "    elif type == \"resnet\":\n",
    "        mdl = resnet50(weights = ResNet50_Weights.IMAGENET1K_V1)\n",
    "        if freeze_backbone:\n",
    "            config_layers(mdl, freeze=True)\n",
    "        num_ft = mdl.fc.in_features\n",
    "        mdl.fc = torch.nn.Linear(num_ft, num_classes).to(device)\n",
    "    return mdl\n",
    "  \n",
    "\n",
    "\n",
    "\n",
    "def train_workflow(model:nn.Module, train_dataset:torch.utils.data.Dataset, val_dataset:torch.utils.data.Dataset, config:dict):\n",
    "    epochs         = config.get('epochs', 5)\n",
    "    lr             = config.get('lr', 1e-5)\n",
    "    weight_decay   = config.get('weight_decay', 0.0)\n",
    "    batch_size     = config.get('batch_size', 32)\n",
    "    momentum       = config.get('momentum', 0.0)\n",
    "    loss_fn        = config.get('loss_fn', nn.CrossEntropyLoss()) \n",
    "\n",
    "    optimizer = torch.optim.SGD(model.parameters(), lr=lr, weight_decay=weight_decay, momentum=momentum)\n",
    "\n",
    "    train_loader = torch.utils.data.DataLoader(train_dataset, batch_size, shuffle=True, num_workers=os.cpu_count())\n",
    "    val_loader = torch.utils.data.DataLoader(val_dataset, batch_size, shuffle=False, num_workers=os.cpu_count())\n",
    "    \n",
    "    train_losses, test_losses, train_accuracies, test_accuracies=train(train_loader,\n",
    "                        val_loader, epochs, optimizer, model, loss_fn, device)\n",
    "    \n",
    "    \n",
    "    plot_dynamics(train_losses, test_losses, train_accuracies, test_accuracies)\n",
    "    print(\"Evaluation On Test Set\")\n",
    "    eval_model(val_dataset, model, device)\n",
    "    print(\"Evaluation On Train Set\")\n",
    "    eval_model(train_dataset, model, device)\n",
    "    "
   ]
  },
  {
   "cell_type": "code",
   "execution_count": 10,
   "id": "d69e40b9",
   "metadata": {},
   "outputs": [],
   "source": [
    "device = \"cuda\" if torch.cuda.is_available() else \"cpu\""
   ]
  },
  {
   "cell_type": "code",
   "execution_count": 11,
   "id": "f795b628",
   "metadata": {},
   "outputs": [
    {
     "name": "stderr",
     "output_type": "stream",
     "text": [
      "Downloading: \"https://download.pytorch.org/models/resnet50-0676ba61.pth\" to /root/.cache/torch/hub/checkpoints/resnet50-0676ba61.pth\n",
      "100%|██████████| 97.8M/97.8M [00:00<00:00, 185MB/s]\n"
     ]
    },
    {
     "data": {
      "text/plain": [
       "========================================================================================================================\n",
       "Layer (type:depth-idx)                   Input Shape          Output Shape         Param #              Trainable\n",
       "========================================================================================================================\n",
       "ResNet                                   [1, 3, 224, 224]     [1, 65]              --                   Partial\n",
       "├─Conv2d: 1-1                            [1, 3, 224, 224]     [1, 64, 112, 112]    (9,408)              False\n",
       "├─BatchNorm2d: 1-2                       [1, 64, 112, 112]    [1, 64, 112, 112]    (128)                False\n",
       "├─ReLU: 1-3                              [1, 64, 112, 112]    [1, 64, 112, 112]    --                   --\n",
       "├─MaxPool2d: 1-4                         [1, 64, 112, 112]    [1, 64, 56, 56]      --                   --\n",
       "├─Sequential: 1-5                        [1, 64, 56, 56]      [1, 256, 56, 56]     --                   False\n",
       "│    └─Bottleneck: 2-1                   [1, 64, 56, 56]      [1, 256, 56, 56]     --                   False\n",
       "│    │    └─Conv2d: 3-1                  [1, 64, 56, 56]      [1, 64, 56, 56]      (4,096)              False\n",
       "│    │    └─BatchNorm2d: 3-2             [1, 64, 56, 56]      [1, 64, 56, 56]      (128)                False\n",
       "│    │    └─ReLU: 3-3                    [1, 64, 56, 56]      [1, 64, 56, 56]      --                   --\n",
       "│    │    └─Conv2d: 3-4                  [1, 64, 56, 56]      [1, 64, 56, 56]      (36,864)             False\n",
       "│    │    └─BatchNorm2d: 3-5             [1, 64, 56, 56]      [1, 64, 56, 56]      (128)                False\n",
       "│    │    └─ReLU: 3-6                    [1, 64, 56, 56]      [1, 64, 56, 56]      --                   --\n",
       "│    │    └─Conv2d: 3-7                  [1, 64, 56, 56]      [1, 256, 56, 56]     (16,384)             False\n",
       "│    │    └─BatchNorm2d: 3-8             [1, 256, 56, 56]     [1, 256, 56, 56]     (512)                False\n",
       "│    │    └─Sequential: 3-9              [1, 64, 56, 56]      [1, 256, 56, 56]     (16,896)             False\n",
       "│    │    └─ReLU: 3-10                   [1, 256, 56, 56]     [1, 256, 56, 56]     --                   --\n",
       "│    └─Bottleneck: 2-2                   [1, 256, 56, 56]     [1, 256, 56, 56]     --                   False\n",
       "│    │    └─Conv2d: 3-11                 [1, 256, 56, 56]     [1, 64, 56, 56]      (16,384)             False\n",
       "│    │    └─BatchNorm2d: 3-12            [1, 64, 56, 56]      [1, 64, 56, 56]      (128)                False\n",
       "│    │    └─ReLU: 3-13                   [1, 64, 56, 56]      [1, 64, 56, 56]      --                   --\n",
       "│    │    └─Conv2d: 3-14                 [1, 64, 56, 56]      [1, 64, 56, 56]      (36,864)             False\n",
       "│    │    └─BatchNorm2d: 3-15            [1, 64, 56, 56]      [1, 64, 56, 56]      (128)                False\n",
       "│    │    └─ReLU: 3-16                   [1, 64, 56, 56]      [1, 64, 56, 56]      --                   --\n",
       "│    │    └─Conv2d: 3-17                 [1, 64, 56, 56]      [1, 256, 56, 56]     (16,384)             False\n",
       "│    │    └─BatchNorm2d: 3-18            [1, 256, 56, 56]     [1, 256, 56, 56]     (512)                False\n",
       "│    │    └─ReLU: 3-19                   [1, 256, 56, 56]     [1, 256, 56, 56]     --                   --\n",
       "│    └─Bottleneck: 2-3                   [1, 256, 56, 56]     [1, 256, 56, 56]     --                   False\n",
       "│    │    └─Conv2d: 3-20                 [1, 256, 56, 56]     [1, 64, 56, 56]      (16,384)             False\n",
       "│    │    └─BatchNorm2d: 3-21            [1, 64, 56, 56]      [1, 64, 56, 56]      (128)                False\n",
       "│    │    └─ReLU: 3-22                   [1, 64, 56, 56]      [1, 64, 56, 56]      --                   --\n",
       "│    │    └─Conv2d: 3-23                 [1, 64, 56, 56]      [1, 64, 56, 56]      (36,864)             False\n",
       "│    │    └─BatchNorm2d: 3-24            [1, 64, 56, 56]      [1, 64, 56, 56]      (128)                False\n",
       "│    │    └─ReLU: 3-25                   [1, 64, 56, 56]      [1, 64, 56, 56]      --                   --\n",
       "│    │    └─Conv2d: 3-26                 [1, 64, 56, 56]      [1, 256, 56, 56]     (16,384)             False\n",
       "│    │    └─BatchNorm2d: 3-27            [1, 256, 56, 56]     [1, 256, 56, 56]     (512)                False\n",
       "│    │    └─ReLU: 3-28                   [1, 256, 56, 56]     [1, 256, 56, 56]     --                   --\n",
       "├─Sequential: 1-6                        [1, 256, 56, 56]     [1, 512, 28, 28]     --                   False\n",
       "│    └─Bottleneck: 2-4                   [1, 256, 56, 56]     [1, 512, 28, 28]     --                   False\n",
       "│    │    └─Conv2d: 3-29                 [1, 256, 56, 56]     [1, 128, 56, 56]     (32,768)             False\n",
       "│    │    └─BatchNorm2d: 3-30            [1, 128, 56, 56]     [1, 128, 56, 56]     (256)                False\n",
       "│    │    └─ReLU: 3-31                   [1, 128, 56, 56]     [1, 128, 56, 56]     --                   --\n",
       "│    │    └─Conv2d: 3-32                 [1, 128, 56, 56]     [1, 128, 28, 28]     (147,456)            False\n",
       "│    │    └─BatchNorm2d: 3-33            [1, 128, 28, 28]     [1, 128, 28, 28]     (256)                False\n",
       "│    │    └─ReLU: 3-34                   [1, 128, 28, 28]     [1, 128, 28, 28]     --                   --\n",
       "│    │    └─Conv2d: 3-35                 [1, 128, 28, 28]     [1, 512, 28, 28]     (65,536)             False\n",
       "│    │    └─BatchNorm2d: 3-36            [1, 512, 28, 28]     [1, 512, 28, 28]     (1,024)              False\n",
       "│    │    └─Sequential: 3-37             [1, 256, 56, 56]     [1, 512, 28, 28]     (132,096)            False\n",
       "│    │    └─ReLU: 3-38                   [1, 512, 28, 28]     [1, 512, 28, 28]     --                   --\n",
       "│    └─Bottleneck: 2-5                   [1, 512, 28, 28]     [1, 512, 28, 28]     --                   False\n",
       "│    │    └─Conv2d: 3-39                 [1, 512, 28, 28]     [1, 128, 28, 28]     (65,536)             False\n",
       "│    │    └─BatchNorm2d: 3-40            [1, 128, 28, 28]     [1, 128, 28, 28]     (256)                False\n",
       "│    │    └─ReLU: 3-41                   [1, 128, 28, 28]     [1, 128, 28, 28]     --                   --\n",
       "│    │    └─Conv2d: 3-42                 [1, 128, 28, 28]     [1, 128, 28, 28]     (147,456)            False\n",
       "│    │    └─BatchNorm2d: 3-43            [1, 128, 28, 28]     [1, 128, 28, 28]     (256)                False\n",
       "│    │    └─ReLU: 3-44                   [1, 128, 28, 28]     [1, 128, 28, 28]     --                   --\n",
       "│    │    └─Conv2d: 3-45                 [1, 128, 28, 28]     [1, 512, 28, 28]     (65,536)             False\n",
       "│    │    └─BatchNorm2d: 3-46            [1, 512, 28, 28]     [1, 512, 28, 28]     (1,024)              False\n",
       "│    │    └─ReLU: 3-47                   [1, 512, 28, 28]     [1, 512, 28, 28]     --                   --\n",
       "│    └─Bottleneck: 2-6                   [1, 512, 28, 28]     [1, 512, 28, 28]     --                   False\n",
       "│    │    └─Conv2d: 3-48                 [1, 512, 28, 28]     [1, 128, 28, 28]     (65,536)             False\n",
       "│    │    └─BatchNorm2d: 3-49            [1, 128, 28, 28]     [1, 128, 28, 28]     (256)                False\n",
       "│    │    └─ReLU: 3-50                   [1, 128, 28, 28]     [1, 128, 28, 28]     --                   --\n",
       "│    │    └─Conv2d: 3-51                 [1, 128, 28, 28]     [1, 128, 28, 28]     (147,456)            False\n",
       "│    │    └─BatchNorm2d: 3-52            [1, 128, 28, 28]     [1, 128, 28, 28]     (256)                False\n",
       "│    │    └─ReLU: 3-53                   [1, 128, 28, 28]     [1, 128, 28, 28]     --                   --\n",
       "│    │    └─Conv2d: 3-54                 [1, 128, 28, 28]     [1, 512, 28, 28]     (65,536)             False\n",
       "│    │    └─BatchNorm2d: 3-55            [1, 512, 28, 28]     [1, 512, 28, 28]     (1,024)              False\n",
       "│    │    └─ReLU: 3-56                   [1, 512, 28, 28]     [1, 512, 28, 28]     --                   --\n",
       "│    └─Bottleneck: 2-7                   [1, 512, 28, 28]     [1, 512, 28, 28]     --                   False\n",
       "│    │    └─Conv2d: 3-57                 [1, 512, 28, 28]     [1, 128, 28, 28]     (65,536)             False\n",
       "│    │    └─BatchNorm2d: 3-58            [1, 128, 28, 28]     [1, 128, 28, 28]     (256)                False\n",
       "│    │    └─ReLU: 3-59                   [1, 128, 28, 28]     [1, 128, 28, 28]     --                   --\n",
       "│    │    └─Conv2d: 3-60                 [1, 128, 28, 28]     [1, 128, 28, 28]     (147,456)            False\n",
       "│    │    └─BatchNorm2d: 3-61            [1, 128, 28, 28]     [1, 128, 28, 28]     (256)                False\n",
       "│    │    └─ReLU: 3-62                   [1, 128, 28, 28]     [1, 128, 28, 28]     --                   --\n",
       "│    │    └─Conv2d: 3-63                 [1, 128, 28, 28]     [1, 512, 28, 28]     (65,536)             False\n",
       "│    │    └─BatchNorm2d: 3-64            [1, 512, 28, 28]     [1, 512, 28, 28]     (1,024)              False\n",
       "│    │    └─ReLU: 3-65                   [1, 512, 28, 28]     [1, 512, 28, 28]     --                   --\n",
       "├─Sequential: 1-7                        [1, 512, 28, 28]     [1, 1024, 14, 14]    --                   False\n",
       "│    └─Bottleneck: 2-8                   [1, 512, 28, 28]     [1, 1024, 14, 14]    --                   False\n",
       "│    │    └─Conv2d: 3-66                 [1, 512, 28, 28]     [1, 256, 28, 28]     (131,072)            False\n",
       "│    │    └─BatchNorm2d: 3-67            [1, 256, 28, 28]     [1, 256, 28, 28]     (512)                False\n",
       "│    │    └─ReLU: 3-68                   [1, 256, 28, 28]     [1, 256, 28, 28]     --                   --\n",
       "│    │    └─Conv2d: 3-69                 [1, 256, 28, 28]     [1, 256, 14, 14]     (589,824)            False\n",
       "│    │    └─BatchNorm2d: 3-70            [1, 256, 14, 14]     [1, 256, 14, 14]     (512)                False\n",
       "│    │    └─ReLU: 3-71                   [1, 256, 14, 14]     [1, 256, 14, 14]     --                   --\n",
       "│    │    └─Conv2d: 3-72                 [1, 256, 14, 14]     [1, 1024, 14, 14]    (262,144)            False\n",
       "│    │    └─BatchNorm2d: 3-73            [1, 1024, 14, 14]    [1, 1024, 14, 14]    (2,048)              False\n",
       "│    │    └─Sequential: 3-74             [1, 512, 28, 28]     [1, 1024, 14, 14]    (526,336)            False\n",
       "│    │    └─ReLU: 3-75                   [1, 1024, 14, 14]    [1, 1024, 14, 14]    --                   --\n",
       "│    └─Bottleneck: 2-9                   [1, 1024, 14, 14]    [1, 1024, 14, 14]    --                   False\n",
       "│    │    └─Conv2d: 3-76                 [1, 1024, 14, 14]    [1, 256, 14, 14]     (262,144)            False\n",
       "│    │    └─BatchNorm2d: 3-77            [1, 256, 14, 14]     [1, 256, 14, 14]     (512)                False\n",
       "│    │    └─ReLU: 3-78                   [1, 256, 14, 14]     [1, 256, 14, 14]     --                   --\n",
       "│    │    └─Conv2d: 3-79                 [1, 256, 14, 14]     [1, 256, 14, 14]     (589,824)            False\n",
       "│    │    └─BatchNorm2d: 3-80            [1, 256, 14, 14]     [1, 256, 14, 14]     (512)                False\n",
       "│    │    └─ReLU: 3-81                   [1, 256, 14, 14]     [1, 256, 14, 14]     --                   --\n",
       "│    │    └─Conv2d: 3-82                 [1, 256, 14, 14]     [1, 1024, 14, 14]    (262,144)            False\n",
       "│    │    └─BatchNorm2d: 3-83            [1, 1024, 14, 14]    [1, 1024, 14, 14]    (2,048)              False\n",
       "│    │    └─ReLU: 3-84                   [1, 1024, 14, 14]    [1, 1024, 14, 14]    --                   --\n",
       "│    └─Bottleneck: 2-10                  [1, 1024, 14, 14]    [1, 1024, 14, 14]    --                   False\n",
       "│    │    └─Conv2d: 3-85                 [1, 1024, 14, 14]    [1, 256, 14, 14]     (262,144)            False\n",
       "│    │    └─BatchNorm2d: 3-86            [1, 256, 14, 14]     [1, 256, 14, 14]     (512)                False\n",
       "│    │    └─ReLU: 3-87                   [1, 256, 14, 14]     [1, 256, 14, 14]     --                   --\n",
       "│    │    └─Conv2d: 3-88                 [1, 256, 14, 14]     [1, 256, 14, 14]     (589,824)            False\n",
       "│    │    └─BatchNorm2d: 3-89            [1, 256, 14, 14]     [1, 256, 14, 14]     (512)                False\n",
       "│    │    └─ReLU: 3-90                   [1, 256, 14, 14]     [1, 256, 14, 14]     --                   --\n",
       "│    │    └─Conv2d: 3-91                 [1, 256, 14, 14]     [1, 1024, 14, 14]    (262,144)            False\n",
       "│    │    └─BatchNorm2d: 3-92            [1, 1024, 14, 14]    [1, 1024, 14, 14]    (2,048)              False\n",
       "│    │    └─ReLU: 3-93                   [1, 1024, 14, 14]    [1, 1024, 14, 14]    --                   --\n",
       "│    └─Bottleneck: 2-11                  [1, 1024, 14, 14]    [1, 1024, 14, 14]    --                   False\n",
       "│    │    └─Conv2d: 3-94                 [1, 1024, 14, 14]    [1, 256, 14, 14]     (262,144)            False\n",
       "│    │    └─BatchNorm2d: 3-95            [1, 256, 14, 14]     [1, 256, 14, 14]     (512)                False\n",
       "│    │    └─ReLU: 3-96                   [1, 256, 14, 14]     [1, 256, 14, 14]     --                   --\n",
       "│    │    └─Conv2d: 3-97                 [1, 256, 14, 14]     [1, 256, 14, 14]     (589,824)            False\n",
       "│    │    └─BatchNorm2d: 3-98            [1, 256, 14, 14]     [1, 256, 14, 14]     (512)                False\n",
       "│    │    └─ReLU: 3-99                   [1, 256, 14, 14]     [1, 256, 14, 14]     --                   --\n",
       "│    │    └─Conv2d: 3-100                [1, 256, 14, 14]     [1, 1024, 14, 14]    (262,144)            False\n",
       "│    │    └─BatchNorm2d: 3-101           [1, 1024, 14, 14]    [1, 1024, 14, 14]    (2,048)              False\n",
       "│    │    └─ReLU: 3-102                  [1, 1024, 14, 14]    [1, 1024, 14, 14]    --                   --\n",
       "│    └─Bottleneck: 2-12                  [1, 1024, 14, 14]    [1, 1024, 14, 14]    --                   False\n",
       "│    │    └─Conv2d: 3-103                [1, 1024, 14, 14]    [1, 256, 14, 14]     (262,144)            False\n",
       "│    │    └─BatchNorm2d: 3-104           [1, 256, 14, 14]     [1, 256, 14, 14]     (512)                False\n",
       "│    │    └─ReLU: 3-105                  [1, 256, 14, 14]     [1, 256, 14, 14]     --                   --\n",
       "│    │    └─Conv2d: 3-106                [1, 256, 14, 14]     [1, 256, 14, 14]     (589,824)            False\n",
       "│    │    └─BatchNorm2d: 3-107           [1, 256, 14, 14]     [1, 256, 14, 14]     (512)                False\n",
       "│    │    └─ReLU: 3-108                  [1, 256, 14, 14]     [1, 256, 14, 14]     --                   --\n",
       "│    │    └─Conv2d: 3-109                [1, 256, 14, 14]     [1, 1024, 14, 14]    (262,144)            False\n",
       "│    │    └─BatchNorm2d: 3-110           [1, 1024, 14, 14]    [1, 1024, 14, 14]    (2,048)              False\n",
       "│    │    └─ReLU: 3-111                  [1, 1024, 14, 14]    [1, 1024, 14, 14]    --                   --\n",
       "│    └─Bottleneck: 2-13                  [1, 1024, 14, 14]    [1, 1024, 14, 14]    --                   False\n",
       "│    │    └─Conv2d: 3-112                [1, 1024, 14, 14]    [1, 256, 14, 14]     (262,144)            False\n",
       "│    │    └─BatchNorm2d: 3-113           [1, 256, 14, 14]     [1, 256, 14, 14]     (512)                False\n",
       "│    │    └─ReLU: 3-114                  [1, 256, 14, 14]     [1, 256, 14, 14]     --                   --\n",
       "│    │    └─Conv2d: 3-115                [1, 256, 14, 14]     [1, 256, 14, 14]     (589,824)            False\n",
       "│    │    └─BatchNorm2d: 3-116           [1, 256, 14, 14]     [1, 256, 14, 14]     (512)                False\n",
       "│    │    └─ReLU: 3-117                  [1, 256, 14, 14]     [1, 256, 14, 14]     --                   --\n",
       "│    │    └─Conv2d: 3-118                [1, 256, 14, 14]     [1, 1024, 14, 14]    (262,144)            False\n",
       "│    │    └─BatchNorm2d: 3-119           [1, 1024, 14, 14]    [1, 1024, 14, 14]    (2,048)              False\n",
       "│    │    └─ReLU: 3-120                  [1, 1024, 14, 14]    [1, 1024, 14, 14]    --                   --\n",
       "├─Sequential: 1-8                        [1, 1024, 14, 14]    [1, 2048, 7, 7]      --                   False\n",
       "│    └─Bottleneck: 2-14                  [1, 1024, 14, 14]    [1, 2048, 7, 7]      --                   False\n",
       "│    │    └─Conv2d: 3-121                [1, 1024, 14, 14]    [1, 512, 14, 14]     (524,288)            False\n",
       "│    │    └─BatchNorm2d: 3-122           [1, 512, 14, 14]     [1, 512, 14, 14]     (1,024)              False\n",
       "│    │    └─ReLU: 3-123                  [1, 512, 14, 14]     [1, 512, 14, 14]     --                   --\n",
       "│    │    └─Conv2d: 3-124                [1, 512, 14, 14]     [1, 512, 7, 7]       (2,359,296)          False\n",
       "│    │    └─BatchNorm2d: 3-125           [1, 512, 7, 7]       [1, 512, 7, 7]       (1,024)              False\n",
       "│    │    └─ReLU: 3-126                  [1, 512, 7, 7]       [1, 512, 7, 7]       --                   --\n",
       "│    │    └─Conv2d: 3-127                [1, 512, 7, 7]       [1, 2048, 7, 7]      (1,048,576)          False\n",
       "│    │    └─BatchNorm2d: 3-128           [1, 2048, 7, 7]      [1, 2048, 7, 7]      (4,096)              False\n",
       "│    │    └─Sequential: 3-129            [1, 1024, 14, 14]    [1, 2048, 7, 7]      (2,101,248)          False\n",
       "│    │    └─ReLU: 3-130                  [1, 2048, 7, 7]      [1, 2048, 7, 7]      --                   --\n",
       "│    └─Bottleneck: 2-15                  [1, 2048, 7, 7]      [1, 2048, 7, 7]      --                   False\n",
       "│    │    └─Conv2d: 3-131                [1, 2048, 7, 7]      [1, 512, 7, 7]       (1,048,576)          False\n",
       "│    │    └─BatchNorm2d: 3-132           [1, 512, 7, 7]       [1, 512, 7, 7]       (1,024)              False\n",
       "│    │    └─ReLU: 3-133                  [1, 512, 7, 7]       [1, 512, 7, 7]       --                   --\n",
       "│    │    └─Conv2d: 3-134                [1, 512, 7, 7]       [1, 512, 7, 7]       (2,359,296)          False\n",
       "│    │    └─BatchNorm2d: 3-135           [1, 512, 7, 7]       [1, 512, 7, 7]       (1,024)              False\n",
       "│    │    └─ReLU: 3-136                  [1, 512, 7, 7]       [1, 512, 7, 7]       --                   --\n",
       "│    │    └─Conv2d: 3-137                [1, 512, 7, 7]       [1, 2048, 7, 7]      (1,048,576)          False\n",
       "│    │    └─BatchNorm2d: 3-138           [1, 2048, 7, 7]      [1, 2048, 7, 7]      (4,096)              False\n",
       "│    │    └─ReLU: 3-139                  [1, 2048, 7, 7]      [1, 2048, 7, 7]      --                   --\n",
       "│    └─Bottleneck: 2-16                  [1, 2048, 7, 7]      [1, 2048, 7, 7]      --                   False\n",
       "│    │    └─Conv2d: 3-140                [1, 2048, 7, 7]      [1, 512, 7, 7]       (1,048,576)          False\n",
       "│    │    └─BatchNorm2d: 3-141           [1, 512, 7, 7]       [1, 512, 7, 7]       (1,024)              False\n",
       "│    │    └─ReLU: 3-142                  [1, 512, 7, 7]       [1, 512, 7, 7]       --                   --\n",
       "│    │    └─Conv2d: 3-143                [1, 512, 7, 7]       [1, 512, 7, 7]       (2,359,296)          False\n",
       "│    │    └─BatchNorm2d: 3-144           [1, 512, 7, 7]       [1, 512, 7, 7]       (1,024)              False\n",
       "│    │    └─ReLU: 3-145                  [1, 512, 7, 7]       [1, 512, 7, 7]       --                   --\n",
       "│    │    └─Conv2d: 3-146                [1, 512, 7, 7]       [1, 2048, 7, 7]      (1,048,576)          False\n",
       "│    │    └─BatchNorm2d: 3-147           [1, 2048, 7, 7]      [1, 2048, 7, 7]      (4,096)              False\n",
       "│    │    └─ReLU: 3-148                  [1, 2048, 7, 7]      [1, 2048, 7, 7]      --                   --\n",
       "├─AdaptiveAvgPool2d: 1-9                 [1, 2048, 7, 7]      [1, 2048, 1, 1]      --                   --\n",
       "├─Linear: 1-10                           [1, 2048]            [1, 65]              133,185              True\n",
       "========================================================================================================================\n",
       "Total params: 23,641,217\n",
       "Trainable params: 133,185\n",
       "Non-trainable params: 23,508,032\n",
       "Total mult-adds (Units.GIGABYTES): 4.09\n",
       "========================================================================================================================\n",
       "Input size (MB): 0.60\n",
       "Forward/backward pass size (MB): 177.82\n",
       "Params size (MB): 94.56\n",
       "Estimated Total Size (MB): 272.99\n",
       "========================================================================================================================"
      ]
     },
     "execution_count": 11,
     "metadata": {},
     "output_type": "execute_result"
    }
   ],
   "source": [
    "baseline = init_model('resnet', num_classes=len(source_ds.classes), freeze_backbone=True)\n",
    "summary(baseline,\n",
    "        input_size=(1, 3, 224, 224),\n",
    "        col_names=[\"input_size\", \"output_size\", \"num_params\", \"trainable\"],\n",
    "        col_width=20,)"
   ]
  },
  {
   "cell_type": "code",
   "execution_count": 17,
   "id": "f35479d7",
   "metadata": {},
   "outputs": [],
   "source": [
    "import torch\n",
    "from torch.utils.data import Dataset, DataLoader\n",
    "from torchvision import models\n",
    "from tqdm import tqdm\n",
    "\n",
    "def _truncate_resnet(model, layer_name):\n",
    "        layers = nn.Sequential()\n",
    "        for name, module in model.named_children():\n",
    "            layers.add_module( name, module)\n",
    "            if name == layer_name:\n",
    "                break\n",
    "        return layers\n",
    "\n",
    "def _truncate_resnet_from(model, layer_name):\n",
    "        seen = False\n",
    "        layers = nn.Sequential()\n",
    "        for name, module in model.named_children():\n",
    "            if seen:\n",
    "                layers.add_module( name, module)\n",
    "            if name == layer_name:\n",
    "                seen = True\n",
    "        return layers\n",
    "\n",
    "\n",
    "class FeatureTensorDataset(Dataset):\n",
    "    def __init__(self, dataset, base_model, layer_name=\"layer3\", device=\"cpu\", batch_size=32):\n",
    "        self.dataset = dataset\n",
    "        self.device = device\n",
    "        self.layer_name = layer_name\n",
    "\n",
    "        base_model.eval()\n",
    "        self.feature_extractor = _truncate_resnet(base_model, layer_name).to(device)\n",
    "        self.feature_extractor.eval()        \n",
    "        self.x, self.y = self._precompute_features(dataset, batch_size)\n",
    "\n",
    "        self.truncated_model = _truncate_resnet_from(base_model, layer_name).to(device)\n",
    "\n",
    "    \n",
    "    def _precompute_features(self, dataset, batch_size):\n",
    "        loader = DataLoader(dataset, batch_size=batch_size, shuffle=False)\n",
    "        feats, labels = [], []\n",
    "\n",
    "        with torch.inference_mode():\n",
    "            for imgs, lbls in tqdm(loader, desc=f\"Precomputing up to {self.layer_name}\"):\n",
    "                imgs = imgs.to(self.device)\n",
    "                outputs = self.feature_extractor(imgs)\n",
    "                feats.append(outputs.cpu())\n",
    "                labels.append(lbls)\n",
    "\n",
    "        x = torch.cat(feats)\n",
    "        y = torch.cat(labels)\n",
    "        return x, y\n",
    "\n",
    "    def __len__(self):\n",
    "        return len(self.x)\n",
    "\n",
    "    def __getitem__(self, idx):\n",
    "        return self.x[idx], self.y[idx]"
   ]
  },
  {
   "cell_type": "code",
   "execution_count": 55,
   "id": "5480742e",
   "metadata": {},
   "outputs": [],
   "source": [
    "baseline = init_model('resnet', num_classes=len(source_ds.classes), freeze_backbone=True)"
   ]
  },
  {
   "cell_type": "code",
   "execution_count": null,
   "id": "48b4658e",
   "metadata": {},
   "outputs": [
    {
     "name": "stderr",
     "output_type": "stream",
     "text": [
      "Precomputing up to layer3: 100%|██████████| 176/176 [03:47<00:00,  1.29s/it]\n",
      "Precomputing up to layer3: 100%|██████████| 69/69 [00:48<00:00,  1.43it/s]\n"
     ]
    }
   ],
   "source": [
    "cache_office_home_l3s  =  FeatureTensorDataset(source_ds, baseline, layer_name='layer3', device=device, batch_size= 64)\n",
    "cache_office_home_l3t  =  FeatureTensorDataset(target_ds, baseline, layer_name='layer3', device=device, batch_size= 64)\n"
   ]
  },
  {
   "cell_type": "code",
   "execution_count": null,
   "id": "8a15709c",
   "metadata": {},
   "outputs": [],
   "source": [
    "truncated_model = cache_office_home_l3s.truncated_model"
   ]
  },
  {
   "cell_type": "code",
   "execution_count": 58,
   "id": "cbf63ba2",
   "metadata": {},
   "outputs": [],
   "source": [
    "saved_weights = {k: v.clone() for k, v in truncated_model.state_dict().items()}"
   ]
  },
  {
   "cell_type": "code",
   "execution_count": 70,
   "id": "10f9e632",
   "metadata": {},
   "outputs": [],
   "source": [
    "import types\n",
    "def _forward_impl(self, x):\n",
    "    f4 = self.layer4(x)\n",
    "\n",
    "    x = torch.flatten(self.avgpool(f4), 1)\n",
    "    x = self.fc(x)\n",
    "    return x\n",
    "\n",
    "truncated_model.forward = types.MethodType(_forward_impl, truncated_model)"
   ]
  },
  {
   "cell_type": "code",
   "execution_count": 74,
   "id": "82ee1e6b",
   "metadata": {},
   "outputs": [
    {
     "data": {
      "text/plain": [
       "<All keys matched successfully>"
      ]
     },
     "execution_count": 74,
     "metadata": {},
     "output_type": "execute_result"
    }
   ],
   "source": [
    "truncated_model.load_state_dict(saved_weights) # to reset the model if needed"
   ]
  },
  {
   "cell_type": "code",
   "execution_count": 75,
   "id": "b5b82a39",
   "metadata": {},
   "outputs": [
    {
     "name": "stderr",
     "output_type": "stream",
     "text": [
      "  0%|          | 0/30 [00:00<?, ?it/s]"
     ]
    },
    {
     "name": "stdout",
     "output_type": "stream",
     "text": [
      "epoch: 1\n",
      "\n",
      "Train loss: 3.95938 |  Train acc: 13.49 %\n",
      "\n",
      "Test loss: 3.92730 | Test acc: 13.81 %\n",
      "\n"
     ]
    },
    {
     "name": "stderr",
     "output_type": "stream",
     "text": [
      "  3%|▎         | 1/30 [00:14<07:10, 14.85s/it]"
     ]
    },
    {
     "name": "stdout",
     "output_type": "stream",
     "text": [
      "epoch: 2\n",
      "\n",
      "Train loss: 3.49064 |  Train acc: 37.88 %\n",
      "\n",
      "Test loss: 3.68145 | Test acc: 24.44 %\n",
      "\n"
     ]
    },
    {
     "name": "stderr",
     "output_type": "stream",
     "text": [
      "  7%|▋         | 2/30 [00:29<06:54, 14.80s/it]"
     ]
    },
    {
     "name": "stdout",
     "output_type": "stream",
     "text": [
      "epoch: 3\n",
      "\n",
      "Train loss: 3.09115 |  Train acc: 51.35 %\n",
      "\n",
      "Test loss: 3.46806 | Test acc: 30.84 %\n",
      "\n"
     ]
    },
    {
     "name": "stderr",
     "output_type": "stream",
     "text": [
      " 10%|█         | 3/30 [00:44<06:39, 14.81s/it]"
     ]
    },
    {
     "name": "stdout",
     "output_type": "stream",
     "text": [
      "epoch: 4\n",
      "\n",
      "Train loss: 2.74913 |  Train acc: 60.35 %\n",
      "\n",
      "Test loss: 3.28505 | Test acc: 34.91 %\n",
      "\n"
     ]
    },
    {
     "name": "stderr",
     "output_type": "stream",
     "text": [
      " 13%|█▎        | 4/30 [00:59<06:25, 14.81s/it]"
     ]
    },
    {
     "name": "stdout",
     "output_type": "stream",
     "text": [
      "epoch: 5\n",
      "\n",
      "Train loss: 2.46509 |  Train acc: 65.06 %\n",
      "\n",
      "Test loss: 3.13318 | Test acc: 37.09 %\n",
      "\n"
     ]
    },
    {
     "name": "stderr",
     "output_type": "stream",
     "text": [
      " 17%|█▋        | 5/30 [01:14<06:10, 14.81s/it]"
     ]
    },
    {
     "name": "stdout",
     "output_type": "stream",
     "text": [
      "epoch: 6\n",
      "\n",
      "Train loss: 2.22864 |  Train acc: 69.33 %\n",
      "\n",
      "Test loss: 3.00670 | Test acc: 38.97 %\n",
      "\n"
     ]
    },
    {
     "name": "stderr",
     "output_type": "stream",
     "text": [
      " 20%|██        | 6/30 [01:28<05:54, 14.78s/it]"
     ]
    },
    {
     "name": "stdout",
     "output_type": "stream",
     "text": [
      "epoch: 7\n",
      "\n",
      "Train loss: 2.03906 |  Train acc: 71.18 %\n",
      "\n",
      "Test loss: 2.88698 | Test acc: 40.71 %\n",
      "\n"
     ]
    },
    {
     "name": "stderr",
     "output_type": "stream",
     "text": [
      " 23%|██▎       | 7/30 [01:43<05:39, 14.75s/it]"
     ]
    },
    {
     "name": "stdout",
     "output_type": "stream",
     "text": [
      "epoch: 8\n",
      "\n",
      "Train loss: 1.87633 |  Train acc: 72.88 %\n",
      "\n",
      "Test loss: 2.81181 | Test acc: 40.99 %\n",
      "\n"
     ]
    },
    {
     "name": "stderr",
     "output_type": "stream",
     "text": [
      " 27%|██▋       | 8/30 [01:58<05:25, 14.81s/it]"
     ]
    },
    {
     "name": "stdout",
     "output_type": "stream",
     "text": [
      "epoch: 9\n",
      "\n",
      "Train loss: 1.74433 |  Train acc: 74.85 %\n",
      "\n",
      "Test loss: 2.76301 | Test acc: 41.56 %\n",
      "\n"
     ]
    },
    {
     "name": "stderr",
     "output_type": "stream",
     "text": [
      " 30%|███       | 9/30 [02:13<05:10, 14.80s/it]"
     ]
    },
    {
     "name": "stdout",
     "output_type": "stream",
     "text": [
      "epoch: 10\n",
      "\n",
      "Train loss: 1.63183 |  Train acc: 75.93 %\n",
      "\n",
      "Test loss: 2.68288 | Test acc: 41.72 %\n",
      "\n"
     ]
    },
    {
     "name": "stderr",
     "output_type": "stream",
     "text": [
      " 33%|███▎      | 10/30 [02:28<04:56, 14.81s/it]"
     ]
    },
    {
     "name": "stdout",
     "output_type": "stream",
     "text": [
      "epoch: 11\n",
      "\n",
      "Train loss: 1.53852 |  Train acc: 76.84 %\n",
      "\n",
      "Test loss: 2.63480 | Test acc: 42.25 %\n",
      "\n"
     ]
    },
    {
     "name": "stderr",
     "output_type": "stream",
     "text": [
      " 37%|███▋      | 11/30 [02:42<04:41, 14.80s/it]"
     ]
    },
    {
     "name": "stdout",
     "output_type": "stream",
     "text": [
      "epoch: 12\n",
      "\n",
      "Train loss: 1.45407 |  Train acc: 77.47 %\n",
      "\n",
      "Test loss: 2.59314 | Test acc: 42.84 %\n",
      "\n"
     ]
    },
    {
     "name": "stderr",
     "output_type": "stream",
     "text": [
      " 40%|████      | 12/30 [02:57<04:26, 14.80s/it]"
     ]
    },
    {
     "name": "stdout",
     "output_type": "stream",
     "text": [
      "epoch: 13\n",
      "\n",
      "Train loss: 1.38609 |  Train acc: 77.87 %\n",
      "\n",
      "Test loss: 2.56263 | Test acc: 43.00 %\n",
      "\n"
     ]
    },
    {
     "name": "stderr",
     "output_type": "stream",
     "text": [
      " 43%|████▎     | 13/30 [03:12<04:11, 14.81s/it]"
     ]
    },
    {
     "name": "stdout",
     "output_type": "stream",
     "text": [
      "epoch: 14\n",
      "\n",
      "Train loss: 1.32737 |  Train acc: 78.05 %\n",
      "\n",
      "Test loss: 2.52086 | Test acc: 42.79 %\n",
      "\n"
     ]
    },
    {
     "name": "stderr",
     "output_type": "stream",
     "text": [
      " 47%|████▋     | 14/30 [03:27<03:57, 14.81s/it]"
     ]
    },
    {
     "name": "stdout",
     "output_type": "stream",
     "text": [
      "epoch: 15\n",
      "\n",
      "Train loss: 1.27312 |  Train acc: 78.49 %\n",
      "\n",
      "Test loss: 2.48209 | Test acc: 43.55 %\n",
      "\n"
     ]
    },
    {
     "name": "stderr",
     "output_type": "stream",
     "text": [
      " 50%|█████     | 15/30 [03:41<03:41, 14.77s/it]"
     ]
    },
    {
     "name": "stdout",
     "output_type": "stream",
     "text": [
      "epoch: 16\n",
      "\n",
      "Train loss: 1.22355 |  Train acc: 79.37 %\n",
      "\n",
      "Test loss: 2.47631 | Test acc: 43.46 %\n",
      "\n"
     ]
    },
    {
     "name": "stderr",
     "output_type": "stream",
     "text": [
      " 53%|█████▎    | 16/30 [03:56<03:26, 14.75s/it]"
     ]
    },
    {
     "name": "stdout",
     "output_type": "stream",
     "text": [
      "epoch: 17\n",
      "\n",
      "Train loss: 1.18593 |  Train acc: 79.20 %\n",
      "\n",
      "Test loss: 2.45570 | Test acc: 43.09 %\n",
      "\n"
     ]
    },
    {
     "name": "stderr",
     "output_type": "stream",
     "text": [
      " 57%|█████▋    | 17/30 [04:11<03:11, 14.74s/it]"
     ]
    },
    {
     "name": "stdout",
     "output_type": "stream",
     "text": [
      "epoch: 18\n",
      "\n",
      "Train loss: 1.14570 |  Train acc: 79.72 %\n",
      "\n",
      "Test loss: 2.44996 | Test acc: 43.48 %\n",
      "\n"
     ]
    },
    {
     "name": "stderr",
     "output_type": "stream",
     "text": [
      " 60%|██████    | 18/30 [04:25<02:56, 14.71s/it]"
     ]
    },
    {
     "name": "stdout",
     "output_type": "stream",
     "text": [
      "epoch: 19\n",
      "\n",
      "Train loss: 1.12069 |  Train acc: 79.89 %\n",
      "\n",
      "Test loss: 2.41889 | Test acc: 43.34 %\n",
      "\n"
     ]
    },
    {
     "name": "stderr",
     "output_type": "stream",
     "text": [
      " 63%|██████▎   | 19/30 [04:40<02:41, 14.72s/it]"
     ]
    },
    {
     "name": "stdout",
     "output_type": "stream",
     "text": [
      "epoch: 20\n",
      "\n",
      "Train loss: 1.08661 |  Train acc: 80.21 %\n",
      "\n",
      "Test loss: 2.38236 | Test acc: 43.76 %\n",
      "\n"
     ]
    },
    {
     "name": "stderr",
     "output_type": "stream",
     "text": [
      " 67%|██████▋   | 20/30 [04:55<02:26, 14.65s/it]"
     ]
    },
    {
     "name": "stdout",
     "output_type": "stream",
     "text": [
      "epoch: 21\n",
      "\n",
      "Train loss: 1.06119 |  Train acc: 80.56 %\n",
      "\n",
      "Test loss: 2.39181 | Test acc: 43.78 %\n",
      "\n"
     ]
    },
    {
     "name": "stderr",
     "output_type": "stream",
     "text": [
      " 70%|███████   | 21/30 [05:09<02:11, 14.63s/it]"
     ]
    },
    {
     "name": "stdout",
     "output_type": "stream",
     "text": [
      "epoch: 22\n",
      "\n",
      "Train loss: 1.03211 |  Train acc: 80.54 %\n",
      "\n",
      "Test loss: 2.39078 | Test acc: 43.39 %\n",
      "\n"
     ]
    },
    {
     "name": "stderr",
     "output_type": "stream",
     "text": [
      " 73%|███████▎  | 22/30 [05:24<01:56, 14.62s/it]"
     ]
    },
    {
     "name": "stdout",
     "output_type": "stream",
     "text": [
      "epoch: 23\n",
      "\n",
      "Train loss: 1.01023 |  Train acc: 80.76 %\n",
      "\n",
      "Test loss: 2.37637 | Test acc: 43.76 %\n",
      "\n"
     ]
    },
    {
     "name": "stderr",
     "output_type": "stream",
     "text": [
      " 77%|███████▋  | 23/30 [05:38<01:42, 14.57s/it]"
     ]
    },
    {
     "name": "stdout",
     "output_type": "stream",
     "text": [
      "epoch: 24\n",
      "\n",
      "Train loss: 0.98704 |  Train acc: 81.38 %\n",
      "\n",
      "Test loss: 2.37303 | Test acc: 43.25 %\n",
      "\n"
     ]
    },
    {
     "name": "stderr",
     "output_type": "stream",
     "text": [
      " 80%|████████  | 24/30 [05:53<01:27, 14.61s/it]"
     ]
    },
    {
     "name": "stdout",
     "output_type": "stream",
     "text": [
      "epoch: 25\n",
      "\n",
      "Train loss: 0.96741 |  Train acc: 81.41 %\n",
      "\n",
      "Test loss: 2.34179 | Test acc: 44.05 %\n",
      "\n"
     ]
    },
    {
     "name": "stderr",
     "output_type": "stream",
     "text": [
      " 83%|████████▎ | 25/30 [06:08<01:13, 14.62s/it]"
     ]
    },
    {
     "name": "stdout",
     "output_type": "stream",
     "text": [
      "epoch: 26\n",
      "\n",
      "Train loss: 0.95351 |  Train acc: 81.31 %\n",
      "\n",
      "Test loss: 2.33065 | Test acc: 44.08 %\n",
      "\n"
     ]
    },
    {
     "name": "stderr",
     "output_type": "stream",
     "text": [
      " 87%|████████▋ | 26/30 [06:22<00:58, 14.62s/it]"
     ]
    },
    {
     "name": "stdout",
     "output_type": "stream",
     "text": [
      "epoch: 27\n",
      "\n",
      "Train loss: 0.93252 |  Train acc: 81.64 %\n",
      "\n",
      "Test loss: 2.33935 | Test acc: 43.89 %\n",
      "\n"
     ]
    },
    {
     "name": "stderr",
     "output_type": "stream",
     "text": [
      " 90%|█████████ | 27/30 [06:37<00:43, 14.63s/it]"
     ]
    },
    {
     "name": "stdout",
     "output_type": "stream",
     "text": [
      "epoch: 28\n",
      "\n",
      "Train loss: 0.91455 |  Train acc: 81.48 %\n",
      "\n",
      "Test loss: 2.32247 | Test acc: 44.10 %\n",
      "\n"
     ]
    },
    {
     "name": "stderr",
     "output_type": "stream",
     "text": [
      " 93%|█████████▎| 28/30 [06:52<00:29, 14.66s/it]"
     ]
    },
    {
     "name": "stdout",
     "output_type": "stream",
     "text": [
      "epoch: 29\n",
      "\n",
      "Train loss: 0.90307 |  Train acc: 81.91 %\n",
      "\n",
      "Test loss: 2.32848 | Test acc: 44.03 %\n",
      "\n"
     ]
    },
    {
     "name": "stderr",
     "output_type": "stream",
     "text": [
      " 97%|█████████▋| 29/30 [07:06<00:14, 14.67s/it]"
     ]
    },
    {
     "name": "stdout",
     "output_type": "stream",
     "text": [
      "epoch: 30\n",
      "\n",
      "Train loss: 0.88950 |  Train acc: 82.28 %\n",
      "\n",
      "Test loss: 2.33518 | Test acc: 43.73 %\n",
      "\n"
     ]
    },
    {
     "name": "stderr",
     "output_type": "stream",
     "text": [
      "100%|██████████| 30/30 [07:21<00:00, 14.72s/it]\n"
     ]
    },
    {
     "data": {
      "image/png": "[encoded data removed]",
      "text/plain": [
       "<Figure size 1000x300 with 2 Axes>"
      ]
     },
     "metadata": {},
     "output_type": "display_data"
    },
    {
     "name": "stdout",
     "output_type": "stream",
     "text": [
      "Evaluation On Test Set\n"
     ]
    },
    {
     "ename": "AttributeError",
     "evalue": "'FeatureTensorDataset' object has no attribute 'classes'",
     "output_type": "error",
     "traceback": [
      "\u001b[0;31m---------------------------------------------------------------------------\u001b[0m",
      "\u001b[0;31mAttributeError\u001b[0m                            Traceback (most recent call last)",
      "\u001b[0;32m/tmp/ipykernel_77/1653682920.py\u001b[0m in \u001b[0;36m<cell line: 0>\u001b[0;34m()\u001b[0m\n\u001b[1;32m      1\u001b[0m \u001b[0mconfig\u001b[0m \u001b[0;34m=\u001b[0m \u001b[0;34m{\u001b[0m\u001b[0;34m'epochs'\u001b[0m\u001b[0;34m:\u001b[0m\u001b[0;36m30\u001b[0m\u001b[0;34m,\u001b[0m \u001b[0;34m'lr'\u001b[0m\u001b[0;34m:\u001b[0m\u001b[0;36m1e-3\u001b[0m\u001b[0;34m,\u001b[0m \u001b[0;34m'batch_size'\u001b[0m\u001b[0;34m:\u001b[0m\u001b[0;36m32\u001b[0m\u001b[0;34m,\u001b[0m \u001b[0;34m'weight_decay'\u001b[0m\u001b[0;34m:\u001b[0m\u001b[0;36m1e-5\u001b[0m\u001b[0;34m}\u001b[0m\u001b[0;34m\u001b[0m\u001b[0;34m\u001b[0m\u001b[0m\n\u001b[0;32m----> 2\u001b[0;31m \u001b[0mtrain_workflow\u001b[0m\u001b[0;34m(\u001b[0m\u001b[0mtruncated_model\u001b[0m\u001b[0;34m,\u001b[0m \u001b[0mcache_office_home_l3s\u001b[0m \u001b[0;34m,\u001b[0m \u001b[0mcache_office_home_l3t\u001b[0m\u001b[0;34m,\u001b[0m \u001b[0mconfig\u001b[0m\u001b[0;34m)\u001b[0m\u001b[0;34m\u001b[0m\u001b[0;34m\u001b[0m\u001b[0m\n\u001b[0m",
      "\u001b[0;32m/tmp/ipykernel_77/1680098094.py\u001b[0m in \u001b[0;36mtrain_workflow\u001b[0;34m(model, train_dataset, val_dataset, config)\u001b[0m\n\u001b[1;32m    185\u001b[0m     \u001b[0mplot_dynamics\u001b[0m\u001b[0;34m(\u001b[0m\u001b[0mtrain_losses\u001b[0m\u001b[0;34m,\u001b[0m \u001b[0mtest_losses\u001b[0m\u001b[0;34m,\u001b[0m \u001b[0mtrain_accuracies\u001b[0m\u001b[0;34m,\u001b[0m \u001b[0mtest_accuracies\u001b[0m\u001b[0;34m)\u001b[0m\u001b[0;34m\u001b[0m\u001b[0;34m\u001b[0m\u001b[0m\n\u001b[1;32m    186\u001b[0m     \u001b[0mprint\u001b[0m\u001b[0;34m(\u001b[0m\u001b[0;34m\"Evaluation On Test Set\"\u001b[0m\u001b[0;34m)\u001b[0m\u001b[0;34m\u001b[0m\u001b[0;34m\u001b[0m\u001b[0m\n\u001b[0;32m--> 187\u001b[0;31m     \u001b[0meval_model\u001b[0m\u001b[0;34m(\u001b[0m\u001b[0mval_dataset\u001b[0m\u001b[0;34m,\u001b[0m \u001b[0mmodel\u001b[0m\u001b[0;34m,\u001b[0m \u001b[0mdevice\u001b[0m\u001b[0;34m)\u001b[0m\u001b[0;34m\u001b[0m\u001b[0;34m\u001b[0m\u001b[0m\n\u001b[0m\u001b[1;32m    188\u001b[0m     \u001b[0mprint\u001b[0m\u001b[0;34m(\u001b[0m\u001b[0;34m\"Evaluation On Train Set\"\u001b[0m\u001b[0;34m)\u001b[0m\u001b[0;34m\u001b[0m\u001b[0;34m\u001b[0m\u001b[0m\n\u001b[1;32m    189\u001b[0m     \u001b[0meval_model\u001b[0m\u001b[0;34m(\u001b[0m\u001b[0mtrain_dataset\u001b[0m\u001b[0;34m,\u001b[0m \u001b[0mmodel\u001b[0m\u001b[0;34m,\u001b[0m \u001b[0mdevice\u001b[0m\u001b[0;34m)\u001b[0m\u001b[0;34m\u001b[0m\u001b[0;34m\u001b[0m\u001b[0m\n",
      "\u001b[0;32m/tmp/ipykernel_77/1680098094.py\u001b[0m in \u001b[0;36meval_model\u001b[0;34m(ds, model, device)\u001b[0m\n\u001b[1;32m    107\u001b[0m         \u001b[0mall_targets\u001b[0m \u001b[0;34m=\u001b[0m \u001b[0mtorch\u001b[0m\u001b[0;34m.\u001b[0m\u001b[0mconcat\u001b[0m\u001b[0;34m(\u001b[0m\u001b[0mall_targets\u001b[0m\u001b[0;34m,\u001b[0m \u001b[0mdim\u001b[0m\u001b[0;34m=\u001b[0m\u001b[0;36m0\u001b[0m\u001b[0;34m)\u001b[0m\u001b[0;34m\u001b[0m\u001b[0;34m\u001b[0m\u001b[0m\n\u001b[1;32m    108\u001b[0m \u001b[0;34m\u001b[0m\u001b[0m\n\u001b[0;32m--> 109\u001b[0;31m     \u001b[0mclasses\u001b[0m \u001b[0;34m=\u001b[0m \u001b[0mget_classes\u001b[0m\u001b[0;34m(\u001b[0m\u001b[0mds\u001b[0m\u001b[0;34m)\u001b[0m\u001b[0;34m\u001b[0m\u001b[0;34m\u001b[0m\u001b[0m\n\u001b[0m\u001b[1;32m    110\u001b[0m     \u001b[0mmts\u001b[0m \u001b[0;34m=\u001b[0m \u001b[0mmetrics\u001b[0m\u001b[0;34m(\u001b[0m\u001b[0mall_preds\u001b[0m\u001b[0;34m,\u001b[0m \u001b[0mall_targets\u001b[0m\u001b[0;34m,\u001b[0m \u001b[0mclasses\u001b[0m\u001b[0;34m=\u001b[0m\u001b[0mclasses\u001b[0m\u001b[0;34m)\u001b[0m\u001b[0;34m\u001b[0m\u001b[0;34m\u001b[0m\u001b[0m\n\u001b[1;32m    111\u001b[0m     \u001b[0mdisplay_metrics\u001b[0m\u001b[0;34m(\u001b[0m\u001b[0mmts\u001b[0m\u001b[0;34m,\u001b[0m \u001b[0mclasses\u001b[0m\u001b[0;34m)\u001b[0m\u001b[0;34m\u001b[0m\u001b[0;34m\u001b[0m\u001b[0m\n",
      "\u001b[0;32m/tmp/ipykernel_77/1680098094.py\u001b[0m in \u001b[0;36mget_classes\u001b[0;34m(ds)\u001b[0m\n\u001b[1;32m     88\u001b[0m         \u001b[0;32mreturn\u001b[0m \u001b[0msorted\u001b[0m\u001b[0;34m(\u001b[0m\u001b[0mlist\u001b[0m\u001b[0;34m(\u001b[0m\u001b[0mclasses\u001b[0m\u001b[0;34m)\u001b[0m\u001b[0;34m)\u001b[0m\u001b[0;34m\u001b[0m\u001b[0;34m\u001b[0m\u001b[0m\n\u001b[1;32m     89\u001b[0m     \u001b[0;32melse\u001b[0m\u001b[0;34m:\u001b[0m\u001b[0;34m\u001b[0m\u001b[0;34m\u001b[0m\u001b[0m\n\u001b[0;32m---> 90\u001b[0;31m         \u001b[0;32mreturn\u001b[0m \u001b[0mds\u001b[0m\u001b[0;34m.\u001b[0m\u001b[0mclasses\u001b[0m\u001b[0;34m\u001b[0m\u001b[0;34m\u001b[0m\u001b[0m\n\u001b[0m\u001b[1;32m     91\u001b[0m \u001b[0;34m\u001b[0m\u001b[0m\n\u001b[1;32m     92\u001b[0m \u001b[0;32mdef\u001b[0m \u001b[0meval_model\u001b[0m\u001b[0;34m(\u001b[0m\u001b[0mds\u001b[0m\u001b[0;34m:\u001b[0m \u001b[0mtorch\u001b[0m\u001b[0;34m.\u001b[0m\u001b[0mutils\u001b[0m\u001b[0;34m.\u001b[0m\u001b[0mdata\u001b[0m\u001b[0;34m.\u001b[0m\u001b[0mDataset\u001b[0m\u001b[0;34m,\u001b[0m \u001b[0mmodel\u001b[0m\u001b[0;34m:\u001b[0m \u001b[0mtorch\u001b[0m\u001b[0;34m.\u001b[0m\u001b[0mnn\u001b[0m\u001b[0;34m.\u001b[0m\u001b[0mModule\u001b[0m\u001b[0;34m,\u001b[0m \u001b[0mdevice\u001b[0m\u001b[0;34m:\u001b[0m \u001b[0mtorch\u001b[0m\u001b[0;34m.\u001b[0m\u001b[0mdevice\u001b[0m\u001b[0;34m,\u001b[0m\u001b[0;34m)\u001b[0m\u001b[0;34m:\u001b[0m\u001b[0;34m\u001b[0m\u001b[0;34m\u001b[0m\u001b[0m\n",
      "\u001b[0;31mAttributeError\u001b[0m: 'FeatureTensorDataset' object has no attribute 'classes'"
     ]
    }
   ],
   "source": [
    "config = {'epochs':30, 'lr':1e-3, 'batch_size':32, 'weight_decay':1e-5}\n",
    "train_workflow(truncated_model, cache_office_home_l3s , cache_office_home_l3t, config)"
   ]
  },
  {
   "cell_type": "code",
   "execution_count": 107,
   "id": "c754cda5",
   "metadata": {},
   "outputs": [],
   "source": [
    "from dataclasses import dataclass\n",
    "\n",
    "@dataclass\n",
    "class configuration:\n",
    "    epochs: int\n",
    "    lr: float\n",
    "    weight_decay: float \n",
    "    momentum: float\n",
    "    save_path: str\n",
    "    batch_size: int\n",
    "\n",
    "args = configuration(epochs=25, lr=1e-3, weight_decay=0, momentum=0, save_path=None,batch_size= 24)\n"
   ]
  },
  {
   "cell_type": "code",
   "execution_count": null,
   "id": "4affeb4c",
   "metadata": {},
   "outputs": [],
   "source": [
    "# del cachedOfficeNetSourcef3 \n",
    "# del cachedOfficeNetTargetf3"
   ]
  },
  {
   "cell_type": "code",
   "execution_count": 108,
   "id": "1b6361c5",
   "metadata": {},
   "outputs": [],
   "source": [
    "device = torch.device(\"cuda\" if torch.cuda.is_available() else \"cpu\")\n",
    "baseline = init_model(\"resnet\", num_classes=len(source_ds.classes), freeze_backbone=False)"
   ]
  },
  {
   "cell_type": "code",
   "execution_count": 109,
   "id": "9ecca25e",
   "metadata": {},
   "outputs": [],
   "source": [
    "dan_resnet = _truncate_resnet_from(baseline, layer_name='layer3')"
   ]
  },
  {
   "cell_type": "code",
   "execution_count": 110,
   "id": "7483f03a",
   "metadata": {},
   "outputs": [],
   "source": [
    "saved_weights = {k: v.clone() for k, v in dan_resnet.state_dict().items()}\n"
   ]
  },
  {
   "cell_type": "code",
   "execution_count": 111,
   "id": "22bc2952",
   "metadata": {},
   "outputs": [
    {
     "data": {
      "text/plain": [
       "<All keys matched successfully>"
      ]
     },
     "execution_count": 111,
     "metadata": {},
     "output_type": "execute_result"
    }
   ],
   "source": [
    "dan_resnet.load_state_dict(saved_weights)"
   ]
  },
  {
   "cell_type": "code",
   "execution_count": null,
   "id": "7df97239",
   "metadata": {},
   "outputs": [
    {
     "name": "stderr",
     "output_type": "stream",
     "text": [
      "Training:   0%|          | 0/25 [00:00<?, ?it/s]"
     ]
    },
    {
     "name": "stdout",
     "output_type": "stream",
     "text": [
      "\n",
      "Epoch 1/25\n",
      "\n",
      "Train loss: 1.26540 | Supervised: 1.26060 | MK-MMD: 0.00481 | Train acc: 2.41% | Test acc=8.02%\n",
      "\n"
     ]
    },
    {
     "name": "stderr",
     "output_type": "stream",
     "text": [
      "Training:   4%|▍         | 1/25 [00:10<04:12, 10.53s/it]"
     ]
    },
    {
     "name": "stdout",
     "output_type": "stream",
     "text": [
      "\n",
      "Epoch 2/25\n",
      "\n",
      "Train loss: 1.18106 | Supervised: 1.17487 | MK-MMD: 0.00619 | Train acc: 7.39% | Test acc=16.49%\n",
      "\n"
     ]
    },
    {
     "name": "stderr",
     "output_type": "stream",
     "text": [
      "Training:   8%|▊         | 2/25 [00:21<04:01, 10.50s/it]"
     ]
    },
    {
     "name": "stdout",
     "output_type": "stream",
     "text": [
      "\n",
      "Epoch 3/25\n",
      "\n",
      "Train loss: 1.09791 | Supervised: 1.08908 | MK-MMD: 0.00883 | Train acc: 11.56% | Test acc=25.09%\n",
      "\n"
     ]
    },
    {
     "name": "stderr",
     "output_type": "stream",
     "text": [
      "Training:  12%|█▏        | 3/25 [00:31<03:51, 10.50s/it]"
     ]
    },
    {
     "name": "stdout",
     "output_type": "stream",
     "text": [
      "\n",
      "Epoch 4/25\n",
      "\n",
      "Train loss: 1.02616 | Supervised: 1.00793 | MK-MMD: 0.01822 | Train acc: 14.30% | Test acc=31.96%\n",
      "\n"
     ]
    },
    {
     "name": "stderr",
     "output_type": "stream",
     "text": [
      "Training:  16%|█▌        | 4/25 [00:41<03:40, 10.49s/it]"
     ]
    },
    {
     "name": "stdout",
     "output_type": "stream",
     "text": [
      "\n",
      "Epoch 5/25\n",
      "\n",
      "Train loss: 0.94708 | Supervised: 0.92637 | MK-MMD: 0.02071 | Train acc: 16.33% | Test acc=34.82%\n",
      "\n"
     ]
    },
    {
     "name": "stderr",
     "output_type": "stream",
     "text": [
      "Training:  20%|██        | 5/25 [00:52<03:29, 10.49s/it]"
     ]
    },
    {
     "name": "stdout",
     "output_type": "stream",
     "text": [
      "\n",
      "Epoch 6/25\n",
      "\n",
      "Train loss: 0.87239 | Supervised: 0.84982 | MK-MMD: 0.02257 | Train acc: 17.70% | Test acc=37.92%\n",
      "\n"
     ]
    },
    {
     "name": "stderr",
     "output_type": "stream",
     "text": [
      "Training:  24%|██▍       | 6/25 [01:02<03:19, 10.50s/it]"
     ]
    },
    {
     "name": "stdout",
     "output_type": "stream",
     "text": [
      "\n",
      "Epoch 7/25\n",
      "\n",
      "Train loss: 0.78723 | Supervised: 0.76630 | MK-MMD: 0.02093 | Train acc: 19.23% | Test acc=41.24%\n",
      "\n"
     ]
    },
    {
     "name": "stderr",
     "output_type": "stream",
     "text": [
      "Training:  28%|██▊       | 7/25 [01:13<03:08, 10.49s/it]"
     ]
    },
    {
     "name": "stdout",
     "output_type": "stream",
     "text": [
      "\n",
      "Epoch 8/25\n",
      "\n",
      "Train loss: 0.72365 | Supervised: 0.70744 | MK-MMD: 0.01621 | Train acc: 19.63% | Test acc=42.15%\n",
      "\n"
     ]
    },
    {
     "name": "stderr",
     "output_type": "stream",
     "text": [
      "Training:  32%|███▏      | 8/25 [01:23<02:58, 10.49s/it]"
     ]
    },
    {
     "name": "stdout",
     "output_type": "stream",
     "text": [
      "\n",
      "Epoch 9/25\n",
      "\n",
      "Train loss: 0.66598 | Supervised: 0.65146 | MK-MMD: 0.01453 | Train acc: 20.59% | Test acc=43.99%\n",
      "\n"
     ]
    },
    {
     "name": "stderr",
     "output_type": "stream",
     "text": [
      "Training:  36%|███▌      | 9/25 [01:34<02:47, 10.49s/it]"
     ]
    },
    {
     "name": "stdout",
     "output_type": "stream",
     "text": [
      "\n",
      "Epoch 10/25\n",
      "\n",
      "Train loss: 0.59563 | Supervised: 0.58394 | MK-MMD: 0.01169 | Train acc: 21.38% | Test acc=44.67%\n",
      "\n"
     ]
    },
    {
     "name": "stderr",
     "output_type": "stream",
     "text": [
      "Training:  40%|████      | 10/25 [01:44<02:37, 10.49s/it]"
     ]
    },
    {
     "name": "stdout",
     "output_type": "stream",
     "text": [
      "\n",
      "Epoch 11/25\n",
      "\n",
      "Train loss: 0.57072 | Supervised: 0.55939 | MK-MMD: 0.01132 | Train acc: 21.63% | Test acc=45.82%\n",
      "\n"
     ]
    },
    {
     "name": "stderr",
     "output_type": "stream",
     "text": [
      "Training:  44%|████▍     | 11/25 [01:55<02:26, 10.48s/it]"
     ]
    },
    {
     "name": "stdout",
     "output_type": "stream",
     "text": [
      "\n",
      "Epoch 12/25\n",
      "\n",
      "Train loss: 0.51536 | Supervised: 0.50437 | MK-MMD: 0.01099 | Train acc: 22.53% | Test acc=47.42%\n",
      "\n"
     ]
    },
    {
     "name": "stderr",
     "output_type": "stream",
     "text": [
      "Training:  48%|████▊     | 12/25 [02:05<02:16, 10.48s/it]"
     ]
    },
    {
     "name": "stdout",
     "output_type": "stream",
     "text": [
      "\n",
      "Epoch 13/25\n",
      "\n",
      "Train loss: 0.49094 | Supervised: 0.48201 | MK-MMD: 0.00893 | Train acc: 22.75% | Test acc=46.96%\n",
      "\n"
     ]
    },
    {
     "name": "stderr",
     "output_type": "stream",
     "text": [
      "Training:  52%|█████▏    | 13/25 [02:16<02:05, 10.48s/it]"
     ]
    },
    {
     "name": "stdout",
     "output_type": "stream",
     "text": [
      "\n",
      "Epoch 14/25\n",
      "\n",
      "Train loss: 0.46216 | Supervised: 0.45706 | MK-MMD: 0.00510 | Train acc: 22.94% | Test acc=47.88%\n",
      "\n"
     ]
    },
    {
     "name": "stderr",
     "output_type": "stream",
     "text": [
      "Training:  56%|█████▌    | 14/25 [02:26<01:55, 10.48s/it]"
     ]
    },
    {
     "name": "stdout",
     "output_type": "stream",
     "text": [
      "\n",
      "Epoch 15/25\n",
      "\n",
      "Train loss: 0.42811 | Supervised: 0.42186 | MK-MMD: 0.00625 | Train acc: 23.34% | Test acc=47.42%\n",
      "\n"
     ]
    },
    {
     "name": "stderr",
     "output_type": "stream",
     "text": [
      "Training:  60%|██████    | 15/25 [02:37<01:44, 10.48s/it]"
     ]
    },
    {
     "name": "stdout",
     "output_type": "stream",
     "text": [
      "\n",
      "Epoch 16/25\n",
      "\n",
      "Train loss: 0.40972 | Supervised: 0.40354 | MK-MMD: 0.00618 | Train acc: 23.62% | Test acc=47.08%\n",
      "\n"
     ]
    },
    {
     "name": "stderr",
     "output_type": "stream",
     "text": [
      "Training:  64%|██████▍   | 16/25 [02:47<01:34, 10.48s/it]"
     ]
    },
    {
     "name": "stdout",
     "output_type": "stream",
     "text": [
      "\n",
      "Epoch 17/25\n",
      "\n",
      "Train loss: 0.38628 | Supervised: 0.38033 | MK-MMD: 0.00595 | Train acc: 23.98% | Test acc=49.26%\n",
      "\n"
     ]
    },
    {
     "name": "stderr",
     "output_type": "stream",
     "text": [
      "Training:  68%|██████▊   | 17/25 [02:58<01:23, 10.48s/it]"
     ]
    },
    {
     "name": "stdout",
     "output_type": "stream",
     "text": [
      "\n",
      "Epoch 18/25\n",
      "\n",
      "Train loss: 0.37601 | Supervised: 0.37184 | MK-MMD: 0.00417 | Train acc: 23.86% | Test acc=48.68%\n",
      "\n"
     ]
    },
    {
     "name": "stderr",
     "output_type": "stream",
     "text": [
      "Training:  72%|███████▏  | 18/25 [03:08<01:13, 10.48s/it]"
     ]
    },
    {
     "name": "stdout",
     "output_type": "stream",
     "text": [
      "\n",
      "Epoch 19/25\n",
      "\n",
      "Train loss: 0.34815 | Supervised: 0.34544 | MK-MMD: 0.00271 | Train acc: 24.63% | Test acc=49.26%\n",
      "\n"
     ]
    },
    {
     "name": "stderr",
     "output_type": "stream",
     "text": [
      "Training:  76%|███████▌  | 19/25 [03:19<01:02, 10.47s/it]"
     ]
    },
    {
     "name": "stdout",
     "output_type": "stream",
     "text": [
      "\n",
      "Epoch 20/25\n",
      "\n",
      "Train loss: 0.34604 | Supervised: 0.34068 | MK-MMD: 0.00536 | Train acc: 24.46% | Test acc=49.03%\n",
      "\n"
     ]
    },
    {
     "name": "stderr",
     "output_type": "stream",
     "text": [
      "Training:  80%|████████  | 20/25 [03:29<00:52, 10.48s/it]"
     ]
    },
    {
     "name": "stdout",
     "output_type": "stream",
     "text": [
      "\n",
      "Epoch 21/25\n",
      "\n",
      "Train loss: 0.33666 | Supervised: 0.32696 | MK-MMD: 0.00970 | Train acc: 24.47% | Test acc=49.48%\n",
      "\n"
     ]
    },
    {
     "name": "stderr",
     "output_type": "stream",
     "text": [
      "Training:  84%|████████▍ | 21/25 [03:40<00:41, 10.48s/it]"
     ]
    },
    {
     "name": "stdout",
     "output_type": "stream",
     "text": [
      "\n",
      "Epoch 22/25\n",
      "\n",
      "Train loss: 0.31398 | Supervised: 0.30994 | MK-MMD: 0.00404 | Train acc: 24.91% | Test acc=48.34%\n",
      "\n"
     ]
    },
    {
     "name": "stderr",
     "output_type": "stream",
     "text": [
      "Training:  88%|████████▊ | 22/25 [03:50<00:31, 10.47s/it]"
     ]
    },
    {
     "name": "stdout",
     "output_type": "stream",
     "text": [
      "\n",
      "Epoch 23/25\n",
      "\n",
      "Train loss: 0.31828 | Supervised: 0.31367 | MK-MMD: 0.00461 | Train acc: 24.45% | Test acc=48.57%\n",
      "\n"
     ]
    },
    {
     "name": "stderr",
     "output_type": "stream",
     "text": [
      "Training:  92%|█████████▏| 23/25 [04:01<00:20, 10.47s/it]"
     ]
    },
    {
     "name": "stdout",
     "output_type": "stream",
     "text": [
      "\n",
      "Epoch 24/25\n",
      "\n",
      "Train loss: 0.29729 | Supervised: 0.29444 | MK-MMD: 0.00285 | Train acc: 24.82% | Test acc=50.29%\n",
      "\n"
     ]
    },
    {
     "name": "stderr",
     "output_type": "stream",
     "text": [
      "Training:  96%|█████████▌| 24/25 [04:11<00:10, 10.48s/it]"
     ]
    },
    {
     "name": "stdout",
     "output_type": "stream",
     "text": [
      "\n",
      "Epoch 25/25\n",
      "\n",
      "Train loss: 0.29124 | Supervised: 0.28933 | MK-MMD: 0.00190 | Train acc: 24.86% | Test acc=50.17%\n",
      "\n"
     ]
    },
    {
     "name": "stderr",
     "output_type": "stream",
     "text": [
      "Training: 100%|██████████| 25/25 [04:22<00:00, 10.48s/it]\n"
     ]
    }
   ],
   "source": [
    "def _forward_impl(self, x):\n",
    "  \n",
    "    f4 = self.layer4(x)\n",
    "\n",
    "    x = torch.flatten(self.avgpool(f4), 1)\n",
    "    x = self.fc(x)\n",
    "    \n",
    "    return x, [x, f4]\n",
    "\n",
    "import types\n",
    "dan_resnet.forward = types.MethodType(_forward_impl, dan_resnet)\n",
    "loss_fn = DANLoss(sigmas=[2e-16,2e-12,2e-8,2e-4,2e+0,2e+4,2e+8,2e+12,2e+16], scale=16)\n",
    "optimizer = torch.optim.SGD(dan_resnet.parameters(), lr=args.lr, weight_decay=args.weight_decay, momentum=args.momentum)\n",
    "\n",
    "source_loader = torch.utils.data.DataLoader(cache_office_home_l3s, batch_size=args.batch_size, shuffle=True, drop_last=True)\n",
    "\n",
    "val_ds, test_ds = torch.utils.data.random_split(cache_office_home_l3t, [0.8, 0.2])\n",
    "\n",
    "val_loader  = torch.utils.data.DataLoader(val_ds , batch_size=args.batch_size, shuffle=True, drop_last=True)\n",
    "test_loader = torch.utils.data.DataLoader(test_ds, batch_size=args.batch_size, shuffle=True, drop_last=True)\n",
    "\n",
    "def accuracy_fn(logits, labels):\n",
    "    return (torch.argmax(logits, dim=1) == labels).sum().item()\n",
    "\n",
    "source_losses, supervised_losses, mkmmd_losses, train_accs, test_accs = dan_train(\n",
    "    source_loader=source_loader, \n",
    "    target_loader=val_loader, \n",
    "    test_loader=test_loader,\n",
    "    epochs=args.epochs,\n",
    "    optimizer=optimizer,\n",
    "    model=dan_resnet,\n",
    "    loss_fn=loss_fn,\n",
    "    accuracy_fn=accuracy_fn,\n",
    "    device=device\n",
    ")      "
   ]
  },
  {
   "cell_type": "code",
   "execution_count": null,
   "id": "fc2d3907",
   "metadata": {},
   "outputs": [],
   "source": [
    "dan_loader_accuracy(target_loader, dan_resnet, accuracy_fn, device)"
   ]
  },
  {
   "cell_type": "code",
   "execution_count": null,
   "id": "53eec69e",
   "metadata": {},
   "outputs": [],
   "source": [
    "len(test_loader.dataset)"
   ]
  },
  {
   "cell_type": "code",
   "execution_count": null,
   "id": "7c10b95a",
   "metadata": {},
   "outputs": [],
   "source": []
  }
 ],
 "metadata": {
  "kernelspec": {
   "display_name": "Python 3 (ipykernel)",
   "language": "python",
   "name": "python3"
  },
  "language_info": {
   "codemirror_mode": {
    "name": "ipython",
    "version": 3
   },
   "file_extension": ".py",
   "mimetype": "text/x-python",
   "name": "python",
   "nbconvert_exporter": "python",
   "pygments_lexer": "ipython3",
   "version": "3.11.13"
  }
 },
 "nbformat": 4,
 "nbformat_minor": 5
}
