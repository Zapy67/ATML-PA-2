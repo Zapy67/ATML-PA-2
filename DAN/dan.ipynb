{
 "cells": [
  {
   "cell_type": "code",
   "execution_count": 1,
   "id": "83e34698",
   "metadata": {},
   "outputs": [
    {
     "name": "stdout",
     "output_type": "stream",
     "text": [
      "/kaggle/working/ATML-PA-2/DAN\n"
     ]
    }
   ],
   "source": [
    "cd ATML-PA-2/DAN/"
   ]
  },
  {
   "cell_type": "code",
   "execution_count": 91,
   "id": "7c10b95a",
   "metadata": {},
   "outputs": [],
   "source": [
    "import importlib\n",
    "import torch\n",
    "import utils\n",
    "import architecture\n",
    "import train\n",
    "import types\n",
    "importlib.reload(utils)\n",
    "importlib.reload(architecture)\n",
    "importlib.reload(train)\n",
    "\n",
    "\n",
    "from utils.dataset import FeatureTensorDataset, OfficeHomeDataset, _truncate_resnet_from\n",
    "from torchvision.models import ResNet50_Weights\n",
    "from importlib import reload\n",
    "import train\n",
    "from train import train_workflow\n",
    "import types\n",
    "from utils.tsne import tsne_plot, get_features\n",
    "import matplotlib.pyplot as plt\n",
    "import os\n",
    "from architecture import resnet_classifier"
   ]
  },
  {
   "cell_type": "code",
   "execution_count": 93,
   "id": "8c0346ca",
   "metadata": {},
   "outputs": [],
   "source": [
    "root_dir = \"../datasets/OfficeHomeDataset\"\n",
    "csv_file = f\"{root_dir}/ImageInfo.csv\"\n",
    "\n",
    "transform = ResNet50_Weights.IMAGENET1K_V1.transforms()\n",
    "classes = os.listdir(f\"{root_dir}/Art\")"
   ]
  },
  {
   "cell_type": "code",
   "execution_count": 94,
   "id": "13c28019",
   "metadata": {},
   "outputs": [],
   "source": [
    "device = 'cuda' if torch.cuda.is_available() else 'cpu'"
   ]
  },
  {
   "cell_type": "code",
   "execution_count": 99,
   "id": "7f5aa2e6",
   "metadata": {},
   "outputs": [],
   "source": [
    "import torch\n",
    "import numpy as np\n",
    "from sklearn.metrics import (\n",
    "    confusion_matrix,\n",
    "    classification_report,\n",
    "    accuracy_score\n",
    ")\n",
    "import seaborn as sns\n",
    "\n",
    "def evaluate_ds(ds, model, device, domain_name=None, class_names=None):\n",
    "    model.eval()\n",
    "    all_preds = []\n",
    "    all_labels = []\n",
    "\n",
    "    loader = torch.utils.data.DataLoader(ds, shuffle=False, batch_size=32)\n",
    "\n",
    "    with torch.inference_mode():\n",
    "        for X, Y in loader:\n",
    "            X, Y = X.to(device), Y.to(device)\n",
    "            logits = model(X)  \n",
    "            preds = torch.argmax(logits, dim=1)\n",
    "            all_preds.append(preds.cpu())\n",
    "            all_labels.append(Y.cpu())\n",
    "\n",
    "    y_true = torch.cat(all_labels).numpy()\n",
    "    y_pred = torch.cat(all_preds).numpy()\n",
    "\n",
    "\n",
    "\n",
    "    acc = accuracy_score(y_true, y_pred)\n",
    "    cm = confusion_matrix(y_true, y_pred)\n",
    "    report = classification_report(y_true, y_pred, target_names=class_names, digits=4)\n",
    "\n",
    "    if domain_name:\n",
    "        print(f\"\\n=== Evaluation for {domain_name} Domain ===\")\n",
    "    print(f\"Accuracy: {acc*100:.2f}%\")\n",
    "    print(\"Confusion Matrix:\\n\")\n",
    "    sns.heatmap(cm, cmap=\"Blues\")\n",
    "    plt.show()\n",
    "    print(\"Classification Report:\\n\", report)\n",
    "\n",
    "    return {\n",
    "        'domain': domain_name,\n",
    "        'accuracy': acc,\n",
    "        'confusion_matrix': cm,\n",
    "        'classification_report': report,\n",
    "        'y_true': y_true,\n",
    "        'y_pred': y_pred\n",
    "    }\n"
   ]
  },
  {
   "cell_type": "code",
   "execution_count": 89,
   "id": "2c67a624",
   "metadata": {},
   "outputs": [],
   "source": [
    "import matplotlib.pyplot as plt\n",
    "\n",
    "def analysis(source, target, config, cache_source=None, cache_target=None):\n",
    "    \n",
    "    model = resnet_classifier(num_classes=len(classes))\n",
    "\n",
    "    if cache_source is None:\n",
    "        source_ds = OfficeHomeDataset(root_dir, csv_file, source, transform)\n",
    "        cache_source = FeatureTensorDataset(source_ds, model, layer_name='layer3', device=device, batch_size=64)\n",
    "\n",
    "    if cache_target is None:\n",
    "        target_ds = OfficeHomeDataset(root_dir, csv_file, target, transform)\n",
    "        cache_target = FeatureTensorDataset(target_ds, model, layer_name='layer3', device=device, batch_size=64)\n",
    "\n",
    "    truncated_model = _truncate_resnet_from(model, 'layer3')\n",
    "\n",
    "    def _forward_impl(self, x):\n",
    "        f4 = self.layer4(x)\n",
    "        x = torch.flatten(self.avgpool(f4), 1)\n",
    "        x = self.fc(x)\n",
    "        return x, [x, f4]\n",
    "\n",
    "    truncated_model.forward = types.MethodType(_forward_impl, truncated_model)\n",
    "\n",
    "    cache_source_train, cache_source_test = torch.utils.data.random_split(cache_source, [0.8,0.2])\n",
    "    torch.manual_seed(100)\n",
    "    cache_target_train, cache_target_test = torch.utils.data.random_split(cache_target, [0.8,0.2])\n",
    "\n",
    "    \n",
    "    train_workflow(truncated_model, cache_source_train, cache_target_train, cache_target_test, config, device)\n",
    "\n",
    "    def _forward_impl_2(self, x):\n",
    "        f4 = self.layer4(x)\n",
    "        x = torch.flatten(self.avgpool(f4), 1)\n",
    "        x = self.fc(x)\n",
    "        return x\n",
    "    truncated_model.forward = types.MethodType(_forward_impl_2, truncated_model)\n",
    "    \n",
    "    print(device)\n",
    "    print(\"Evaluating on target domain test set\")\n",
    "    evaluate_ds(cache_target_test, truncated_model, device, target[0])\n",
    "\n",
    "    print(\"Evaluating on source domain test set\")\n",
    "    evaluate_ds(cache_target_test, truncated_model, device, source)\n",
    "\n",
    "    print(\"Evaluating on source domain train set\")\n",
    "    evaluate_ds(cache_source_train, truncated_model, device, source)\n",
    "\n",
    "    latents_s, _ = get_features(truncated_model[:-1], cache_source_test, batchsize=32, device=device)\n",
    "    latents_t, _ = get_features(truncated_model[:-1], cache_target_test, batchsize=32, device=device)\n",
    "\n",
    "    if latents_s.dim() > 2:\n",
    "        latents_s = latents_s.flatten(start_dim=1)\n",
    "    if latents_t.dim() > 2:\n",
    "        latents_t = latents_t.flatten(start_dim=1)\n",
    "\n",
    "    latents = torch.cat([latents_s, latents_t], dim=0)\n",
    "    domain_labels = torch.cat([\n",
    "        torch.zeros(latents_s.shape[0], dtype=torch.long),   # 0 = source\n",
    "        torch.ones(latents_t.shape[0], dtype=torch.long)     # 1 = target\n",
    "    ])\n",
    "\n",
    "    fig, ax = plt.subplots(figsize=(8, 6))\n",
    "    tsne_plot(latents, domain_labels, classes=[\"Source\", \"Target\"], ax=ax, fig=fig, perplexity=30)\n",
    "    plt.title(\"t-SNE Domain Clustering: Source vs Target\")\n",
    "    plt.show()"
   ]
  },
  {
   "cell_type": "code",
   "execution_count": 96,
   "id": "44ffdfa0",
   "metadata": {},
   "outputs": [],
   "source": [
    "sources = [\"Art\", \"Real World\", \"Product\"]\n",
    "target = [\"Clipart\"]\n",
    "source_ds = OfficeHomeDataset(root_dir, csv_file, sources, transform)\n",
    "target_ds = OfficeHomeDataset(root_dir, csv_file, target, transform)"
   ]
  },
  {
   "cell_type": "code",
   "execution_count": 97,
   "id": "c85b6df5",
   "metadata": {},
   "outputs": [],
   "source": [
    "model = resnet_classifier(num_classes=len(classes))"
   ]
  },
  {
   "cell_type": "code",
   "execution_count": 10,
   "id": "1cfd8c9b",
   "metadata": {},
   "outputs": [
    {
     "name": "stderr",
     "output_type": "stream",
     "text": [
      "Precomputing up to layer3: 100%|██████████| 176/176 [03:57<00:00,  1.35s/it]\n",
      "Precomputing up to layer3: 100%|██████████| 69/69 [00:55<00:00,  1.24it/s]\n"
     ]
    }
   ],
   "source": [
    "cache_source = FeatureTensorDataset(source_ds, model, layer_name='layer3', device=device, batch_size=32)\n",
    "cache_target = FeatureTensorDataset(target_ds, model, layer_name='layer3', device=device, batch_size=32)"
   ]
  },
  {
   "cell_type": "code",
   "execution_count": 102,
   "id": "36971b8d",
   "metadata": {},
   "outputs": [
    {
     "name": "stderr",
     "output_type": "stream",
     "text": [
      "Training:   0%|          | 0/20 [00:00<?, ?it/s]"
     ]
    },
    {
     "name": "stdout",
     "output_type": "stream",
     "text": [
      "\n",
      "Epoch 1/20\n",
      "\n",
      "Train loss: 0.79825 | Supervised: 0.79636 | MK-MMD: 0.00188 | Source train acc: 20.51% | Target test acc=42.27%\n",
      "\n"
     ]
    },
    {
     "name": "stderr",
     "output_type": "stream",
     "text": [
      "Training:   5%|▌         | 1/20 [00:09<03:00,  9.48s/it]"
     ]
    },
    {
     "name": "stdout",
     "output_type": "stream",
     "text": [
      "\n",
      "Epoch 2/20\n",
      "\n",
      "Train loss: 0.31559 | Supervised: 0.31554 | MK-MMD: 0.00005 | Source train acc: 30.57% | Target test acc=43.30%\n",
      "\n"
     ]
    },
    {
     "name": "stderr",
     "output_type": "stream",
     "text": [
      "Training:  10%|█         | 2/20 [00:18<02:50,  9.50s/it]"
     ]
    },
    {
     "name": "stdout",
     "output_type": "stream",
     "text": [
      "\n",
      "Epoch 3/20\n",
      "\n",
      "Train loss: 0.21284 | Supervised: 0.21279 | MK-MMD: 0.00006 | Source train acc: 32.95% | Target test acc=45.59%\n",
      "\n"
     ]
    },
    {
     "name": "stderr",
     "output_type": "stream",
     "text": [
      "Training:  15%|█▌        | 3/20 [00:28<02:41,  9.53s/it]"
     ]
    },
    {
     "name": "stdout",
     "output_type": "stream",
     "text": [
      "\n",
      "Epoch 4/20\n",
      "\n",
      "Train loss: 0.17103 | Supervised: 0.16970 | MK-MMD: 0.00133 | Source train acc: 34.03% | Target test acc=42.50%\n",
      "\n"
     ]
    },
    {
     "name": "stderr",
     "output_type": "stream",
     "text": [
      "Training:  20%|██        | 4/20 [00:38<02:32,  9.52s/it]"
     ]
    },
    {
     "name": "stdout",
     "output_type": "stream",
     "text": [
      "\n",
      "Epoch 5/20\n",
      "\n",
      "Train loss: 0.12661 | Supervised: 0.12658 | MK-MMD: 0.00003 | Source train acc: 35.34% | Target test acc=43.64%\n",
      "\n"
     ]
    },
    {
     "name": "stderr",
     "output_type": "stream",
     "text": [
      "Training:  25%|██▌       | 5/20 [00:47<02:22,  9.50s/it]"
     ]
    },
    {
     "name": "stdout",
     "output_type": "stream",
     "text": [
      "\n",
      "Epoch 6/20\n",
      "\n",
      "Train loss: 0.09285 | Supervised: 0.09283 | MK-MMD: 0.00001 | Source train acc: 36.08% | Target test acc=44.56%\n",
      "\n"
     ]
    },
    {
     "name": "stderr",
     "output_type": "stream",
     "text": [
      "Training:  30%|███       | 6/20 [00:57<02:13,  9.51s/it]"
     ]
    },
    {
     "name": "stdout",
     "output_type": "stream",
     "text": [
      "\n",
      "Epoch 7/20\n",
      "\n",
      "Train loss: 0.06996 | Supervised: 0.06996 | MK-MMD: 0.00000 | Source train acc: 36.83% | Target test acc=44.56%\n",
      "\n"
     ]
    },
    {
     "name": "stderr",
     "output_type": "stream",
     "text": [
      "Training:  35%|███▌      | 7/20 [01:06<02:03,  9.53s/it]"
     ]
    },
    {
     "name": "stdout",
     "output_type": "stream",
     "text": [
      "\n",
      "Epoch 8/20\n",
      "\n",
      "Train loss: 0.05297 | Supervised: 0.05296 | MK-MMD: 0.00001 | Source train acc: 37.38% | Target test acc=46.16%\n",
      "\n"
     ]
    },
    {
     "name": "stderr",
     "output_type": "stream",
     "text": [
      "Training:  40%|████      | 8/20 [01:16<01:54,  9.51s/it]"
     ]
    },
    {
     "name": "stdout",
     "output_type": "stream",
     "text": [
      "\n",
      "Epoch 9/20\n",
      "\n",
      "Train loss: 0.03866 | Supervised: 0.03865 | MK-MMD: 0.00001 | Source train acc: 37.67% | Target test acc=44.90%\n",
      "\n"
     ]
    },
    {
     "name": "stderr",
     "output_type": "stream",
     "text": [
      "Training:  45%|████▌     | 9/20 [01:25<01:44,  9.51s/it]"
     ]
    },
    {
     "name": "stdout",
     "output_type": "stream",
     "text": [
      "\n",
      "Epoch 10/20\n",
      "\n",
      "Train loss: 0.03019 | Supervised: 0.03018 | MK-MMD: 0.00000 | Source train acc: 37.96% | Target test acc=45.25%\n",
      "\n"
     ]
    },
    {
     "name": "stderr",
     "output_type": "stream",
     "text": [
      "Training:  50%|█████     | 10/20 [01:35<01:35,  9.51s/it]"
     ]
    },
    {
     "name": "stdout",
     "output_type": "stream",
     "text": [
      "\n",
      "Epoch 11/20\n",
      "\n",
      "Train loss: 0.02440 | Supervised: 0.02440 | MK-MMD: 0.00000 | Source train acc: 38.09% | Target test acc=45.93%\n",
      "\n"
     ]
    },
    {
     "name": "stderr",
     "output_type": "stream",
     "text": [
      "Training:  55%|█████▌    | 11/20 [01:44<01:25,  9.54s/it]"
     ]
    },
    {
     "name": "stdout",
     "output_type": "stream",
     "text": [
      "\n",
      "Epoch 12/20\n",
      "\n",
      "Train loss: 0.02211 | Supervised: 0.02210 | MK-MMD: 0.00000 | Source train acc: 38.08% | Target test acc=46.39%\n",
      "\n"
     ]
    },
    {
     "name": "stderr",
     "output_type": "stream",
     "text": [
      "Training:  60%|██████    | 12/20 [01:54<01:16,  9.53s/it]"
     ]
    },
    {
     "name": "stdout",
     "output_type": "stream",
     "text": [
      "\n",
      "Epoch 13/20\n"
     ]
    },
    {
     "name": "stderr",
     "output_type": "stream",
     "text": [
      "Training:  60%|██████    | 12/20 [02:03<01:22, 10.29s/it]\n"
     ]
    },
    {
     "ename": "KeyboardInterrupt",
     "evalue": "",
     "output_type": "error",
     "traceback": [
      "\u001b[0;31m---------------------------------------------------------------------------\u001b[0m",
      "\u001b[0;31mKeyboardInterrupt\u001b[0m                         Traceback (most recent call last)",
      "\u001b[0;32m/tmp/ipykernel_483/3587272676.py\u001b[0m in \u001b[0;36m<cell line: 0>\u001b[0;34m()\u001b[0m\n\u001b[1;32m      6\u001b[0m           \u001b[0;34m'scale'\u001b[0m\u001b[0;34m:\u001b[0m\u001b[0;36m128.0\u001b[0m\u001b[0;34m\u001b[0m\u001b[0;34m\u001b[0m\u001b[0m\n\u001b[1;32m      7\u001b[0m           }\n\u001b[0;32m----> 8\u001b[0;31m \u001b[0manalysis\u001b[0m\u001b[0;34m(\u001b[0m\u001b[0msource\u001b[0m\u001b[0;34m=\u001b[0m\u001b[0;34m[\u001b[0m\u001b[0;34m\"Art\"\u001b[0m\u001b[0;34m,\u001b[0m \u001b[0;34m\"Real World\"\u001b[0m\u001b[0;34m,\u001b[0m \u001b[0;34m\"Product\"\u001b[0m\u001b[0;34m]\u001b[0m\u001b[0;34m,\u001b[0m \u001b[0mtarget\u001b[0m\u001b[0;34m=\u001b[0m\u001b[0;34m[\u001b[0m\u001b[0;34m\"Clipart\"\u001b[0m\u001b[0;34m]\u001b[0m\u001b[0;34m,\u001b[0m \u001b[0mconfig\u001b[0m\u001b[0;34m=\u001b[0m\u001b[0mconfig\u001b[0m\u001b[0;34m,\u001b[0m \u001b[0mcache_source\u001b[0m\u001b[0;34m=\u001b[0m\u001b[0mcache_source\u001b[0m\u001b[0;34m,\u001b[0m \u001b[0mcache_target\u001b[0m\u001b[0;34m=\u001b[0m\u001b[0mcache_target\u001b[0m\u001b[0;34m)\u001b[0m\u001b[0;34m\u001b[0m\u001b[0;34m\u001b[0m\u001b[0m\n\u001b[0m",
      "\u001b[0;32m/tmp/ipykernel_483/2325148859.py\u001b[0m in \u001b[0;36manalysis\u001b[0;34m(source, target, config, cache_source, cache_target)\u001b[0m\n\u001b[1;32m     28\u001b[0m \u001b[0;34m\u001b[0m\u001b[0m\n\u001b[1;32m     29\u001b[0m \u001b[0;34m\u001b[0m\u001b[0m\n\u001b[0;32m---> 30\u001b[0;31m     \u001b[0mtrain_workflow\u001b[0m\u001b[0;34m(\u001b[0m\u001b[0mtruncated_model\u001b[0m\u001b[0;34m,\u001b[0m \u001b[0mcache_source_train\u001b[0m\u001b[0;34m,\u001b[0m \u001b[0mcache_target_train\u001b[0m\u001b[0;34m,\u001b[0m \u001b[0mcache_target_test\u001b[0m\u001b[0;34m,\u001b[0m \u001b[0mconfig\u001b[0m\u001b[0;34m,\u001b[0m \u001b[0mdevice\u001b[0m\u001b[0;34m)\u001b[0m\u001b[0;34m\u001b[0m\u001b[0;34m\u001b[0m\u001b[0m\n\u001b[0m\u001b[1;32m     31\u001b[0m \u001b[0;34m\u001b[0m\u001b[0m\n\u001b[1;32m     32\u001b[0m     \u001b[0;32mdef\u001b[0m \u001b[0m_forward_impl_2\u001b[0m\u001b[0;34m(\u001b[0m\u001b[0mself\u001b[0m\u001b[0;34m,\u001b[0m \u001b[0mx\u001b[0m\u001b[0;34m)\u001b[0m\u001b[0;34m:\u001b[0m\u001b[0;34m\u001b[0m\u001b[0;34m\u001b[0m\u001b[0m\n",
      "\u001b[0;32m/kaggle/working/ATML-PA-2/DAN/train.py\u001b[0m in \u001b[0;36mtrain_workflow\u001b[0;34m(model, src_dataset, tgt_dataset, val_dataset, config, device)\u001b[0m\n\u001b[1;32m    117\u001b[0m \u001b[0;34m\u001b[0m\u001b[0m\n\u001b[1;32m    118\u001b[0m     \u001b[0msource_loader\u001b[0m \u001b[0;34m=\u001b[0m \u001b[0mtorch\u001b[0m\u001b[0;34m.\u001b[0m\u001b[0mutils\u001b[0m\u001b[0;34m.\u001b[0m\u001b[0mdata\u001b[0m\u001b[0;34m.\u001b[0m\u001b[0mDataLoader\u001b[0m\u001b[0;34m(\u001b[0m\u001b[0msrc_dataset\u001b[0m\u001b[0;34m,\u001b[0m \u001b[0mbatch_size\u001b[0m\u001b[0;34m,\u001b[0m \u001b[0mshuffle\u001b[0m\u001b[0;34m=\u001b[0m\u001b[0;32mTrue\u001b[0m\u001b[0;34m,\u001b[0m \u001b[0mdrop_last\u001b[0m\u001b[0;34m=\u001b[0m\u001b[0;32mTrue\u001b[0m\u001b[0;34m)\u001b[0m\u001b[0;34m\u001b[0m\u001b[0;34m\u001b[0m\u001b[0m\n\u001b[0;32m--> 119\u001b[0;31m     \u001b[0mtarget_loader\u001b[0m \u001b[0;34m=\u001b[0m \u001b[0mtorch\u001b[0m\u001b[0;34m.\u001b[0m\u001b[0mutils\u001b[0m\u001b[0;34m.\u001b[0m\u001b[0mdata\u001b[0m\u001b[0;34m.\u001b[0m\u001b[0mDataLoader\u001b[0m\u001b[0;34m(\u001b[0m\u001b[0mtgt_dataset\u001b[0m\u001b[0;34m,\u001b[0m \u001b[0mbatch_size\u001b[0m\u001b[0;34m,\u001b[0m \u001b[0mshuffle\u001b[0m\u001b[0;34m=\u001b[0m\u001b[0;32mTrue\u001b[0m\u001b[0;34m,\u001b[0m \u001b[0mdrop_last\u001b[0m\u001b[0;34m=\u001b[0m\u001b[0;32mTrue\u001b[0m\u001b[0;34m)\u001b[0m\u001b[0;34m\u001b[0m\u001b[0;34m\u001b[0m\u001b[0m\n\u001b[0m\u001b[1;32m    120\u001b[0m     \u001b[0mtest_loader\u001b[0m   \u001b[0;34m=\u001b[0m \u001b[0mtorch\u001b[0m\u001b[0;34m.\u001b[0m\u001b[0mutils\u001b[0m\u001b[0;34m.\u001b[0m\u001b[0mdata\u001b[0m\u001b[0;34m.\u001b[0m\u001b[0mDataLoader\u001b[0m\u001b[0;34m(\u001b[0m\u001b[0mval_dataset\u001b[0m\u001b[0;34m,\u001b[0m \u001b[0mbatch_size\u001b[0m\u001b[0;34m,\u001b[0m \u001b[0mshuffle\u001b[0m\u001b[0;34m=\u001b[0m\u001b[0;32mFalse\u001b[0m\u001b[0;34m)\u001b[0m\u001b[0;34m\u001b[0m\u001b[0;34m\u001b[0m\u001b[0m\n\u001b[1;32m    121\u001b[0m \u001b[0;34m\u001b[0m\u001b[0m\n",
      "\u001b[0;32m/kaggle/working/ATML-PA-2/DAN/train.py\u001b[0m in \u001b[0;36mtrain\u001b[0;34m(source_loader, target_loader, test_loader, epochs, optimizer, model, loss_fn, accuracy_fn, device)\u001b[0m\n\u001b[1;32m     83\u001b[0m         \u001b[0mprint\u001b[0m\u001b[0;34m(\u001b[0m\u001b[0;34mf\"\\nTrain loss: {avg_loss:.5f} | Supervised: {avg_supervised:.5f} | MK-MMD: {avg_mkmmd:.5f} | Source train acc: {train_acc_source*100:.2f}% | Target test acc={test_acc*100:.2f}%\\n\"\u001b[0m\u001b[0;34m,\u001b[0m \u001b[0mflush\u001b[0m\u001b[0;34m=\u001b[0m\u001b[0;32mTrue\u001b[0m\u001b[0;34m)\u001b[0m\u001b[0;34m\u001b[0m\u001b[0;34m\u001b[0m\u001b[0m\n\u001b[1;32m     84\u001b[0m \u001b[0;34m\u001b[0m\u001b[0m\n\u001b[0;32m---> 85\u001b[0;31m     \u001b[0;32mreturn\u001b[0m \u001b[0msource_losses\u001b[0m\u001b[0;34m,\u001b[0m \u001b[0msupervised_losses\u001b[0m\u001b[0;34m,\u001b[0m \u001b[0mmkmmd_losses\u001b[0m\u001b[0;34m,\u001b[0m \u001b[0mtrain_accs\u001b[0m\u001b[0;34m,\u001b[0m \u001b[0mtest_accs\u001b[0m\u001b[0;34m\u001b[0m\u001b[0;34m\u001b[0m\u001b[0m\n\u001b[0m\u001b[1;32m     86\u001b[0m \u001b[0;34m\u001b[0m\u001b[0m\n\u001b[1;32m     87\u001b[0m \u001b[0;32mdef\u001b[0m \u001b[0mevaluate_accuracy\u001b[0m\u001b[0;34m(\u001b[0m\u001b[0mloader\u001b[0m\u001b[0;34m,\u001b[0m \u001b[0mmodel\u001b[0m\u001b[0;34m,\u001b[0m \u001b[0mdevice\u001b[0m\u001b[0;34m)\u001b[0m\u001b[0;34m:\u001b[0m\u001b[0;34m\u001b[0m\u001b[0;34m\u001b[0m\u001b[0m\n",
      "\u001b[0;32m/kaggle/working/ATML-PA-2/DAN/train.py\u001b[0m in \u001b[0;36mevaluate_accuracy\u001b[0;34m(loader, model, accuracy_fn, device)\u001b[0m\n\u001b[1;32m     94\u001b[0m             \u001b[0mX\u001b[0m\u001b[0;34m,\u001b[0m \u001b[0mY\u001b[0m \u001b[0;34m=\u001b[0m \u001b[0mX\u001b[0m\u001b[0;34m.\u001b[0m\u001b[0mto\u001b[0m\u001b[0;34m(\u001b[0m\u001b[0mdevice\u001b[0m\u001b[0;34m)\u001b[0m\u001b[0;34m,\u001b[0m \u001b[0mY\u001b[0m\u001b[0;34m.\u001b[0m\u001b[0mto\u001b[0m\u001b[0;34m(\u001b[0m\u001b[0mdevice\u001b[0m\u001b[0;34m)\u001b[0m\u001b[0;34m\u001b[0m\u001b[0;34m\u001b[0m\u001b[0m\n\u001b[1;32m     95\u001b[0m             \u001b[0mlogits\u001b[0m \u001b[0;34m=\u001b[0m \u001b[0mmodel\u001b[0m\u001b[0;34m(\u001b[0m\u001b[0mX\u001b[0m\u001b[0;34m)\u001b[0m\u001b[0;34m\u001b[0m\u001b[0;34m\u001b[0m\u001b[0m\n\u001b[0;32m---> 96\u001b[0;31m             \u001b[0mpreds\u001b[0m \u001b[0;34m=\u001b[0m \u001b[0mtorch\u001b[0m\u001b[0;34m.\u001b[0m\u001b[0margmax\u001b[0m\u001b[0;34m(\u001b[0m\u001b[0mlogits\u001b[0m\u001b[0;34m,\u001b[0m \u001b[0mdim\u001b[0m\u001b[0;34m=\u001b[0m\u001b[0;36m1\u001b[0m\u001b[0;34m)\u001b[0m\u001b[0;34m\u001b[0m\u001b[0;34m\u001b[0m\u001b[0m\n\u001b[0m\u001b[1;32m     97\u001b[0m             \u001b[0mall_preds\u001b[0m\u001b[0;34m.\u001b[0m\u001b[0mappend\u001b[0m\u001b[0;34m(\u001b[0m\u001b[0mpreds\u001b[0m\u001b[0;34m.\u001b[0m\u001b[0mcpu\u001b[0m\u001b[0;34m(\u001b[0m\u001b[0;34m)\u001b[0m\u001b[0;34m)\u001b[0m\u001b[0;34m\u001b[0m\u001b[0;34m\u001b[0m\u001b[0m\n\u001b[1;32m     98\u001b[0m             \u001b[0mall_labels\u001b[0m\u001b[0;34m.\u001b[0m\u001b[0mappend\u001b[0m\u001b[0;34m(\u001b[0m\u001b[0mY\u001b[0m\u001b[0;34m.\u001b[0m\u001b[0mcpu\u001b[0m\u001b[0;34m(\u001b[0m\u001b[0;34m)\u001b[0m\u001b[0;34m)\u001b[0m\u001b[0;34m\u001b[0m\u001b[0;34m\u001b[0m\u001b[0m\n",
      "\u001b[0;31mKeyboardInterrupt\u001b[0m: "
     ]
    }
   ],
   "source": [
    "config = {'epochs': 20, \n",
    "          'lr':1e-3, \n",
    "          'batch_size':48, \n",
    "          'weight_decay':1e-4, \n",
    "          'sigmas':[2e-16,2e-12,2e-8,2e-4,2e+0,2e+4,2e+8,2e+12,2e+16], \n",
    "          'scale':128.0\n",
    "          }\n",
    "analysis(source=[\"Art\", \"Real World\", \"Product\"], target=[\"Clipart\"], config=config, cache_source=cache_source, cache_target=cache_target)"
   ]
  },
  {
   "cell_type": "code",
   "execution_count": null,
   "id": "0a63a3d2",
   "metadata": {},
   "outputs": [
    {
     "ename": "NameError",
     "evalue": "name 'cache_source_train' is not defined",
     "output_type": "error",
     "traceback": [
      "\u001b[0;31m---------------------------------------------------------------------------\u001b[0m",
      "\u001b[0;31mNameError\u001b[0m                                 Traceback (most recent call last)",
      "\u001b[0;32m/tmp/ipykernel_483/2046400396.py\u001b[0m in \u001b[0;36m<cell line: 0>\u001b[0;34m()\u001b[0m\n\u001b[0;32m----> 1\u001b[0;31m \u001b[0mevaluate_ds\u001b[0m\u001b[0;34m(\u001b[0m\u001b[0mcache_source_train\u001b[0m\u001b[0;34m,\u001b[0m \u001b[0mtruncated_model\u001b[0m\u001b[0;34m,\u001b[0m \u001b[0mdevice\u001b[0m\u001b[0;34m,\u001b[0m \u001b[0mtarget\u001b[0m\u001b[0;34m[\u001b[0m\u001b[0;36m0\u001b[0m\u001b[0;34m]\u001b[0m\u001b[0;34m)\u001b[0m\u001b[0;34m\u001b[0m\u001b[0;34m\u001b[0m\u001b[0m\n\u001b[0m",
      "\u001b[0;31mNameError\u001b[0m: name 'cache_source_train' is not defined"
     ]
    }
   ],
   "source": []
  },
  {
   "cell_type": "code",
   "execution_count": null,
   "id": "6a25ccb8",
   "metadata": {},
   "outputs": [],
   "source": []
  }
 ],
 "metadata": {
  "kernelspec": {
   "display_name": "Python 3 (ipykernel)",
   "language": "python",
   "name": "python3"
  },
  "language_info": {
   "codemirror_mode": {
    "name": "ipython",
    "version": 3
   },
   "file_extension": ".py",
   "mimetype": "text/x-python",
   "name": "python",
   "nbconvert_exporter": "python",
   "pygments_lexer": "ipython3",
   "version": "3.11.13"
  }
 },
 "nbformat": 4,
 "nbformat_minor": 5
}
