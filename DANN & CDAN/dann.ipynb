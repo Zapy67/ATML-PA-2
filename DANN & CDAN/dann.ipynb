{
 "cells": [
  {
   "cell_type": "markdown",
   "id": "5a71f416",
   "metadata": {},
   "source": [
    "## Imports"
   ]
  },
  {
   "cell_type": "code",
   "execution_count": null,
   "id": "5a9ad2ab",
   "metadata": {},
   "outputs": [],
   "source": [
    "!pip install \"deeplake<4\""
   ]
  },
  {
   "cell_type": "code",
   "execution_count": null,
   "id": "1654bf86",
   "metadata": {},
   "outputs": [],
   "source": [
    "import deeplake\n",
    "from torch.utils.data import DataLoader, Dataset\n",
    "from torchvision import transforms\n",
    "from torch.utils.data import ConcatDataset\n",
    "import torch\n",
    "import numpy as np\n",
    "import matplotlib.pyplot as plt\n",
    "import random"
   ]
  },
  {
   "cell_type": "code",
   "execution_count": null,
   "id": "ee1765ba",
   "metadata": {},
   "outputs": [],
   "source": [
    "from utils.dataset import MEAN, STD, DeepLakeWrapper"
   ]
  },
  {
   "cell_type": "markdown",
   "id": "bdebc09d",
   "metadata": {},
   "source": [
    "### Loading Dataset using DeepLake"
   ]
  },
  {
   "cell_type": "code",
   "execution_count": null,
   "id": "ff007e26",
   "metadata": {},
   "outputs": [],
   "source": [
    "ds = deeplake.load(\"hub://activeloop/office-home-domain-adaptation\")"
   ]
  },
  {
   "cell_type": "markdown",
   "id": "a5e9cbe0",
   "metadata": {},
   "source": [
    "domain_map = {0: \"RealWorld\", 1: \"Product\", 2: \"Art\", 3: \"Clipart\"} # For reference\n",
    "\n",
    "def filter_by_domain(ds, domain_id):\n",
    "    \"\"\"Return a Deep Lake subset for a specific domain.\"\"\"\n",
    "    return ds.filter(lambda x: int(x['domain_categories'].numpy()[0]) == domain_id)\n",
    "    \n",
    "art_ds = filter_by_domain(ds, 2)\n",
    "clipart_ds = filter_by_domain(ds, 3)\n",
    "product_ds = filter_by_domain(ds, 1)\n",
    "real_ds = filter_by_domain(ds, 0)"
   ]
  },
  {
   "cell_type": "code",
   "execution_count": null,
   "id": "e5b4a3d1",
   "metadata": {},
   "outputs": [],
   "source": [
    "art_torch = DeepLakeWrapper(art_ds, domain_label=2)\n",
    "product_torch = DeepLakeWrapper(product_ds, domain_label=1)\n",
    "real_torch = DeepLakeWrapper(real_ds, domain_label=0)\n",
    "clipart_torch = DeepLakeWrapper(clipart_ds, domain_label=3)"
   ]
  },
  {
   "cell_type": "code",
   "execution_count": null,
   "id": "b6301316",
   "metadata": {},
   "outputs": [],
   "source": [
    "source_ds = ConcatDataset([art_torch, product_torch, real_torch])\n",
    "target_ds = clipart_torch"
   ]
  },
  {
   "cell_type": "code",
   "execution_count": null,
   "id": "7410e1ef",
   "metadata": {},
   "outputs": [],
   "source": [
    "source_loader = DataLoader(source_ds, batch_size=32, shuffle=True, num_workers=2)\n",
    "target_loader = DataLoader(target_ds, batch_size=32, shuffle=True, num_workers=2)"
   ]
  },
  {
   "cell_type": "code",
   "execution_count": null,
   "id": "96c55fe5",
   "metadata": {},
   "outputs": [],
   "source": [
    "def denormalize_batch(imgs_tensor, mean=MEAN, std=STD):\n",
    "    \"\"\"Imgs: Tensor (N, C, H, W) normalized. Returns uint8 numpy (N, H, W, C).\"\"\"\n",
    "    imgs = imgs_tensor.detach().cpu().clone()\n",
    "    # imgs * std + mean  (per-channel)\n",
    "    for t, m, s in zip(imgs, mean, std):\n",
    "        t.mul_(s).add_(m)\n",
    "    imgs = imgs.permute(0, 2, 3, 1).numpy()  # N,H,W,C with floats in [0,1] (roughly)\n",
    "    imgs = (imgs * 255.0).clip(0, 255).astype(np.uint8)\n",
    "    return imgs"
   ]
  },
  {
   "cell_type": "code",
   "execution_count": null,
   "id": "19fdc435",
   "metadata": {},
   "outputs": [],
   "source": [
    "def show_images(imgs, labels=None, domains=None, title=\"Batch\", max_images=8, class_map=None, domain_map=None):\n",
    "    imgs_np = denormalize_batch(imgs)  # returns floats [0,1]\n",
    "    n = min(max_images, len(imgs_np))\n",
    "    cols = min(8, n)\n",
    "    rows = (n + cols - 1) // cols\n",
    "\n",
    "    plt.figure(figsize=(cols * 3, rows * 3))\n",
    "    for i in range(n):\n",
    "        plt.subplot(rows, cols, i + 1)\n",
    "        plt.imshow(imgs_np[i])\n",
    "        lbl = \"\"\n",
    "        if labels is not None:\n",
    "            lab = labels[i].item() if hasattr(labels[i], \"item\") else int(labels[i])\n",
    "            if class_map is not None:\n",
    "                lbl += f\"{class_map.get(lab, lab)}\"\n",
    "            else:\n",
    "                lbl += f\"Class: {lab}\"\n",
    "        if domains is not None:\n",
    "            d = domains[i].item() if hasattr(domains[i], \"item\") else int(domains[i])\n",
    "            dname = domain_map.get(d, d) if domain_map is not None else d\n",
    "            lbl += f\"\\nDomain: {dname}\"\n",
    "        plt.title(lbl, fontsize=9)\n",
    "        plt.axis(\"off\")\n",
    "    plt.suptitle(title)\n",
    "    plt.show()\n"
   ]
  },
  {
   "cell_type": "code",
   "execution_count": null,
   "id": "c283a3af",
   "metadata": {},
   "outputs": [],
   "source": [
    "imgs, labels, domains = next(iter(source_loader))\n",
    "t_imgs, t_labels, t_domains = next(iter(target_loader))\n",
    "\n",
    "# show source images\n",
    "show_images(imgs, labels, domains, title=\"Source batch (Art + Product + Real)\", max_images=8, domain_map=domain_map)\n",
    "# show target images\n",
    "show_images(t_imgs, t_labels, t_domains, title=\"Target Batch (Clipart)\", max_images=8, domain_map=domain_map)"
   ]
  },
  {
   "cell_type": "markdown",
   "id": "f4f03c07",
   "metadata": {},
   "source": [
    "### Loading Repo"
   ]
  },
  {
   "cell_type": "markdown",
   "id": "127ed376",
   "metadata": {},
   "source": [
    "!git clone -b talib-1 http://github.com/Zapy67/ATML-PA-2"
   ]
  },
  {
   "cell_type": "code",
   "execution_count": null,
   "id": "e4535819",
   "metadata": {},
   "outputs": [],
   "source": [
    "!git pull http://github.com/Zapy67/ATML-PA-2 talib-1"
   ]
  },
  {
   "cell_type": "code",
   "execution_count": null,
   "id": "ed1b40fa",
   "metadata": {},
   "outputs": [],
   "source": [
    "%cd ATML-PA-2"
   ]
  },
  {
   "cell_type": "code",
   "execution_count": null,
   "id": "612fe8ba",
   "metadata": {},
   "outputs": [],
   "source": [
    "!ls"
   ]
  },
  {
   "cell_type": "markdown",
   "id": "3f9c2156",
   "metadata": {},
   "source": [
    "## DANN Training"
   ]
  },
  {
   "cell_type": "code",
   "execution_count": null,
   "id": "10df602e",
   "metadata": {},
   "outputs": [],
   "source": []
  },
  {
   "cell_type": "markdown",
   "id": "a828df15",
   "metadata": {},
   "source": []
  }
 ],
 "metadata": {
  "kernelspec": {
   "display_name": "Python 3 (ipykernel)",
   "language": "python",
   "name": "python3"
  }
 },
 "nbformat": 4,
 "nbformat_minor": 5
}
