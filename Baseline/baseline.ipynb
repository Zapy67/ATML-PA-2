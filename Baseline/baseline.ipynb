{
 "cells": [
  {
   "cell_type": "code",
   "execution_count": 1,
   "id": "9835a783",
   "metadata": {},
   "outputs": [
    {
     "name": "stdout",
     "output_type": "stream",
     "text": [
      "\u001b[0m\u001b[01;34mATML-PA-2\u001b[0m/\n"
     ]
    }
   ],
   "source": [
    "ls"
   ]
  },
  {
   "cell_type": "code",
   "execution_count": 2,
   "id": "785ab2dd",
   "metadata": {},
   "outputs": [
    {
     "name": "stdout",
     "output_type": "stream",
     "text": [
      "/kaggle/working/ATML-PA-2/Baseline\n"
     ]
    }
   ],
   "source": [
    "cd ATML-PA-2/Baseline"
   ]
  },
  {
   "cell_type": "code",
   "execution_count": 29,
   "id": "6f60fb80",
   "metadata": {},
   "outputs": [],
   "source": [
    "%load_ext autoreload\n",
    "%autoreload 2"
   ]
  },
  {
   "cell_type": "code",
   "execution_count": 43,
   "id": "3e6df2cd",
   "metadata": {
    "id": "3e6df2cd"
   },
   "outputs": [],
   "source": [
    "import importlib\n",
    "import utils\n",
    "import architecture\n",
    "import train\n",
    "importlib.reload(utils)\n",
    "importlib.reload(architecture)\n",
    "importlib.reload(train)\n",
    "\n",
    "\n",
    "from utils.dataset import FeatureTensorDataset, OfficeHomeDataset, _truncate_resnet_from\n",
    "from torchvision.models import ResNet50_Weights\n",
    "from importlib import reload\n",
    "import train\n",
    "from train import train_workflow\n",
    "import types\n",
    "from utils.tsne import tsne_plot, get_features\n",
    "from utils.evaluation import evaluate_ds\n",
    "import matplotlib.pyplot as plt\n",
    "import os\n",
    "from architecture import resnet_classifier"
   ]
  },
  {
   "cell_type": "code",
   "execution_count": 31,
   "id": "3d983866",
   "metadata": {
    "colab": {
     "base_uri": "https://localhost:8080/",
     "height": 35
    },
    "executionInfo": {
     "elapsed": 14,
     "status": "ok",
     "timestamp": 1760268855646,
     "user": {
      "displayName": "shayan asim",
      "userId": "01508850057683119261"
     },
     "user_tz": -300
    },
    "id": "3d983866",
    "outputId": "4af2d9e4-8d48-4558-c958-b2a8f557b95c"
   },
   "outputs": [
    {
     "data": {
      "text/plain": [
       "'cuda'"
      ]
     },
     "execution_count": 31,
     "metadata": {},
     "output_type": "execute_result"
    }
   ],
   "source": [
    "import torch\n",
    "device = \"cuda\" if torch.cuda.is_available() else \"cpu\"\n",
    "device"
   ]
  },
  {
   "cell_type": "code",
   "execution_count": 32,
   "id": "ef1c0655",
   "metadata": {
    "id": "ef1c0655"
   },
   "outputs": [],
   "source": [
    "root_dir = \"../datasets/OfficeHomeDataset\"\n",
    "csv_file = f\"{root_dir}/ImageInfo.csv\"\n",
    "\n",
    "transform = ResNet50_Weights.IMAGENET1K_V1.transforms()\n",
    "\n",
    "classes = os.listdir(f\"{root_dir}/Art\")\n"
   ]
  },
  {
   "cell_type": "code",
   "execution_count": null,
   "id": "799d612b",
   "metadata": {
    "id": "799d612b"
   },
   "outputs": [],
   "source": [
    "import matplotlib.pyplot as plt\n",
    "\n",
    "def analysis(source, target, config, cache_source=None, cache_target=None):\n",
    "\n",
    "    model = resnet_classifier(num_classes=len(classes))\n",
    "\n",
    "    if cache_source is None:\n",
    "        source_ds = OfficeHomeDataset(root_dir, csv_file, source, transform)\n",
    "        cache_source = FeatureTensorDataset(source_ds, model, layer_name='layer3', device=device, batch_size=64)\n",
    "\n",
    "    if cache_target is None:\n",
    "        target_ds = OfficeHomeDataset(root_dir, csv_file, target, transform)\n",
    "        cache_target = FeatureTensorDataset(target_ds, model, layer_name='layer3', device=device, batch_size=64)\n",
    "\n",
    "    truncated_model = _truncate_resnet_from(model, 'layer3')\n",
    "\n",
    "    def _forward_impl(self, x):\n",
    "        f4 = self.layer4(x)\n",
    "        x = torch.flatten(self.avgpool(f4), 1)\n",
    "        x = self.fc(x)\n",
    "        return x\n",
    "\n",
    "    import types\n",
    "    truncated_model.forward = types.MethodType(_forward_impl, truncated_model)\n",
    "\n",
    "    train_workflow(truncated_model, cache_source, cache_target, config, device=device)\n",
    "    evaluate_ds(cache_target, truncated_model, device, target[0], None)\n",
    "\n",
    "    latents_s, labels_s = get_features(truncated_model[:-1], cache_source, batchsize=32, device=device)\n",
    "    latents_t, labels_t = get_features(truncated_model[:-1], cache_target, batchsize=32, device=device)\n",
    "\n",
    "    if latents_s.dim() > 2:\n",
    "        latents_s = latents_s.flatten(start_dim=1)\n",
    "    if latents_t.dim() > 2:\n",
    "        latents_t = latents_t.flatten(start_dim=1)\n",
    "\n",
    "    latents = torch.cat([latents_s, latents_t], dim=0)\n",
    "    domain_labels = torch.cat([\n",
    "        torch.zeros(latents_s.shape[0], dtype=torch.long),   # 0 = source\n",
    "        torch.ones(latents_t.shape[0], dtype=torch.long)     # 1 = target\n",
    "    ])\n",
    "\n",
    "    fig, ax = plt.subplots(figsize=(8, 6))\n",
    "    tsne_plot(latents, domain_labels, classes=[\"Source\", \"Target\"], ax=ax, fig=fig, perplexity=30)\n",
    "    plt.title(\"t-SNE Domain Clustering: Source vs Target\")\n",
    "    plt.show()"
   ]
  },
  {
   "cell_type": "code",
   "execution_count": 34,
   "id": "T0-RZ4u4GVqz",
   "metadata": {
    "colab": {
     "base_uri": "https://localhost:8080/"
    },
    "executionInfo": {
     "elapsed": 1037,
     "status": "ok",
     "timestamp": 1760268877121,
     "user": {
      "displayName": "shayan asim",
      "userId": "01508850057683119261"
     },
     "user_tz": -300
    },
    "id": "T0-RZ4u4GVqz",
    "outputId": "83ad492a-81e1-44aa-eb27-51da549de49b"
   },
   "outputs": [],
   "source": [
    "model = resnet_classifier(num_classes=len(classes))"
   ]
  },
  {
   "cell_type": "code",
   "execution_count": 35,
   "id": "d18ea238",
   "metadata": {
    "id": "d18ea238"
   },
   "outputs": [],
   "source": [
    "sources = [\"Art\", \"Real World\", \"Product\"]\n",
    "target = [\"Clipart\"]\n",
    "source_ds = OfficeHomeDataset(root_dir, csv_file, sources, transform)\n",
    "target_ds = OfficeHomeDataset(root_dir, csv_file, target, transform)"
   ]
  },
  {
   "cell_type": "code",
   "execution_count": null,
   "id": "754afdeb",
   "metadata": {
    "colab": {
     "base_uri": "https://localhost:8080/"
    },
    "id": "754afdeb",
    "outputId": "fef21904-1f85-4816-9f6f-ac754a414456"
   },
   "outputs": [
    {
     "name": "stderr",
     "output_type": "stream",
     "text": [
      "Precomputing up to layer3: 100%|██████████| 351/351 [03:10<00:00,  1.84it/s]\n",
      "Precomputing up to layer3: 100%|██████████| 137/137 [00:47<00:00,  2.91it/s]\n"
     ]
    }
   ],
   "source": [
    "cache_source = FeatureTensorDataset(source_ds, model, layer_name='layer3', device=device, batch_size=32)\n",
    "cache_target = FeatureTensorDataset(target_ds, model, layer_name='layer3', device=device, batch_size=32)"
   ]
  },
  {
   "cell_type": "code",
   "execution_count": 44,
   "id": "d2db9b49",
   "metadata": {
    "id": "d2db9b49",
    "outputId": "b908701e-01e7-468f-c982-552aec243018"
   },
   "outputs": [
    {
     "name": "stderr",
     "output_type": "stream",
     "text": [
      "Training:   0%|          | 0/1 [00:00<?, ?it/s]"
     ]
    },
    {
     "name": "stdout",
     "output_type": "stream",
     "text": [
      "\n",
      "Epoch 1/1\n",
      "\n",
      "Train loss: 1.23387 |  Train acc: 70.39 %\n",
      "\n",
      "Test loss: 2.37389 | Test acc: 43.41 %\n",
      "\n"
     ]
    },
    {
     "name": "stderr",
     "output_type": "stream",
     "text": [
      "Training: 100%|██████████| 1/1 [00:16<00:00, 16.68s/it]\n"
     ]
    },
    {
     "name": "stdout",
     "output_type": "stream",
     "text": [
      "\n",
      "=== Evaluation for Clipart Domain ===\n",
      "Accuracy: 43.41%\n",
      "Confusion Matrix:\n",
      "\n"
     ]
    },
    {
     "ename": "TypeError",
     "evalue": "object of type 'NoneType' has no len()",
     "output_type": "error",
     "traceback": [
      "\u001b[0;31m---------------------------------------------------------------------------\u001b[0m",
      "\u001b[0;31mTypeError\u001b[0m                                 Traceback (most recent call last)",
      "\u001b[0;32m/tmp/ipykernel_259/3632630618.py\u001b[0m in \u001b[0;36m<cell line: 0>\u001b[0;34m()\u001b[0m\n\u001b[1;32m      1\u001b[0m \u001b[0mconfig\u001b[0m \u001b[0;34m=\u001b[0m \u001b[0;34m{\u001b[0m\u001b[0;34m'epochs'\u001b[0m\u001b[0;34m:\u001b[0m\u001b[0;36m1\u001b[0m\u001b[0;34m,\u001b[0m \u001b[0;34m'lr'\u001b[0m\u001b[0;34m:\u001b[0m\u001b[0;36m1e-3\u001b[0m\u001b[0;34m,\u001b[0m \u001b[0;34m'batch_size'\u001b[0m\u001b[0;34m:\u001b[0m\u001b[0;36m32\u001b[0m\u001b[0;34m,\u001b[0m \u001b[0;34m'weight_decay'\u001b[0m\u001b[0;34m:\u001b[0m\u001b[0;36m1e-5\u001b[0m\u001b[0;34m}\u001b[0m\u001b[0;34m\u001b[0m\u001b[0;34m\u001b[0m\u001b[0m\n\u001b[0;32m----> 2\u001b[0;31m \u001b[0manalysis\u001b[0m\u001b[0;34m(\u001b[0m\u001b[0msource\u001b[0m\u001b[0;34m=\u001b[0m\u001b[0;34m[\u001b[0m\u001b[0;34m\"Art\"\u001b[0m\u001b[0;34m,\u001b[0m \u001b[0;34m\"Real World\"\u001b[0m\u001b[0;34m,\u001b[0m \u001b[0;34m\"Product\"\u001b[0m\u001b[0;34m]\u001b[0m\u001b[0;34m,\u001b[0m \u001b[0mtarget\u001b[0m\u001b[0;34m=\u001b[0m\u001b[0;34m[\u001b[0m\u001b[0;34m\"Clipart\"\u001b[0m\u001b[0;34m]\u001b[0m\u001b[0;34m,\u001b[0m \u001b[0mconfig\u001b[0m\u001b[0;34m=\u001b[0m\u001b[0mconfig\u001b[0m\u001b[0;34m,\u001b[0m \u001b[0mcache_source\u001b[0m\u001b[0;34m=\u001b[0m\u001b[0mcache_source\u001b[0m\u001b[0;34m,\u001b[0m \u001b[0mcache_target\u001b[0m\u001b[0;34m=\u001b[0m\u001b[0mcache_target\u001b[0m\u001b[0;34m,\u001b[0m \u001b[0;34m)\u001b[0m\u001b[0;34m\u001b[0m\u001b[0;34m\u001b[0m\u001b[0m\n\u001b[0m",
      "\u001b[0;32m/tmp/ipykernel_259/3586105810.py\u001b[0m in \u001b[0;36manalysis\u001b[0;34m(source, target, config, cache_source, cache_target)\u001b[0m\n\u001b[1;32m     25\u001b[0m \u001b[0;34m\u001b[0m\u001b[0m\n\u001b[1;32m     26\u001b[0m     \u001b[0mtrain_workflow\u001b[0m\u001b[0;34m(\u001b[0m\u001b[0mtruncated_model\u001b[0m\u001b[0;34m,\u001b[0m \u001b[0mcache_source\u001b[0m\u001b[0;34m,\u001b[0m \u001b[0mcache_target\u001b[0m\u001b[0;34m,\u001b[0m \u001b[0mconfig\u001b[0m\u001b[0;34m,\u001b[0m \u001b[0mdevice\u001b[0m\u001b[0;34m=\u001b[0m\u001b[0mdevice\u001b[0m\u001b[0;34m)\u001b[0m\u001b[0;34m\u001b[0m\u001b[0;34m\u001b[0m\u001b[0m\n\u001b[0;32m---> 27\u001b[0;31m     \u001b[0mevaluate_ds\u001b[0m\u001b[0;34m(\u001b[0m\u001b[0mcache_target\u001b[0m\u001b[0;34m,\u001b[0m \u001b[0mtruncated_model\u001b[0m\u001b[0;34m,\u001b[0m \u001b[0mdevice\u001b[0m\u001b[0;34m,\u001b[0m \u001b[0mtarget\u001b[0m\u001b[0;34m[\u001b[0m\u001b[0;36m0\u001b[0m\u001b[0;34m]\u001b[0m\u001b[0;34m,\u001b[0m \u001b[0;32mNone\u001b[0m\u001b[0;34m)\u001b[0m\u001b[0;34m\u001b[0m\u001b[0;34m\u001b[0m\u001b[0m\n\u001b[0m\u001b[1;32m     28\u001b[0m \u001b[0;34m\u001b[0m\u001b[0m\n\u001b[1;32m     29\u001b[0m     \u001b[0mlatents_s\u001b[0m\u001b[0;34m,\u001b[0m \u001b[0mlabels_s\u001b[0m \u001b[0;34m=\u001b[0m \u001b[0mget_features\u001b[0m\u001b[0;34m(\u001b[0m\u001b[0mtruncated_model\u001b[0m\u001b[0;34m[\u001b[0m\u001b[0;34m:\u001b[0m\u001b[0;34m-\u001b[0m\u001b[0;36m1\u001b[0m\u001b[0;34m]\u001b[0m\u001b[0;34m,\u001b[0m \u001b[0mcache_source\u001b[0m\u001b[0;34m,\u001b[0m \u001b[0mbatchsize\u001b[0m\u001b[0;34m=\u001b[0m\u001b[0;36m32\u001b[0m\u001b[0;34m,\u001b[0m \u001b[0mdevice\u001b[0m\u001b[0;34m=\u001b[0m\u001b[0mdevice\u001b[0m\u001b[0;34m)\u001b[0m\u001b[0;34m\u001b[0m\u001b[0;34m\u001b[0m\u001b[0m\n",
      "\u001b[0;32m/kaggle/working/ATML-PA-2/Baseline/utils/evaluation.py\u001b[0m in \u001b[0;36mevaluate_ds\u001b[0;34m(ds, model, device, domain_name, class_names)\u001b[0m\n\u001b[1;32m     34\u001b[0m     \u001b[0mprint\u001b[0m\u001b[0;34m(\u001b[0m\u001b[0;34mf\"Accuracy: {acc*100:.2f}%\"\u001b[0m\u001b[0;34m)\u001b[0m\u001b[0;34m\u001b[0m\u001b[0;34m\u001b[0m\u001b[0m\n\u001b[1;32m     35\u001b[0m     \u001b[0mprint\u001b[0m\u001b[0;34m(\u001b[0m\u001b[0;34m\"Confusion Matrix:\\n\"\u001b[0m\u001b[0;34m)\u001b[0m\u001b[0;34m\u001b[0m\u001b[0;34m\u001b[0m\u001b[0m\n\u001b[0;32m---> 36\u001b[0;31m     \u001b[0msns\u001b[0m\u001b[0;34m.\u001b[0m\u001b[0mheatmap\u001b[0m\u001b[0;34m(\u001b[0m\u001b[0mcm\u001b[0m\u001b[0;34m,\u001b[0m \u001b[0mcmap\u001b[0m\u001b[0;34m=\u001b[0m\u001b[0;34m\"Blues\"\u001b[0m\u001b[0;34m,\u001b[0m \u001b[0mxticklabels\u001b[0m\u001b[0;34m=\u001b[0m\u001b[0mclass_names\u001b[0m\u001b[0;34m,\u001b[0m \u001b[0myticklabels\u001b[0m\u001b[0;34m=\u001b[0m\u001b[0mclass_names\u001b[0m\u001b[0;34m)\u001b[0m\u001b[0;34m\u001b[0m\u001b[0;34m\u001b[0m\u001b[0m\n\u001b[0m\u001b[1;32m     37\u001b[0m     \u001b[0mprint\u001b[0m\u001b[0;34m(\u001b[0m\u001b[0;34m\"Classification Report:\\n\"\u001b[0m\u001b[0;34m,\u001b[0m \u001b[0mreport\u001b[0m\u001b[0;34m)\u001b[0m\u001b[0;34m\u001b[0m\u001b[0;34m\u001b[0m\u001b[0m\n\u001b[1;32m     38\u001b[0m \u001b[0;34m\u001b[0m\u001b[0m\n",
      "\u001b[0;32m/usr/local/lib/python3.11/dist-packages/seaborn/matrix.py\u001b[0m in \u001b[0;36mheatmap\u001b[0;34m(data, vmin, vmax, cmap, center, robust, annot, fmt, annot_kws, linewidths, linecolor, cbar, cbar_kws, cbar_ax, square, xticklabels, yticklabels, mask, ax, **kwargs)\u001b[0m\n\u001b[1;32m    444\u001b[0m     \"\"\"\n\u001b[1;32m    445\u001b[0m     \u001b[0;31m# Initialize the plotter object\u001b[0m\u001b[0;34m\u001b[0m\u001b[0;34m\u001b[0m\u001b[0m\n\u001b[0;32m--> 446\u001b[0;31m     plotter = _HeatMapper(data, vmin, vmax, cmap, center, robust, annot, fmt,\n\u001b[0m\u001b[1;32m    447\u001b[0m                           \u001b[0mannot_kws\u001b[0m\u001b[0;34m,\u001b[0m \u001b[0mcbar\u001b[0m\u001b[0;34m,\u001b[0m \u001b[0mcbar_kws\u001b[0m\u001b[0;34m,\u001b[0m \u001b[0mxticklabels\u001b[0m\u001b[0;34m,\u001b[0m\u001b[0;34m\u001b[0m\u001b[0;34m\u001b[0m\u001b[0m\n\u001b[1;32m    448\u001b[0m                           yticklabels, mask)\n",
      "\u001b[0;32m/usr/local/lib/python3.11/dist-packages/seaborn/matrix.py\u001b[0m in \u001b[0;36m__init__\u001b[0;34m(self, data, vmin, vmax, cmap, center, robust, annot, fmt, annot_kws, cbar, cbar_kws, xticklabels, yticklabels, mask)\u001b[0m\n\u001b[1;32m    134\u001b[0m             \u001b[0myticklabels\u001b[0m \u001b[0;34m=\u001b[0m \u001b[0;34m[\u001b[0m\u001b[0;34m]\u001b[0m\u001b[0;34m\u001b[0m\u001b[0;34m\u001b[0m\u001b[0m\n\u001b[1;32m    135\u001b[0m \u001b[0;34m\u001b[0m\u001b[0m\n\u001b[0;32m--> 136\u001b[0;31m         \u001b[0;32mif\u001b[0m \u001b[0;32mnot\u001b[0m \u001b[0mlen\u001b[0m\u001b[0;34m(\u001b[0m\u001b[0mxticklabels\u001b[0m\u001b[0;34m)\u001b[0m\u001b[0;34m:\u001b[0m\u001b[0;34m\u001b[0m\u001b[0;34m\u001b[0m\u001b[0m\n\u001b[0m\u001b[1;32m    137\u001b[0m             \u001b[0mself\u001b[0m\u001b[0;34m.\u001b[0m\u001b[0mxticks\u001b[0m \u001b[0;34m=\u001b[0m \u001b[0;34m[\u001b[0m\u001b[0;34m]\u001b[0m\u001b[0;34m\u001b[0m\u001b[0;34m\u001b[0m\u001b[0m\n\u001b[1;32m    138\u001b[0m             \u001b[0mself\u001b[0m\u001b[0;34m.\u001b[0m\u001b[0mxticklabels\u001b[0m \u001b[0;34m=\u001b[0m \u001b[0;34m[\u001b[0m\u001b[0;34m]\u001b[0m\u001b[0;34m\u001b[0m\u001b[0;34m\u001b[0m\u001b[0m\n",
      "\u001b[0;31mTypeError\u001b[0m: object of type 'NoneType' has no len()"
     ]
    }
   ],
   "source": [
    "config = {'epochs':1, 'lr':1e-3, 'batch_size':32, 'weight_decay':1e-5}\n",
    "analysis(source=[\"Art\", \"Real World\", \"Product\"], target=[\"Clipart\"], config=config, cache_source=cache_source, cache_target=cache_target, )"
   ]
  },
  {
   "cell_type": "code",
   "execution_count": 40,
   "id": "ec08b194",
   "metadata": {
    "id": "ec08b194"
   },
   "outputs": [
    {
     "data": {
      "text/plain": [
       "4365"
      ]
     },
     "execution_count": 40,
     "metadata": {},
     "output_type": "execute_result"
    }
   ],
   "source": [
    "len(cache_target)"
   ]
  },
  {
   "cell_type": "code",
   "execution_count": null,
   "id": "27f24571",
   "metadata": {
    "id": "27f24571"
   },
   "outputs": [],
   "source": []
  }
 ],
 "metadata": {
  "accelerator": "GPU",
  "colab": {
   "gpuType": "T4",
   "provenance": []
  },
  "kernelspec": {
   "display_name": "Python 3 (ipykernel)",
   "language": "python",
   "name": "python3"
  },
  "language_info": {
   "codemirror_mode": {
    "name": "ipython",
    "version": 3
   },
   "file_extension": ".py",
   "mimetype": "text/x-python",
   "name": "python",
   "nbconvert_exporter": "python",
   "pygments_lexer": "ipython3",
   "version": "3.11.13"
  }
 },
 "nbformat": 4,
 "nbformat_minor": 5
}
