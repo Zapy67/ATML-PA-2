{
 "cells": [
  {
   "cell_type": "code",
   "execution_count": 1,
   "id": "9835a783",
   "metadata": {},
   "outputs": [
    {
     "name": "stdout",
     "output_type": "stream",
     "text": [
      "\u001b[0m\u001b[01;34mATML-PA-2\u001b[0m/\n"
     ]
    }
   ],
   "source": [
    "ls"
   ]
  },
  {
   "cell_type": "code",
   "execution_count": 2,
   "id": "785ab2dd",
   "metadata": {},
   "outputs": [
    {
     "name": "stdout",
     "output_type": "stream",
     "text": [
      "/kaggle/working/ATML-PA-2/Baseline\n"
     ]
    }
   ],
   "source": [
    "cd ATML-PA-2/Baseline"
   ]
  },
  {
   "cell_type": "code",
   "execution_count": 29,
   "id": "6f60fb80",
   "metadata": {},
   "outputs": [],
   "source": [
    "%load_ext autoreload\n",
    "%autoreload 2"
   ]
  },
  {
   "cell_type": "code",
   "execution_count": 41,
   "id": "3e6df2cd",
   "metadata": {
    "id": "3e6df2cd"
   },
   "outputs": [],
   "source": [
    "import importlib\n",
    "import utils\n",
    "import architecture\n",
    "import train\n",
    "importlib.reload(utils)\n",
    "importlib.reload(architecture)\n",
    "importlib.reload(train)\n",
    "\n",
    "\n",
    "from utils.dataset import FeatureTensorDataset, OfficeHomeDataset, _truncate_resnet_from\n",
    "from torchvision.models import ResNet50_Weights\n",
    "from importlib import reload\n",
    "import train\n",
    "from train import train_workflow\n",
    "import types\n",
    "from utils.tsne import tsne_plot, get_features\n",
    "from utils.evaluation import evaluate_ds\n",
    "import matplotlib.pyplot as plt\n",
    "import os\n",
    "from architecture import resnet_classifier"
   ]
  },
  {
   "cell_type": "code",
   "execution_count": 31,
   "id": "3d983866",
   "metadata": {
    "colab": {
     "base_uri": "https://localhost:8080/",
     "height": 35
    },
    "executionInfo": {
     "elapsed": 14,
     "status": "ok",
     "timestamp": 1760268855646,
     "user": {
      "displayName": "shayan asim",
      "userId": "01508850057683119261"
     },
     "user_tz": -300
    },
    "id": "3d983866",
    "outputId": "4af2d9e4-8d48-4558-c958-b2a8f557b95c"
   },
   "outputs": [
    {
     "data": {
      "text/plain": [
       "'cuda'"
      ]
     },
     "execution_count": 31,
     "metadata": {},
     "output_type": "execute_result"
    }
   ],
   "source": [
    "import torch\n",
    "device = \"cuda\" if torch.cuda.is_available() else \"cpu\"\n",
    "device"
   ]
  },
  {
   "cell_type": "code",
   "execution_count": 32,
   "id": "ef1c0655",
   "metadata": {
    "id": "ef1c0655"
   },
   "outputs": [],
   "source": [
    "root_dir = \"../datasets/OfficeHomeDataset\"\n",
    "csv_file = f\"{root_dir}/ImageInfo.csv\"\n",
    "\n",
    "transform = ResNet50_Weights.IMAGENET1K_V1.transforms()\n",
    "\n",
    "classes = os.listdir(f\"{root_dir}/Art\")\n"
   ]
  },
  {
   "cell_type": "code",
   "execution_count": null,
   "id": "799d612b",
   "metadata": {
    "id": "799d612b"
   },
   "outputs": [],
   "source": [
    "import matplotlib.pyplot as plt\n",
    "\n",
    "def analysis(source, target, config, cache_source=None, cache_target=None):\n",
    "\n",
    "    model = resnet_classifier(num_classes=len(classes))\n",
    "\n",
    "    if cache_source is None:\n",
    "        source_ds = OfficeHomeDataset(root_dir, csv_file, source, transform)\n",
    "        cache_source = FeatureTensorDataset(source_ds, model, layer_name='layer3', device=device, batch_size=64)\n",
    "\n",
    "    if cache_target is None:\n",
    "        target_ds = OfficeHomeDataset(root_dir, csv_file, target, transform)\n",
    "        cache_target = FeatureTensorDataset(target_ds, model, layer_name='layer3', device=device, batch_size=64)\n",
    "\n",
    "    truncated_model = _truncate_resnet_from(model, 'layer3')\n",
    "\n",
    "    def _forward_impl(self, x):\n",
    "        f4 = self.layer4(x)\n",
    "        x = torch.flatten(self.avgpool(f4), 1)\n",
    "        x = self.fc(x)\n",
    "        return x\n",
    "\n",
    "    import types\n",
    "    truncated_model.forward = types.MethodType(_forward_impl, truncated_model)\n",
    "\n",
    "    train_workflow(truncated_model, cache_source, cache_target, config, device=device)\n",
    "    evaluate_ds(cache_target, truncated_model, device, target[0], None)\n",
    "\n",
    "    latents_s, labels_s = get_features(truncated_model[:-1], cache_source, batchsize=32, device=device)\n",
    "    latents_t, labels_t = get_features(truncated_model[:-1], cache_target, batchsize=32, device=device)\n",
    "\n",
    "    if latents_s.dim() > 2:\n",
    "        latents_s = latents_s.flatten(start_dim=1)\n",
    "    if latents_t.dim() > 2:\n",
    "        latents_t = latents_t.flatten(start_dim=1)\n",
    "\n",
    "    latents = torch.cat([latents_s, latents_t], dim=0)\n",
    "    domain_labels = torch.cat([\n",
    "        torch.zeros(latents_s.shape[0], dtype=torch.long),   # 0 = source\n",
    "        torch.ones(latents_t.shape[0], dtype=torch.long)     # 1 = target\n",
    "    ])\n",
    "\n",
    "    fig, ax = plt.subplots(figsize=(8, 6))\n",
    "    tsne_plot(latents, domain_labels, classes=[\"Source\", \"Target\"], ax=ax, fig=fig, perplexity=30)\n",
    "    plt.title(\"t-SNE Domain Clustering: Source vs Target\")\n",
    "    plt.show()"
   ]
  },
  {
   "cell_type": "code",
   "execution_count": 34,
   "id": "T0-RZ4u4GVqz",
   "metadata": {
    "colab": {
     "base_uri": "https://localhost:8080/"
    },
    "executionInfo": {
     "elapsed": 1037,
     "status": "ok",
     "timestamp": 1760268877121,
     "user": {
      "displayName": "shayan asim",
      "userId": "01508850057683119261"
     },
     "user_tz": -300
    },
    "id": "T0-RZ4u4GVqz",
    "outputId": "83ad492a-81e1-44aa-eb27-51da549de49b"
   },
   "outputs": [],
   "source": [
    "model = resnet_classifier(num_classes=len(classes))"
   ]
  },
  {
   "cell_type": "code",
   "execution_count": 35,
   "id": "d18ea238",
   "metadata": {
    "id": "d18ea238"
   },
   "outputs": [],
   "source": [
    "sources = [\"Art\", \"Real World\", \"Product\"]\n",
    "target = [\"Clipart\"]\n",
    "source_ds = OfficeHomeDataset(root_dir, csv_file, sources, transform)\n",
    "target_ds = OfficeHomeDataset(root_dir, csv_file, target, transform)"
   ]
  },
  {
   "cell_type": "code",
   "execution_count": null,
   "id": "754afdeb",
   "metadata": {
    "colab": {
     "base_uri": "https://localhost:8080/"
    },
    "id": "754afdeb",
    "outputId": "fef21904-1f85-4816-9f6f-ac754a414456"
   },
   "outputs": [
    {
     "name": "stderr",
     "output_type": "stream",
     "text": [
      "Precomputing up to layer3: 100%|██████████| 351/351 [03:10<00:00,  1.84it/s]\n",
      "Precomputing up to layer3: 100%|██████████| 137/137 [00:47<00:00,  2.91it/s]\n"
     ]
    }
   ],
   "source": [
    "cache_source = FeatureTensorDataset(source_ds, model, layer_name='layer3', device=device, batch_size=32)\n",
    "cache_target = FeatureTensorDataset(target_ds, model, layer_name='layer3', device=device, batch_size=32)"
   ]
  },
  {
   "cell_type": "code",
   "execution_count": 42,
   "id": "d2db9b49",
   "metadata": {
    "id": "d2db9b49",
    "outputId": "b908701e-01e7-468f-c982-552aec243018"
   },
   "outputs": [
    {
     "name": "stderr",
     "output_type": "stream",
     "text": [
      "Training:   0%|          | 0/10 [00:00<?, ?it/s]"
     ]
    },
    {
     "name": "stdout",
     "output_type": "stream",
     "text": [
      "\n",
      "Epoch 1/10\n",
      "\n",
      "Train loss: 1.24662 |  Train acc: 69.93 %\n",
      "\n",
      "Test loss: 2.27529 | Test acc: 46.30 %\n",
      "\n"
     ]
    },
    {
     "name": "stderr",
     "output_type": "stream",
     "text": [
      "Training:  10%|█         | 1/10 [00:16<02:28, 16.50s/it]"
     ]
    },
    {
     "name": "stdout",
     "output_type": "stream",
     "text": [
      "\n",
      "Epoch 2/10\n",
      "\n",
      "Train loss: 0.39666 |  Train acc: 89.38 %\n",
      "\n",
      "Test loss: 2.28099 | Test acc: 46.74 %\n",
      "\n"
     ]
    },
    {
     "name": "stderr",
     "output_type": "stream",
     "text": [
      "Training:  20%|██        | 2/10 [00:33<02:12, 16.55s/it]"
     ]
    },
    {
     "name": "stdout",
     "output_type": "stream",
     "text": [
      "\n",
      "Epoch 3/10\n",
      "\n",
      "Train loss: 0.17510 |  Train acc: 95.71 %\n",
      "\n",
      "Test loss: 2.50547 | Test acc: 45.77 %\n",
      "\n"
     ]
    },
    {
     "name": "stderr",
     "output_type": "stream",
     "text": [
      "Training:  30%|███       | 3/10 [00:49<01:55, 16.52s/it]"
     ]
    },
    {
     "name": "stdout",
     "output_type": "stream",
     "text": [
      "\n",
      "Epoch 4/10\n",
      "\n",
      "Train loss: 0.08048 |  Train acc: 98.38 %\n",
      "\n",
      "Test loss: 2.47063 | Test acc: 46.32 %\n",
      "\n"
     ]
    },
    {
     "name": "stderr",
     "output_type": "stream",
     "text": [
      "Training:  40%|████      | 4/10 [01:05<01:38, 16.40s/it]"
     ]
    },
    {
     "name": "stdout",
     "output_type": "stream",
     "text": [
      "\n",
      "Epoch 5/10\n",
      "\n",
      "Train loss: 0.04407 |  Train acc: 99.22 %\n",
      "\n",
      "Test loss: 2.50386 | Test acc: 47.29 %\n",
      "\n"
     ]
    },
    {
     "name": "stderr",
     "output_type": "stream",
     "text": [
      "Training:  50%|█████     | 5/10 [01:22<01:22, 16.48s/it]"
     ]
    },
    {
     "name": "stdout",
     "output_type": "stream",
     "text": [
      "\n",
      "Epoch 6/10\n",
      "\n",
      "Train loss: 0.03011 |  Train acc: 99.44 %\n",
      "\n",
      "Test loss: 2.58040 | Test acc: 47.01 %\n",
      "\n"
     ]
    },
    {
     "name": "stderr",
     "output_type": "stream",
     "text": [
      "Training:  60%|██████    | 6/10 [01:39<01:06, 16.57s/it]"
     ]
    },
    {
     "name": "stdout",
     "output_type": "stream",
     "text": [
      "\n",
      "Epoch 7/10\n",
      "\n",
      "Train loss: 0.02458 |  Train acc: 99.45 %\n",
      "\n",
      "Test loss: 2.48374 | Test acc: 48.36 %\n",
      "\n"
     ]
    },
    {
     "name": "stderr",
     "output_type": "stream",
     "text": [
      "Training:  70%|███████   | 7/10 [01:55<00:49, 16.55s/it]"
     ]
    },
    {
     "name": "stdout",
     "output_type": "stream",
     "text": [
      "\n",
      "Epoch 8/10\n",
      "\n",
      "Train loss: 0.02078 |  Train acc: 99.48 %\n",
      "\n",
      "Test loss: 2.69438 | Test acc: 46.69 %\n",
      "\n"
     ]
    },
    {
     "name": "stderr",
     "output_type": "stream",
     "text": [
      "Training:  80%|████████  | 8/10 [02:12<00:33, 16.61s/it]"
     ]
    },
    {
     "name": "stdout",
     "output_type": "stream",
     "text": [
      "\n",
      "Epoch 9/10\n",
      "\n",
      "Train loss: 0.01730 |  Train acc: 99.54 %\n",
      "\n",
      "Test loss: 2.52754 | Test acc: 47.97 %\n",
      "\n"
     ]
    },
    {
     "name": "stderr",
     "output_type": "stream",
     "text": [
      "Training:  90%|█████████ | 9/10 [02:28<00:16, 16.59s/it]"
     ]
    },
    {
     "name": "stdout",
     "output_type": "stream",
     "text": [
      "\n",
      "Epoch 10/10\n",
      "\n",
      "Train loss: 0.01533 |  Train acc: 99.52 %\n",
      "\n",
      "Test loss: 2.62728 | Test acc: 47.42 %\n",
      "\n"
     ]
    },
    {
     "name": "stderr",
     "output_type": "stream",
     "text": [
      "Training: 100%|██████████| 10/10 [02:45<00:00, 16.55s/it]\n"
     ]
    },
    {
     "name": "stdout",
     "output_type": "stream",
     "text": [
      "\n",
      "=== Evaluation for Clipart Domain ===\n",
      "Accuracy: 47.42%\n",
      "Confusion Matrix:\n",
      "\n",
      "Classification Report:\n",
      "               precision    recall  f1-score   support\n",
      "\n",
      "           0     0.5867    0.7333    0.6519        60\n",
      "           1     0.6190    0.2321    0.3377        56\n",
      "           2     0.6786    0.2969    0.4130        64\n",
      "           3     0.8889    0.0816    0.1495        98\n",
      "           4     0.9268    0.7677    0.8398        99\n",
      "           5     0.6735    0.3333    0.4459        99\n",
      "           6     0.4915    0.3973    0.4394        73\n",
      "           7     0.6721    0.8913    0.7664        46\n",
      "           8     0.5052    0.6282    0.5600        78\n",
      "           9     0.5156    0.3333    0.4049        99\n",
      "          10     0.7215    0.5758    0.6404        99\n",
      "          11     0.1379    0.1000    0.1159        40\n",
      "          12     0.3838    0.3838    0.3838        99\n",
      "          13     0.6897    0.3125    0.4301        64\n",
      "          14     0.7576    0.5952    0.6667        42\n",
      "          15     0.1558    0.2927    0.2034        41\n",
      "          16     0.7407    0.4167    0.5333        48\n",
      "          17     0.0926    0.1250    0.1064        40\n",
      "          18     0.2569    0.9024    0.4000        41\n",
      "          19     0.5283    0.5600    0.5437        50\n",
      "          20     0.4483    0.9750    0.6142        40\n",
      "          21     0.7619    0.8000    0.7805        40\n",
      "          22     0.9149    0.4343    0.5890        99\n",
      "          23     0.1667    0.6667    0.2667        99\n",
      "          24     0.1983    0.3770    0.2599        61\n",
      "          25     0.2332    0.8654    0.3673        52\n",
      "          26     0.4590    0.5657    0.5068        99\n",
      "          27     0.7500    0.3913    0.5143        69\n",
      "          28     0.5370    0.7250    0.6170        40\n",
      "          29     0.8841    0.6162    0.7262        99\n",
      "          30     0.4182    0.4340    0.4259        53\n",
      "          31     0.3768    0.6500    0.4771        40\n",
      "          32     0.7200    0.5455    0.6207        99\n",
      "          33     0.0976    0.1127    0.1046        71\n",
      "          34     0.5250    0.6364    0.5753        99\n",
      "          35     0.3333    0.4000    0.3636        40\n",
      "          36     0.6338    0.5921    0.6122        76\n",
      "          37     0.7222    0.5253    0.6082        99\n",
      "          38     0.5493    0.4699    0.5065        83\n",
      "          39     0.5600    0.3500    0.4308        40\n",
      "          40     0.6140    0.6863    0.6481        51\n",
      "          41     0.3297    0.7500    0.4580        40\n",
      "          42     0.6327    0.3131    0.4189        99\n",
      "          43     0.4123    0.4747    0.4413        99\n",
      "          44     0.2034    0.2927    0.2400        41\n",
      "          45     0.6129    0.4368    0.5101        87\n",
      "          46     0.5556    0.6250    0.5882        40\n",
      "          47     0.9286    0.2826    0.4333        46\n",
      "          48     0.5435    0.6250    0.5814        40\n",
      "          49     0.8846    0.6866    0.7731        67\n",
      "          50     0.7027    0.7879    0.7429        99\n",
      "          51     0.7778    0.3733    0.5045        75\n",
      "          52     0.3103    0.2143    0.2535        42\n",
      "          53     0.5714    0.1905    0.2857        42\n",
      "          54     0.7600    0.4419    0.5588        43\n",
      "          55     0.5185    0.2295    0.3182        61\n",
      "          56     0.8769    0.6333    0.7355        90\n",
      "          57     0.6875    0.1833    0.2895        60\n",
      "          58     0.2913    0.3030    0.2970        99\n",
      "          59     0.4583    0.6875    0.5500        80\n",
      "          60     0.6750    0.2727    0.3885        99\n",
      "          61     0.2727    0.2308    0.2500        39\n",
      "          62     0.3860    0.2222    0.2821        99\n",
      "          63     0.5472    0.5472    0.5472        53\n",
      "          64     0.7143    0.5000    0.5882        40\n",
      "\n",
      "    accuracy                         0.4742      4365\n",
      "   macro avg     0.5474    0.4782    0.4720      4365\n",
      "weighted avg     0.5699    0.4742    0.4809      4365\n",
      "\n",
      "progress : 1|351\n",
      "progress : 6|351\n",
      "progress : 11|351\n",
      "progress : 16|351\n",
      "progress : 21|351\n",
      "progress : 26|351\n",
      "progress : 31|351\n",
      "progress : 36|351\n",
      "progress : 41|351\n",
      "progress : 46|351\n",
      "progress : 51|351\n",
      "progress : 56|351\n",
      "progress : 61|351\n",
      "progress : 66|351\n",
      "progress : 71|351\n",
      "progress : 76|351\n",
      "progress : 81|351\n",
      "progress : 86|351\n",
      "progress : 91|351\n",
      "progress : 96|351\n",
      "progress : 101|351\n",
      "progress : 106|351\n",
      "progress : 111|351\n",
      "progress : 116|351\n",
      "progress : 121|351\n",
      "progress : 126|351\n",
      "progress : 131|351\n",
      "progress : 136|351\n",
      "progress : 141|351\n",
      "progress : 146|351\n",
      "progress : 151|351\n",
      "progress : 156|351\n",
      "progress : 161|351\n",
      "progress : 166|351\n",
      "progress : 171|351\n",
      "progress : 176|351\n",
      "progress : 181|351\n",
      "progress : 186|351\n",
      "progress : 191|351\n",
      "progress : 196|351\n",
      "progress : 201|351\n",
      "progress : 206|351\n",
      "progress : 211|351\n",
      "progress : 216|351\n",
      "progress : 221|351\n",
      "progress : 226|351\n",
      "progress : 231|351\n",
      "progress : 236|351\n",
      "progress : 241|351\n",
      "progress : 246|351\n",
      "progress : 251|351\n",
      "progress : 256|351\n",
      "progress : 261|351\n",
      "progress : 266|351\n",
      "progress : 271|351\n",
      "progress : 276|351\n",
      "progress : 281|351\n",
      "progress : 286|351\n",
      "progress : 291|351\n",
      "progress : 296|351\n",
      "progress : 301|351\n",
      "progress : 306|351\n",
      "progress : 311|351\n",
      "progress : 316|351\n",
      "progress : 321|351\n",
      "progress : 326|351\n",
      "progress : 331|351\n",
      "progress : 336|351\n",
      "progress : 341|351\n",
      "progress : 346|351\n",
      "progress : 351|351\n",
      "progress : 351|351\n",
      "progress : 1|137\n",
      "progress : 6|137\n",
      "progress : 11|137\n",
      "progress : 16|137\n",
      "progress : 21|137\n",
      "progress : 26|137\n",
      "progress : 31|137\n",
      "progress : 36|137\n",
      "progress : 41|137\n",
      "progress : 46|137\n",
      "progress : 51|137\n",
      "progress : 56|137\n",
      "progress : 61|137\n",
      "progress : 66|137\n",
      "progress : 71|137\n",
      "progress : 76|137\n",
      "progress : 81|137\n",
      "progress : 86|137\n",
      "progress : 91|137\n",
      "progress : 96|137\n",
      "progress : 101|137\n",
      "progress : 106|137\n",
      "progress : 111|137\n",
      "progress : 116|137\n",
      "progress : 121|137\n",
      "progress : 126|137\n",
      "progress : 131|137\n",
      "progress : 136|137\n",
      "progress : 137|137\n"
     ]
    },
    {
     "ename": "ValueError",
     "evalue": "The truth value of an array with more than one element is ambiguous. Use a.any() or a.all()",
     "output_type": "error",
     "traceback": [
      "\u001b[0;31m---------------------------------------------------------------------------\u001b[0m",
      "\u001b[0;31mValueError\u001b[0m                                Traceback (most recent call last)",
      "\u001b[0;32m/tmp/ipykernel_259/3555462438.py\u001b[0m in \u001b[0;36m<cell line: 0>\u001b[0;34m()\u001b[0m\n\u001b[1;32m      1\u001b[0m \u001b[0mconfig\u001b[0m \u001b[0;34m=\u001b[0m \u001b[0;34m{\u001b[0m\u001b[0;34m'epochs'\u001b[0m\u001b[0;34m:\u001b[0m\u001b[0;36m10\u001b[0m\u001b[0;34m,\u001b[0m \u001b[0;34m'lr'\u001b[0m\u001b[0;34m:\u001b[0m\u001b[0;36m1e-3\u001b[0m\u001b[0;34m,\u001b[0m \u001b[0;34m'batch_size'\u001b[0m\u001b[0;34m:\u001b[0m\u001b[0;36m32\u001b[0m\u001b[0;34m,\u001b[0m \u001b[0;34m'weight_decay'\u001b[0m\u001b[0;34m:\u001b[0m\u001b[0;36m1e-5\u001b[0m\u001b[0;34m}\u001b[0m\u001b[0;34m\u001b[0m\u001b[0;34m\u001b[0m\u001b[0m\n\u001b[0;32m----> 2\u001b[0;31m \u001b[0manalysis\u001b[0m\u001b[0;34m(\u001b[0m\u001b[0msource\u001b[0m\u001b[0;34m=\u001b[0m\u001b[0;34m[\u001b[0m\u001b[0;34m\"Art\"\u001b[0m\u001b[0;34m,\u001b[0m \u001b[0;34m\"Real World\"\u001b[0m\u001b[0;34m,\u001b[0m \u001b[0;34m\"Product\"\u001b[0m\u001b[0;34m]\u001b[0m\u001b[0;34m,\u001b[0m \u001b[0mtarget\u001b[0m\u001b[0;34m=\u001b[0m\u001b[0;34m[\u001b[0m\u001b[0;34m\"Clipart\"\u001b[0m\u001b[0;34m]\u001b[0m\u001b[0;34m,\u001b[0m \u001b[0mconfig\u001b[0m\u001b[0;34m=\u001b[0m\u001b[0mconfig\u001b[0m\u001b[0;34m,\u001b[0m \u001b[0mcache_source\u001b[0m\u001b[0;34m=\u001b[0m\u001b[0mcache_source\u001b[0m\u001b[0;34m,\u001b[0m \u001b[0mcache_target\u001b[0m\u001b[0;34m=\u001b[0m\u001b[0mcache_target\u001b[0m\u001b[0;34m,\u001b[0m \u001b[0;34m)\u001b[0m\u001b[0;34m\u001b[0m\u001b[0;34m\u001b[0m\u001b[0m\n\u001b[0m",
      "\u001b[0;32m/tmp/ipykernel_259/3586105810.py\u001b[0m in \u001b[0;36manalysis\u001b[0;34m(source, target, config, cache_source, cache_target)\u001b[0m\n\u001b[1;32m     42\u001b[0m \u001b[0;34m\u001b[0m\u001b[0m\n\u001b[1;32m     43\u001b[0m     \u001b[0mfig\u001b[0m\u001b[0;34m,\u001b[0m \u001b[0max\u001b[0m \u001b[0;34m=\u001b[0m \u001b[0mplt\u001b[0m\u001b[0;34m.\u001b[0m\u001b[0msubplots\u001b[0m\u001b[0;34m(\u001b[0m\u001b[0mfigsize\u001b[0m\u001b[0;34m=\u001b[0m\u001b[0;34m(\u001b[0m\u001b[0;36m8\u001b[0m\u001b[0;34m,\u001b[0m \u001b[0;36m6\u001b[0m\u001b[0;34m)\u001b[0m\u001b[0;34m)\u001b[0m\u001b[0;34m\u001b[0m\u001b[0;34m\u001b[0m\u001b[0m\n\u001b[0;32m---> 44\u001b[0;31m     \u001b[0mtsne_plot\u001b[0m\u001b[0;34m(\u001b[0m\u001b[0mlatents\u001b[0m\u001b[0;34m,\u001b[0m \u001b[0mdomain_labels\u001b[0m\u001b[0;34m,\u001b[0m \u001b[0mclasses\u001b[0m\u001b[0;34m=\u001b[0m\u001b[0;34m[\u001b[0m\u001b[0;34m\"Source\"\u001b[0m\u001b[0;34m,\u001b[0m \u001b[0;34m\"Target\"\u001b[0m\u001b[0;34m]\u001b[0m\u001b[0;34m,\u001b[0m \u001b[0max\u001b[0m\u001b[0;34m=\u001b[0m\u001b[0max\u001b[0m\u001b[0;34m,\u001b[0m \u001b[0mfig\u001b[0m\u001b[0;34m=\u001b[0m\u001b[0mfig\u001b[0m\u001b[0;34m,\u001b[0m \u001b[0mperplexity\u001b[0m\u001b[0;34m=\u001b[0m\u001b[0;36m30\u001b[0m\u001b[0;34m)\u001b[0m\u001b[0;34m\u001b[0m\u001b[0;34m\u001b[0m\u001b[0m\n\u001b[0m\u001b[1;32m     45\u001b[0m     \u001b[0mplt\u001b[0m\u001b[0;34m.\u001b[0m\u001b[0mtitle\u001b[0m\u001b[0;34m(\u001b[0m\u001b[0;34m\"t-SNE Domain Clustering: Source vs Target\"\u001b[0m\u001b[0;34m)\u001b[0m\u001b[0;34m\u001b[0m\u001b[0;34m\u001b[0m\u001b[0m\n\u001b[1;32m     46\u001b[0m     \u001b[0mplt\u001b[0m\u001b[0;34m.\u001b[0m\u001b[0mshow\u001b[0m\u001b[0;34m(\u001b[0m\u001b[0;34m)\u001b[0m\u001b[0;34m\u001b[0m\u001b[0;34m\u001b[0m\u001b[0m\n",
      "\u001b[0;32m/kaggle/working/ATML-PA-2/Baseline/utils/tsne.py\u001b[0m in \u001b[0;36mtsne_plot\u001b[0;34m(latents, labels, classes, ax, fig, num_samples, perplexity, random_state)\u001b[0m\n\u001b[1;32m     45\u001b[0m         \u001b[0mfig\u001b[0m\u001b[0;34m,\u001b[0m \u001b[0max\u001b[0m \u001b[0;34m=\u001b[0m \u001b[0mplt\u001b[0m\u001b[0;34m.\u001b[0m\u001b[0msubplots\u001b[0m\u001b[0;34m(\u001b[0m\u001b[0mfigsize\u001b[0m\u001b[0;34m=\u001b[0m\u001b[0;34m(\u001b[0m\u001b[0;36m8\u001b[0m\u001b[0;34m,\u001b[0m \u001b[0;36m6\u001b[0m\u001b[0;34m)\u001b[0m\u001b[0;34m)\u001b[0m\u001b[0;34m\u001b[0m\u001b[0;34m\u001b[0m\u001b[0m\n\u001b[1;32m     46\u001b[0m \u001b[0;34m\u001b[0m\u001b[0m\n\u001b[0;32m---> 47\u001b[0;31m     \u001b[0mscatter\u001b[0m \u001b[0;34m=\u001b[0m \u001b[0max\u001b[0m\u001b[0;34m.\u001b[0m\u001b[0mscatter\u001b[0m\u001b[0;34m(\u001b[0m\u001b[0mz_embed\u001b[0m\u001b[0;34m[\u001b[0m\u001b[0;34m:\u001b[0m\u001b[0;34m,\u001b[0m \u001b[0;36m0\u001b[0m\u001b[0;34m]\u001b[0m\u001b[0;34m,\u001b[0m \u001b[0mz_embed\u001b[0m\u001b[0;34m[\u001b[0m\u001b[0;34m:\u001b[0m\u001b[0;34m,\u001b[0m \u001b[0;36m1\u001b[0m\u001b[0;34m]\u001b[0m\u001b[0;34m,\u001b[0m \u001b[0mc\u001b[0m\u001b[0;34m=\u001b[0m\u001b[0mlabels\u001b[0m\u001b[0;34m,\u001b[0m \u001b[0mcmap\u001b[0m\u001b[0;34m=\u001b[0m\u001b[0mlabels\u001b[0m\u001b[0;34m,\u001b[0m \u001b[0ms\u001b[0m\u001b[0;34m=\u001b[0m\u001b[0;36m5\u001b[0m\u001b[0;34m,\u001b[0m \u001b[0malpha\u001b[0m\u001b[0;34m=\u001b[0m\u001b[0;36m0.7\u001b[0m\u001b[0;34m)\u001b[0m\u001b[0;34m\u001b[0m\u001b[0;34m\u001b[0m\u001b[0m\n\u001b[0m\u001b[1;32m     48\u001b[0m \u001b[0;34m\u001b[0m\u001b[0m\n\u001b[1;32m     49\u001b[0m \u001b[0;34m\u001b[0m\u001b[0m\n",
      "\u001b[0;32m/usr/local/lib/python3.11/dist-packages/matplotlib/__init__.py\u001b[0m in \u001b[0;36minner\u001b[0;34m(ax, data, *args, **kwargs)\u001b[0m\n\u001b[1;32m   1444\u001b[0m     \u001b[0;32mdef\u001b[0m \u001b[0minner\u001b[0m\u001b[0;34m(\u001b[0m\u001b[0max\u001b[0m\u001b[0;34m,\u001b[0m \u001b[0;34m*\u001b[0m\u001b[0margs\u001b[0m\u001b[0;34m,\u001b[0m \u001b[0mdata\u001b[0m\u001b[0;34m=\u001b[0m\u001b[0;32mNone\u001b[0m\u001b[0;34m,\u001b[0m \u001b[0;34m**\u001b[0m\u001b[0mkwargs\u001b[0m\u001b[0;34m)\u001b[0m\u001b[0;34m:\u001b[0m\u001b[0;34m\u001b[0m\u001b[0;34m\u001b[0m\u001b[0m\n\u001b[1;32m   1445\u001b[0m         \u001b[0;32mif\u001b[0m \u001b[0mdata\u001b[0m \u001b[0;32mis\u001b[0m \u001b[0;32mNone\u001b[0m\u001b[0;34m:\u001b[0m\u001b[0;34m\u001b[0m\u001b[0;34m\u001b[0m\u001b[0m\n\u001b[0;32m-> 1446\u001b[0;31m             \u001b[0;32mreturn\u001b[0m \u001b[0mfunc\u001b[0m\u001b[0;34m(\u001b[0m\u001b[0max\u001b[0m\u001b[0;34m,\u001b[0m \u001b[0;34m*\u001b[0m\u001b[0mmap\u001b[0m\u001b[0;34m(\u001b[0m\u001b[0msanitize_sequence\u001b[0m\u001b[0;34m,\u001b[0m \u001b[0margs\u001b[0m\u001b[0;34m)\u001b[0m\u001b[0;34m,\u001b[0m \u001b[0;34m**\u001b[0m\u001b[0mkwargs\u001b[0m\u001b[0;34m)\u001b[0m\u001b[0;34m\u001b[0m\u001b[0;34m\u001b[0m\u001b[0m\n\u001b[0m\u001b[1;32m   1447\u001b[0m \u001b[0;34m\u001b[0m\u001b[0m\n\u001b[1;32m   1448\u001b[0m         \u001b[0mbound\u001b[0m \u001b[0;34m=\u001b[0m \u001b[0mnew_sig\u001b[0m\u001b[0;34m.\u001b[0m\u001b[0mbind\u001b[0m\u001b[0;34m(\u001b[0m\u001b[0max\u001b[0m\u001b[0;34m,\u001b[0m \u001b[0;34m*\u001b[0m\u001b[0margs\u001b[0m\u001b[0;34m,\u001b[0m \u001b[0;34m**\u001b[0m\u001b[0mkwargs\u001b[0m\u001b[0;34m)\u001b[0m\u001b[0;34m\u001b[0m\u001b[0;34m\u001b[0m\u001b[0m\n",
      "\u001b[0;32m/usr/local/lib/python3.11/dist-packages/matplotlib/axes/_axes.py\u001b[0m in \u001b[0;36mscatter\u001b[0;34m(self, x, y, s, c, marker, cmap, norm, vmin, vmax, alpha, linewidths, edgecolors, plotnonfinite, **kwargs)\u001b[0m\n\u001b[1;32m   4677\u001b[0m         \u001b[0;32mif\u001b[0m \u001b[0mcolors\u001b[0m \u001b[0;32mis\u001b[0m \u001b[0;32mNone\u001b[0m\u001b[0;34m:\u001b[0m\u001b[0;34m\u001b[0m\u001b[0;34m\u001b[0m\u001b[0m\n\u001b[1;32m   4678\u001b[0m             \u001b[0mcollection\u001b[0m\u001b[0;34m.\u001b[0m\u001b[0mset_array\u001b[0m\u001b[0;34m(\u001b[0m\u001b[0mc\u001b[0m\u001b[0;34m)\u001b[0m\u001b[0;34m\u001b[0m\u001b[0;34m\u001b[0m\u001b[0m\n\u001b[0;32m-> 4679\u001b[0;31m             \u001b[0mcollection\u001b[0m\u001b[0;34m.\u001b[0m\u001b[0mset_cmap\u001b[0m\u001b[0;34m(\u001b[0m\u001b[0mcmap\u001b[0m\u001b[0;34m)\u001b[0m\u001b[0;34m\u001b[0m\u001b[0;34m\u001b[0m\u001b[0m\n\u001b[0m\u001b[1;32m   4680\u001b[0m             \u001b[0mcollection\u001b[0m\u001b[0;34m.\u001b[0m\u001b[0mset_norm\u001b[0m\u001b[0;34m(\u001b[0m\u001b[0mnorm\u001b[0m\u001b[0;34m)\u001b[0m\u001b[0;34m\u001b[0m\u001b[0;34m\u001b[0m\u001b[0m\n\u001b[1;32m   4681\u001b[0m             \u001b[0mcollection\u001b[0m\u001b[0;34m.\u001b[0m\u001b[0m_scale_norm\u001b[0m\u001b[0;34m(\u001b[0m\u001b[0mnorm\u001b[0m\u001b[0;34m,\u001b[0m \u001b[0mvmin\u001b[0m\u001b[0;34m,\u001b[0m \u001b[0mvmax\u001b[0m\u001b[0;34m)\u001b[0m\u001b[0;34m\u001b[0m\u001b[0;34m\u001b[0m\u001b[0m\n",
      "\u001b[0;32m/usr/local/lib/python3.11/dist-packages/matplotlib/cm.py\u001b[0m in \u001b[0;36mset_cmap\u001b[0;34m(self, cmap)\u001b[0m\n\u001b[1;32m    583\u001b[0m         \u001b[0min_init\u001b[0m \u001b[0;34m=\u001b[0m \u001b[0mself\u001b[0m\u001b[0;34m.\u001b[0m\u001b[0mcmap\u001b[0m \u001b[0;32mis\u001b[0m \u001b[0;32mNone\u001b[0m\u001b[0;34m\u001b[0m\u001b[0;34m\u001b[0m\u001b[0m\n\u001b[1;32m    584\u001b[0m \u001b[0;34m\u001b[0m\u001b[0m\n\u001b[0;32m--> 585\u001b[0;31m         \u001b[0mself\u001b[0m\u001b[0;34m.\u001b[0m\u001b[0mcmap\u001b[0m \u001b[0;34m=\u001b[0m \u001b[0m_ensure_cmap\u001b[0m\u001b[0;34m(\u001b[0m\u001b[0mcmap\u001b[0m\u001b[0;34m)\u001b[0m\u001b[0;34m\u001b[0m\u001b[0;34m\u001b[0m\u001b[0m\n\u001b[0m\u001b[1;32m    586\u001b[0m         \u001b[0;32mif\u001b[0m \u001b[0;32mnot\u001b[0m \u001b[0min_init\u001b[0m\u001b[0;34m:\u001b[0m\u001b[0;34m\u001b[0m\u001b[0;34m\u001b[0m\u001b[0m\n\u001b[1;32m    587\u001b[0m             \u001b[0mself\u001b[0m\u001b[0;34m.\u001b[0m\u001b[0mchanged\u001b[0m\u001b[0;34m(\u001b[0m\u001b[0;34m)\u001b[0m  \u001b[0;31m# Things are not set up properly yet.\u001b[0m\u001b[0;34m\u001b[0m\u001b[0;34m\u001b[0m\u001b[0m\n",
      "\u001b[0;32m/usr/local/lib/python3.11/dist-packages/matplotlib/cm.py\u001b[0m in \u001b[0;36m_ensure_cmap\u001b[0;34m(cmap)\u001b[0m\n\u001b[1;32m    721\u001b[0m     \u001b[0;31m# use check_in_list to ensure type stability of the exception raised by\u001b[0m\u001b[0;34m\u001b[0m\u001b[0;34m\u001b[0m\u001b[0m\n\u001b[1;32m    722\u001b[0m     \u001b[0;31m# the internal usage of this (ValueError vs KeyError)\u001b[0m\u001b[0;34m\u001b[0m\u001b[0;34m\u001b[0m\u001b[0m\n\u001b[0;32m--> 723\u001b[0;31m     \u001b[0m_api\u001b[0m\u001b[0;34m.\u001b[0m\u001b[0mcheck_in_list\u001b[0m\u001b[0;34m(\u001b[0m\u001b[0msorted\u001b[0m\u001b[0;34m(\u001b[0m\u001b[0m_colormaps\u001b[0m\u001b[0;34m)\u001b[0m\u001b[0;34m,\u001b[0m \u001b[0mcmap\u001b[0m\u001b[0;34m=\u001b[0m\u001b[0mcmap_name\u001b[0m\u001b[0;34m)\u001b[0m\u001b[0;34m\u001b[0m\u001b[0;34m\u001b[0m\u001b[0m\n\u001b[0m\u001b[1;32m    724\u001b[0m     \u001b[0;32mreturn\u001b[0m \u001b[0mmpl\u001b[0m\u001b[0;34m.\u001b[0m\u001b[0mcolormaps\u001b[0m\u001b[0;34m[\u001b[0m\u001b[0mcmap_name\u001b[0m\u001b[0;34m]\u001b[0m\u001b[0;34m\u001b[0m\u001b[0;34m\u001b[0m\u001b[0m\n",
      "\u001b[0;32m/usr/local/lib/python3.11/dist-packages/matplotlib/_api/__init__.py\u001b[0m in \u001b[0;36mcheck_in_list\u001b[0;34m(_values, _print_supported_values, **kwargs)\u001b[0m\n\u001b[1;32m    125\u001b[0m     \u001b[0mvalues\u001b[0m \u001b[0;34m=\u001b[0m \u001b[0m_values\u001b[0m\u001b[0;34m\u001b[0m\u001b[0;34m\u001b[0m\u001b[0m\n\u001b[1;32m    126\u001b[0m     \u001b[0;32mfor\u001b[0m \u001b[0mkey\u001b[0m\u001b[0;34m,\u001b[0m \u001b[0mval\u001b[0m \u001b[0;32min\u001b[0m \u001b[0mkwargs\u001b[0m\u001b[0;34m.\u001b[0m\u001b[0mitems\u001b[0m\u001b[0;34m(\u001b[0m\u001b[0;34m)\u001b[0m\u001b[0;34m:\u001b[0m\u001b[0;34m\u001b[0m\u001b[0;34m\u001b[0m\u001b[0m\n\u001b[0;32m--> 127\u001b[0;31m         \u001b[0;32mif\u001b[0m \u001b[0mval\u001b[0m \u001b[0;32mnot\u001b[0m \u001b[0;32min\u001b[0m \u001b[0mvalues\u001b[0m\u001b[0;34m:\u001b[0m\u001b[0;34m\u001b[0m\u001b[0;34m\u001b[0m\u001b[0m\n\u001b[0m\u001b[1;32m    128\u001b[0m             \u001b[0mmsg\u001b[0m \u001b[0;34m=\u001b[0m \u001b[0;34mf\"{val!r} is not a valid value for {key}\"\u001b[0m\u001b[0;34m\u001b[0m\u001b[0;34m\u001b[0m\u001b[0m\n\u001b[1;32m    129\u001b[0m             \u001b[0;32mif\u001b[0m \u001b[0m_print_supported_values\u001b[0m\u001b[0;34m:\u001b[0m\u001b[0;34m\u001b[0m\u001b[0;34m\u001b[0m\u001b[0m\n",
      "\u001b[0;31mValueError\u001b[0m: The truth value of an array with more than one element is ambiguous. Use a.any() or a.all()"
     ]
    },
    {
     "data": {
      "image/png": "[encoded data removed]",
      "text/plain": [
       "<Figure size 640x480 with 2 Axes>"
      ]
     },
     "metadata": {},
     "output_type": "display_data"
    },
    {
     "data": {
      "image/png": "[encoded data removed]",
      "text/plain": [
       "<Figure size 800x600 with 1 Axes>"
      ]
     },
     "metadata": {},
     "output_type": "display_data"
    }
   ],
   "source": [
    "config = {'epochs':10, 'lr':1e-3, 'batch_size':32, 'weight_decay':1e-5}\n",
    "analysis(source=[\"Art\", \"Real World\", \"Product\"], target=[\"Clipart\"], config=config, cache_source=cache_source, cache_target=cache_target, )"
   ]
  },
  {
   "cell_type": "code",
   "execution_count": 40,
   "id": "ec08b194",
   "metadata": {
    "id": "ec08b194"
   },
   "outputs": [
    {
     "data": {
      "text/plain": [
       "4365"
      ]
     },
     "execution_count": 40,
     "metadata": {},
     "output_type": "execute_result"
    }
   ],
   "source": [
    "len(cache_target)"
   ]
  },
  {
   "cell_type": "code",
   "execution_count": null,
   "id": "27f24571",
   "metadata": {
    "id": "27f24571"
   },
   "outputs": [],
   "source": []
  }
 ],
 "metadata": {
  "accelerator": "GPU",
  "colab": {
   "gpuType": "T4",
   "provenance": []
  },
  "kernelspec": {
   "display_name": "Python 3 (ipykernel)",
   "language": "python",
   "name": "python3"
  },
  "language_info": {
   "codemirror_mode": {
    "name": "ipython",
    "version": 3
   },
   "file_extension": ".py",
   "mimetype": "text/x-python",
   "name": "python",
   "nbconvert_exporter": "python",
   "pygments_lexer": "ipython3",
   "version": "3.11.13"
  }
 },
 "nbformat": 4,
 "nbformat_minor": 5
}
