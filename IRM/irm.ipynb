{
 "cells": [
  {
   "cell_type": "code",
   "execution_count": null,
   "id": "a693c24b",
   "metadata": {},
   "outputs": [
    {
     "name": "stdout",
     "output_type": "stream",
     "text": [
      "/kaggle/working/ATML-PA-2/IRM\n"
     ]
    }
   ],
   "source": [
    "cd ATML-PA-2/"
   ]
  },
  {
   "cell_type": "code",
   "execution_count": 21,
   "id": "7558798f",
   "metadata": {},
   "outputs": [
    {
     "ename": "SyntaxError",
     "evalue": "invalid syntax. Perhaps you forgot a comma? (train.py, line 116)",
     "output_type": "error",
     "traceback": [
      "Traceback \u001b[0;36m(most recent call last)\u001b[0m:\n",
      "  File \u001b[1;32m\"/usr/local/lib/python3.11/dist-packages/IPython/core/interactiveshell.py\"\u001b[0m, line \u001b[1;32m3553\u001b[0m, in \u001b[1;35mrun_code\u001b[0m\n    exec(code_obj, self.user_global_ns, self.user_ns)\n",
      "  File \u001b[1;32m\"/tmp/ipykernel_934/2059240621.py\"\u001b[0m, line \u001b[1;32m9\u001b[0m, in \u001b[1;35m<cell line: 0>\u001b[0m\n    importlib.reload(train)\n",
      "  File \u001b[1;32m\"/usr/lib/python3.11/importlib/__init__.py\"\u001b[0m, line \u001b[1;32m169\u001b[0m, in \u001b[1;35mreload\u001b[0m\n    _bootstrap._exec(spec, module)\n",
      "  File \u001b[1;32m\"<frozen importlib._bootstrap>\"\u001b[0m, line \u001b[1;32m621\u001b[0m, in \u001b[1;35m_exec\u001b[0m\n",
      "  File \u001b[1;32m\"<frozen importlib._bootstrap_external>\"\u001b[0m, line \u001b[1;32m936\u001b[0m, in \u001b[1;35mexec_module\u001b[0m\n",
      "  File \u001b[1;32m\"<frozen importlib._bootstrap_external>\"\u001b[0m, line \u001b[1;32m1074\u001b[0m, in \u001b[1;35mget_code\u001b[0m\n",
      "  File \u001b[1;32m\"<frozen importlib._bootstrap_external>\"\u001b[0m, line \u001b[1;32m1004\u001b[0m, in \u001b[1;35msource_to_code\u001b[0m\n",
      "\u001b[0;36m  File \u001b[0;32m\"<frozen importlib._bootstrap>\"\u001b[0;36m, line \u001b[0;32m241\u001b[0;36m, in \u001b[0;35m_call_with_frames_removed\u001b[0;36m\u001b[0m\n",
      "\u001b[0;36m  File \u001b[0;32m\"/kaggle/working/ATML-PA-2/IRM/train.py\"\u001b[0;36m, line \u001b[0;32m116\u001b[0m\n\u001b[0;31m    device=device\u001b[0m\n\u001b[0m           ^\u001b[0m\n\u001b[0;31mSyntaxError\u001b[0m\u001b[0;31m:\u001b[0m invalid syntax. Perhaps you forgot a comma?\n"
     ]
    }
   ],
   "source": [
    "import importlib\n",
    "import torch\n",
    "import utils\n",
    "import architecture\n",
    "import train\n",
    "import types\n",
    "importlib.reload(utils)\n",
    "importlib.reload(architecture)\n",
    "importlib.reload(train)\n",
    "\n",
    "\n",
    "from utils.dataset import FeatureTensorDataset, OfficeHomeDataset, _truncate_resnet_from\n",
    "from torchvision.models import ResNet50_Weights \n",
    "from importlib import reload\n",
    "import train\n",
    "from train import train_workflow\n",
    "import types\n",
    "from utils.tsne import tsne_plot, get_features\n",
    "from utils.evaluation import evaluate_ds\n",
    "import matplotlib.pyplot as plt\n",
    "import os\n",
    "from architecture import resnet_classifier\n",
    "import torch"
   ]
  },
  {
   "cell_type": "code",
   "execution_count": 4,
   "id": "fffb79b3",
   "metadata": {},
   "outputs": [],
   "source": [
    "root_dir = \"../datasets/OfficeHomeDataset\"\n",
    "csv_file = f\"{root_dir}/ImageInfo.csv\"\n",
    "\n",
    "transform = ResNet50_Weights.IMAGENET1K_V1.transforms()\n",
    "classes = os.listdir(f\"{root_dir}/Art\")"
   ]
  },
  {
   "cell_type": "code",
   "execution_count": 5,
   "id": "40a697bb",
   "metadata": {},
   "outputs": [],
   "source": [
    "device = 'cuda' if torch.cuda.is_available() else 'cpu'"
   ]
  },
  {
   "cell_type": "code",
   "execution_count": 6,
   "id": "a86ebe82",
   "metadata": {},
   "outputs": [],
   "source": [
    "def make_cache(domains, layer_name):\n",
    "    model = resnet_classifier(len(classes))\n",
    "    if len(domains)>1:\n",
    "        caches = []\n",
    "        for domain in domains:\n",
    "            ds = OfficeHomeDataset(root_dir, csv_file, [domain], transform)\n",
    "            caches.append(FeatureTensorDataset(ds, model, layer_name, device=device, batch_size=64))\n",
    "        return caches\n",
    "    else:\n",
    "        ds = OfficeHomeDataset(root_dir, csv_file, domains, transform)\n",
    "        return FeatureTensorDataset(ds, model, layer_name, device=device, batch_size=64)\n"
   ]
  },
  {
   "cell_type": "code",
   "execution_count": 11,
   "id": "95826748",
   "metadata": {},
   "outputs": [],
   "source": [
    "def analysis(sources, target, config, caches_source=None, cache_target=None):\n",
    "    \n",
    "    if caches_source is None:\n",
    "        caches_source = make_cache(sources, 'layer3')\n",
    "        \n",
    "\n",
    "    if cache_target is None:\n",
    "        cache_target = make_cache(target, 'layer3')\n",
    "\n",
    "    model = resnet_classifier(num_classes=len(classes))\n",
    "    truncated_model = _truncate_resnet_from(model, 'layer3')\n",
    "\n",
    "    def _forward_impl(self, x):\n",
    "        f4 = self.layer4(x)\n",
    "        x = torch.flatten(self.avgpool(f4), 1)\n",
    "        x = self.fc(x)\n",
    "        return x\n",
    "\n",
    "    import types\n",
    "    truncated_model.forward = types.MethodType(_forward_impl, truncated_model)\n",
    "\n",
    "    print(\"Evaluating on target domain test set\")\n",
    "    \n",
    "    \n",
    "    train_workflow(truncated_model, caches_source, cache_target, config, device)\n",
    "    evaluate_ds(cache_target, truncated_model, device, target[0], None)\n"
   ]
  },
  {
   "cell_type": "code",
   "execution_count": 8,
   "id": "5caf2af0",
   "metadata": {},
   "outputs": [
    {
     "name": "stderr",
     "output_type": "stream",
     "text": [
      "Precomputing up to layer3: 100%|██████████| 38/38 [00:38<00:00,  1.02s/it]\n",
      "Precomputing up to layer3: 100%|██████████| 69/69 [02:28<00:00,  2.15s/it]\n",
      "Precomputing up to layer3: 100%|██████████| 70/70 [00:35<00:00,  1.95it/s]\n",
      "Precomputing up to layer3: 100%|██████████| 69/69 [00:46<00:00,  1.48it/s]\n"
     ]
    }
   ],
   "source": [
    "sources = [\"Art\", \"Real World\", \"Product\"]\n",
    "target = [\"Clipart\"]\n",
    "\n",
    "caches_source = make_cache(sources, 'layer3')\n",
    "cache_target = make_cache(target, 'layer3')"
   ]
  },
  {
   "cell_type": "code",
   "execution_count": 20,
   "id": "ec1c99a3",
   "metadata": {},
   "outputs": [
    {
     "name": "stdout",
     "output_type": "stream",
     "text": [
      "Evaluating on target domain test set\n"
     ]
    },
    {
     "name": "stderr",
     "output_type": "stream",
     "text": [
      "Training:   0%|          | 0/12 [00:00<?, ?it/s]"
     ]
    },
    {
     "name": "stdout",
     "output_type": "stream",
     "text": [
      "\n",
      "Epoch 1/12\n"
     ]
    },
    {
     "name": "stderr",
     "output_type": "stream",
     "text": [
      "Training:   8%|▊         | 1/12 [00:24<04:32, 24.74s/it]"
     ]
    },
    {
     "name": "stdout",
     "output_type": "stream",
     "text": [
      "\tERM loss: 11.938709\tGrad penalty: 0.015282\tTrain Accuracy: 17.18\tTest Accuracy: 6.85\n",
      "\n",
      "Epoch 2/12\n"
     ]
    },
    {
     "name": "stderr",
     "output_type": "stream",
     "text": [
      "Training:  17%|█▋        | 2/12 [00:49<04:04, 24.49s/it]"
     ]
    },
    {
     "name": "stdout",
     "output_type": "stream",
     "text": [
      "\tERM loss: 11.089241\tGrad penalty: 0.099436\tTrain Accuracy: 25.91\tTest Accuracy: 13.86\n",
      "\n",
      "Epoch 3/12\n"
     ]
    },
    {
     "name": "stderr",
     "output_type": "stream",
     "text": [
      "Training:  25%|██▌       | 3/12 [01:13<03:41, 24.56s/it]"
     ]
    },
    {
     "name": "stdout",
     "output_type": "stream",
     "text": [
      "\tERM loss: 10.399907\tGrad penalty: 0.192782\tTrain Accuracy: 28.32\tTest Accuracy: 15.69\n",
      "\n",
      "Epoch 4/12\n"
     ]
    },
    {
     "name": "stderr",
     "output_type": "stream",
     "text": [
      "Training:  33%|███▎      | 4/12 [01:38<03:16, 24.58s/it]"
     ]
    },
    {
     "name": "stdout",
     "output_type": "stream",
     "text": [
      "\tERM loss: 9.829364\tGrad penalty: 0.238170\tTrain Accuracy: 30.54\tTest Accuracy: 17.48\n",
      "\n",
      "Epoch 5/12\n"
     ]
    },
    {
     "name": "stderr",
     "output_type": "stream",
     "text": [
      "Training:  42%|████▏     | 5/12 [02:03<02:52, 24.70s/it]"
     ]
    },
    {
     "name": "stdout",
     "output_type": "stream",
     "text": [
      "\tERM loss: 9.253896\tGrad penalty: 0.271369\tTrain Accuracy: 31.31\tTest Accuracy: 18.28\n",
      "\n",
      "Epoch 6/12\n"
     ]
    },
    {
     "name": "stderr",
     "output_type": "stream",
     "text": [
      "Training:  50%|█████     | 6/12 [02:28<02:28, 24.83s/it]"
     ]
    },
    {
     "name": "stdout",
     "output_type": "stream",
     "text": [
      "\tERM loss: 8.769016\tGrad penalty: 0.278270\tTrain Accuracy: 32.87\tTest Accuracy: 18.58\n",
      "\n",
      "Epoch 7/12\n"
     ]
    },
    {
     "name": "stderr",
     "output_type": "stream",
     "text": [
      "Training:  58%|█████▊    | 7/12 [02:53<02:04, 24.82s/it]"
     ]
    },
    {
     "name": "stdout",
     "output_type": "stream",
     "text": [
      "\tERM loss: 8.262912\tGrad penalty: 0.261376\tTrain Accuracy: 35.39\tTest Accuracy: 19.31\n",
      "\n",
      "Epoch 8/12\n"
     ]
    },
    {
     "name": "stderr",
     "output_type": "stream",
     "text": [
      "Training:  67%|██████▋   | 8/12 [03:18<01:39, 24.85s/it]"
     ]
    },
    {
     "name": "stdout",
     "output_type": "stream",
     "text": [
      "\tERM loss: 7.741431\tGrad penalty: 0.255357\tTrain Accuracy: 38.36\tTest Accuracy: 21.24\n",
      "\n",
      "Epoch 9/12\n"
     ]
    },
    {
     "name": "stderr",
     "output_type": "stream",
     "text": [
      "Training:  75%|███████▌  | 9/12 [03:42<01:14, 24.87s/it]"
     ]
    },
    {
     "name": "stdout",
     "output_type": "stream",
     "text": [
      "\tERM loss: 7.352030\tGrad penalty: 0.220212\tTrain Accuracy: 44.41\tTest Accuracy: 24.79\n",
      "\n",
      "Epoch 10/12\n"
     ]
    },
    {
     "name": "stderr",
     "output_type": "stream",
     "text": [
      "Training:  83%|████████▎ | 10/12 [04:07<00:49, 24.85s/it]"
     ]
    },
    {
     "name": "stdout",
     "output_type": "stream",
     "text": [
      "\tERM loss: 6.863207\tGrad penalty: 0.242195\tTrain Accuracy: 46.82\tTest Accuracy: 25.84\n",
      "\n",
      "Epoch 11/12\n"
     ]
    },
    {
     "name": "stderr",
     "output_type": "stream",
     "text": [
      "Training:  92%|█████████▏| 11/12 [04:32<00:24, 24.87s/it]"
     ]
    },
    {
     "name": "stdout",
     "output_type": "stream",
     "text": [
      "\tERM loss: 6.422023\tGrad penalty: 0.230389\tTrain Accuracy: 49.70\tTest Accuracy: 27.45\n",
      "\n",
      "Epoch 12/12\n"
     ]
    },
    {
     "name": "stderr",
     "output_type": "stream",
     "text": [
      "Training: 100%|██████████| 12/12 [04:57<00:00, 24.81s/it]"
     ]
    },
    {
     "name": "stdout",
     "output_type": "stream",
     "text": [
      "\tERM loss: 6.059851\tGrad penalty: 0.210284\tTrain Accuracy: 53.78\tTest Accuracy: 29.12\n"
     ]
    },
    {
     "name": "stderr",
     "output_type": "stream",
     "text": [
      "\n",
      "/usr/local/lib/python3.11/dist-packages/sklearn/metrics/_classification.py:1344: UndefinedMetricWarning: Precision and F-score are ill-defined and being set to 0.0 in labels with no predicted samples. Use `zero_division` parameter to control this behavior.\n",
      "  _warn_prf(average, modifier, msg_start, len(result))\n",
      "/usr/local/lib/python3.11/dist-packages/sklearn/metrics/_classification.py:1344: UndefinedMetricWarning: Precision and F-score are ill-defined and being set to 0.0 in labels with no predicted samples. Use `zero_division` parameter to control this behavior.\n",
      "  _warn_prf(average, modifier, msg_start, len(result))\n",
      "/usr/local/lib/python3.11/dist-packages/sklearn/metrics/_classification.py:1344: UndefinedMetricWarning: Precision and F-score are ill-defined and being set to 0.0 in labels with no predicted samples. Use `zero_division` parameter to control this behavior.\n",
      "  _warn_prf(average, modifier, msg_start, len(result))\n"
     ]
    },
    {
     "name": "stdout",
     "output_type": "stream",
     "text": [
      "\n",
      "=== Evaluation for Clipart Domain ===\n",
      "Accuracy: 29.12%\n",
      "Confusion Matrix:\n",
      "\n",
      "Classification Report:\n",
      "               precision    recall  f1-score   support\n",
      "\n",
      "           0     0.2149    0.8667    0.3444        60\n",
      "           1     0.4500    0.3214    0.3750        56\n",
      "           2     0.3333    0.0156    0.0299        64\n",
      "           3     0.4118    0.0714    0.1217        98\n",
      "           4     0.9405    0.7980    0.8634        99\n",
      "           5     0.3378    0.2525    0.2890        99\n",
      "           6     0.2994    0.6438    0.4087        73\n",
      "           7     0.3981    0.8913    0.5503        46\n",
      "           8     0.2839    0.5641    0.3777        78\n",
      "           9     0.5873    0.3737    0.4568        99\n",
      "          10     0.1793    0.7879    0.2921        99\n",
      "          11     0.0000    0.0000    0.0000        40\n",
      "          12     0.3846    0.0505    0.0893        99\n",
      "          13     0.5000    0.1094    0.1795        64\n",
      "          14     0.3488    0.7143    0.4688        42\n",
      "          15     0.0000    0.0000    0.0000        41\n",
      "          16     0.0000    0.0000    0.0000        48\n",
      "          17     0.0000    0.0000    0.0000        40\n",
      "          18     0.2148    0.7073    0.3295        41\n",
      "          19     0.6364    0.2800    0.3889        50\n",
      "          20     0.7419    0.5750    0.6479        40\n",
      "          21     0.8182    0.4500    0.5806        40\n",
      "          22     0.8608    0.6869    0.7640        99\n",
      "          23     0.0000    0.0000    0.0000        99\n",
      "          24     1.0000    0.0328    0.0635        61\n",
      "          25     0.2349    0.6731    0.3483        52\n",
      "          26     0.0000    0.0000    0.0000        99\n",
      "          27     0.1320    0.8841    0.2298        69\n",
      "          28     0.4138    0.6000    0.4898        40\n",
      "          29     0.8986    0.6263    0.7381        99\n",
      "          30     0.0626    0.7547    0.1156        53\n",
      "          31     0.2403    0.7750    0.3669        40\n",
      "          32     0.5806    0.7273    0.6457        99\n",
      "          33     0.0000    0.0000    0.0000        71\n",
      "          34     0.3077    0.8485    0.4516        99\n",
      "          35     0.0000    0.0000    0.0000        40\n",
      "          36     0.6667    0.0263    0.0506        76\n",
      "          37     0.6613    0.4141    0.5093        99\n",
      "          38     0.0000    0.0000    0.0000        83\n",
      "          39     0.0000    0.0000    0.0000        40\n",
      "          40     0.0000    0.0000    0.0000        51\n",
      "          41     1.0000    0.0500    0.0952        40\n",
      "          42     0.5000    0.0404    0.0748        99\n",
      "          43     0.5455    0.1212    0.1983        99\n",
      "          44     0.0000    0.0000    0.0000        41\n",
      "          45     1.0000    0.1379    0.2424        87\n",
      "          46     1.0000    0.0250    0.0488        40\n",
      "          47     0.5714    0.2609    0.3582        46\n",
      "          48     0.1096    0.6000    0.1853        40\n",
      "          49     0.8000    0.0597    0.1111        67\n",
      "          50     0.1111    0.0101    0.0185        99\n",
      "          51     1.0000    0.0533    0.1013        75\n",
      "          52     0.5556    0.1190    0.1961        42\n",
      "          53     0.3333    0.0714    0.1176        42\n",
      "          54     0.7647    0.3023    0.4333        43\n",
      "          55     0.0968    0.1475    0.1169        61\n",
      "          56     0.6750    0.6000    0.6353        90\n",
      "          57     0.4211    0.1333    0.2025        60\n",
      "          58     0.8333    0.1010    0.1802        99\n",
      "          59     0.0000    0.0000    0.0000        80\n",
      "          60     0.8462    0.1111    0.1964        99\n",
      "          61     0.0189    0.0256    0.0217        39\n",
      "          62     1.0000    0.0303    0.0588        99\n",
      "          63     0.1250    0.0189    0.0328        53\n",
      "          64     0.0000    0.0000    0.0000        40\n",
      "\n",
      "    accuracy                         0.2912      4365\n",
      "   macro avg     0.4069    0.2852    0.2337      4365\n",
      "weighted avg     0.4394    0.2912    0.2495      4365\n",
      "\n"
     ]
    },
    {
     "data": {
      "image/png": "[encoded data removed]",
      "text/plain": [
       "<Figure size 640x480 with 2 Axes>"
      ]
     },
     "metadata": {},
     "output_type": "display_data"
    }
   ],
   "source": [
    "config = {'epochs':25, \n",
    "          'lr':1e-3, \n",
    "          'batch_size':128, \n",
    "          'weight_decay':1e-5, \n",
    "          'phi':1.0,\n",
    "          'scheduling_constant':2.0,\n",
    "          }\n",
    "analysis(sources, target, config, caches_source, cache_target)"
   ]
  },
  {
   "cell_type": "code",
   "execution_count": 19,
   "id": "f38b7e64",
   "metadata": {},
   "outputs": [
    {
     "data": {
      "text/plain": [
       "'Bucket'"
      ]
     },
     "execution_count": 19,
     "metadata": {},
     "output_type": "execute_result"
    }
   ],
   "source": [
    "classes[5]"
   ]
  },
  {
   "cell_type": "code",
   "execution_count": null,
   "metadata": {},
   "outputs": [],
   "source": []
  },
  {
   "cell_type": "code",
   "execution_count": null,
   "id": "e594f0f7",
   "metadata": {},
   "outputs": [],
   "source": []
  },
  {
   "cell_type": "code",
   "execution_count": null,
   "id": "7cdf5dfd",
   "metadata": {},
   "outputs": [],
   "source": []
  }
 ],
 "metadata": {
  "kernelspec": {
   "display_name": "Python 3 (ipykernel)",
   "language": "python",
   "name": "python3"
  },
  "language_info": {
   "codemirror_mode": {
    "name": "ipython",
    "version": 3
   },
   "file_extension": ".py",
   "mimetype": "text/x-python",
   "name": "python",
   "nbconvert_exporter": "python",
   "pygments_lexer": "ipython3",
   "version": "3.11.13"
  }
 },
 "nbformat": 4,
 "nbformat_minor": 5
}
