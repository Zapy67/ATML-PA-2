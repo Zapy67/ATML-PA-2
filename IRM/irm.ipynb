{
 "cells": [
  {
   "cell_type": "code",
   "execution_count": null,
   "id": "7558798f",
   "metadata": {},
   "outputs": [],
   "source": [
    "from utils.dataset import FeatureTensorDataset, OfficeHomeDataset, _truncate_resnet_from\n",
    "from torchvision.models import ResNet50_Weights \n",
    "from importlib import reload\n",
    "import train\n",
    "from train import train_workflow\n",
    "import types\n",
    "from utils.tsne import tsne_plot, get_features\n",
    "from utils.evaluation import evaluate_ds\n",
    "import matplotlib.pyplot as plt\n",
    "import os\n",
    "from architecture import resnet_classifier\n",
    "import torch"
   ]
  },
  {
   "cell_type": "code",
   "execution_count": null,
   "id": "fffb79b3",
   "metadata": {},
   "outputs": [],
   "source": [
    "\n",
    "root_dir = \"../datasets/OfficeHomeDataset\"\n",
    "csv_file = f\"{root_dir}/ImageInfo.csv\"\n",
    "\n",
    "transform = ResNet50_Weights.IMAGENET1K_V1.transforms()\n",
    "classes = len(os.listdir(f\"{root_dir}/Art\"))"
   ]
  },
  {
   "cell_type": "code",
   "execution_count": null,
   "id": "40a697bb",
   "metadata": {},
   "outputs": [],
   "source": [
    "device = 'cuda' if torch.cuda.is_available() else 'cpu'"
   ]
  },
  {
   "cell_type": "code",
   "execution_count": null,
   "id": "a86ebe82",
   "metadata": {},
   "outputs": [],
   "source": [
    "def make_cache(domains, layer_name):\n",
    "    model = resnet_classifier(len(classes))\n",
    "    if isinstance(domains, list):\n",
    "        caches = []\n",
    "        for domain in domains:\n",
    "            ds = OfficeHomeDataset(root_dir, csv_file, domain, transform)\n",
    "            caches.append(FeatureTensorDataset(ds, model, layer_name, device=device, batch_size=64))\n",
    "        return caches\n",
    "    else:\n",
    "        ds = OfficeHomeDataset(root_dir, csv_file, domains, transform)\n",
    "        return FeatureTensorDataset(ds, model, layer_name, device=device, batch_size=64)\n"
   ]
  },
  {
   "cell_type": "code",
   "execution_count": null,
   "id": "95826748",
   "metadata": {},
   "outputs": [],
   "source": [
    "def analysis(sources, target, config, caches_source=None, cache_target=None):\n",
    "    \n",
    "    if caches_source is None:\n",
    "        caches_source = make_cache(sources, 'layer3')\n",
    "        \n",
    "\n",
    "    if cache_target is None:\n",
    "        cache_target = make_cache(target, 'layer3')\n",
    "\n",
    "    model = resnet_classifier(num_classes=len(classes))\n",
    "    truncated_model = _truncate_resnet_from(model, 'layer3')\n",
    "\n",
    "    def _forward_impl(self, x):\n",
    "        f4 = self.layer4(x)\n",
    "        x = torch.flatten(self.avgpool(f4), 1)\n",
    "        x = self.fc(x)\n",
    "        return x\n",
    "\n",
    "    import types\n",
    "    truncated_model.forward = types.MethodType(_forward_impl, truncated_model)\n",
    "\n",
    "    train_workflow(truncated_model, caches_source, cache_target, config, device)\n",
    "    evaluate_ds(cache_target, truncated_model, device, target[0], None)\n"
   ]
  },
  {
   "cell_type": "code",
   "execution_count": null,
   "id": "5caf2af0",
   "metadata": {},
   "outputs": [],
   "source": [
    "sources = [\"Art\", \"Real World\", \"Product\"]\n",
    "target = \"Clipart\"\n",
    "\n",
    "caches_source = make_cache(sources)\n",
    "cache_target = make_cache(target)"
   ]
  },
  {
   "cell_type": "code",
   "execution_count": null,
   "id": "ec1c99a3",
   "metadata": {},
   "outputs": [],
   "source": [
    "config = {'epochs':2, \n",
    "          'lr':1e-3, \n",
    "          'batch_size':32, \n",
    "          'weight_decay':1e-5, \n",
    "          'phi':1.0,\n",
    "          }\n",
    "analysis(sources, target, config, caches_source, cache_target)"
   ]
  },
  {
   "cell_type": "code",
   "execution_count": null,
   "id": "f38b7e64",
   "metadata": {},
   "outputs": [],
   "source": []
  },
  {
   "cell_type": "code",
   "execution_count": null,
   "metadata": {},
   "outputs": [],
   "source": []
  },
  {
   "cell_type": "code",
   "execution_count": null,
   "id": "e594f0f7",
   "metadata": {},
   "outputs": [],
   "source": []
  },
  {
   "cell_type": "code",
   "execution_count": null,
   "id": "7cdf5dfd",
   "metadata": {},
   "outputs": [],
   "source": []
  }
 ],
 "metadata": {
  "language_info": {
   "name": "python"
  }
 },
 "nbformat": 4,
 "nbformat_minor": 5
}
