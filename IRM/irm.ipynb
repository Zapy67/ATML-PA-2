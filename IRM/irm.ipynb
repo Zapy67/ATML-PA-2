{
 "cells": [
  {
   "cell_type": "code",
   "execution_count": 2,
   "id": "a693c24b",
   "metadata": {},
   "outputs": [
    {
     "name": "stdout",
     "output_type": "stream",
     "text": [
      "/kaggle/working/ATML-PA-2/IRM\n"
     ]
    }
   ],
   "source": [
    "cd ATML-PA-2/IRM"
   ]
  },
  {
   "cell_type": "code",
   "execution_count": 21,
   "id": "7558798f",
   "metadata": {},
   "outputs": [],
   "source": [
    "import importlib\n",
    "import torch\n",
    "import utils\n",
    "import architecture\n",
    "import train\n",
    "import types\n",
    "importlib.reload(utils)\n",
    "importlib.reload(architecture)\n",
    "importlib.reload(train)\n",
    "\n",
    "\n",
    "from utils.dataset import FeatureTensorDataset, OfficeHomeDataset, _truncate_resnet_from\n",
    "from torchvision.models import ResNet50_Weights \n",
    "from importlib import reload\n",
    "import train\n",
    "from train import train_workflow\n",
    "import types\n",
    "from utils.tsne import tsne_plot, get_features\n",
    "from utils.evaluation import evaluate_ds\n",
    "import matplotlib.pyplot as plt\n",
    "import os\n",
    "from architecture import resnet_classifier\n",
    "import torch"
   ]
  },
  {
   "cell_type": "code",
   "execution_count": 14,
   "id": "fffb79b3",
   "metadata": {},
   "outputs": [],
   "source": [
    "root_dir = \"../datasets/OfficeHomeDataset\"\n",
    "csv_file = f\"{root_dir}/ImageInfo.csv\"\n",
    "\n",
    "transform = ResNet50_Weights.IMAGENET1K_V1.transforms()\n",
    "classes = os.listdir(f\"{root_dir}/Art\")"
   ]
  },
  {
   "cell_type": "code",
   "execution_count": 8,
   "id": "40a697bb",
   "metadata": {},
   "outputs": [],
   "source": [
    "device = 'cuda' if torch.cuda.is_available() else 'cpu'"
   ]
  },
  {
   "cell_type": "code",
   "execution_count": 16,
   "id": "a86ebe82",
   "metadata": {},
   "outputs": [],
   "source": [
    "def make_cache(domains, layer_name):\n",
    "    model = resnet_classifier(len(classes))\n",
    "    if len(domains)>1:\n",
    "        caches = []\n",
    "        for domain in domains:\n",
    "            ds = OfficeHomeDataset(root_dir, csv_file, [domain], transform)\n",
    "            caches.append(FeatureTensorDataset(ds, model, layer_name, device=device, batch_size=64))\n",
    "        return caches\n",
    "    else:\n",
    "        ds = OfficeHomeDataset(root_dir, csv_file, domains, transform)\n",
    "        return FeatureTensorDataset(ds, model, layer_name, device=device, batch_size=64)\n"
   ]
  },
  {
   "cell_type": "code",
   "execution_count": 10,
   "id": "95826748",
   "metadata": {},
   "outputs": [],
   "source": [
    "def analysis(sources, target, config, caches_source=None, cache_target=None):\n",
    "    \n",
    "    if caches_source is None:\n",
    "        caches_source = make_cache(sources, 'layer3')\n",
    "        \n",
    "\n",
    "    if cache_target is None:\n",
    "        cache_target = make_cache(target, 'layer3')\n",
    "\n",
    "    model = resnet_classifier(num_classes=len(classes))\n",
    "    truncated_model = _truncate_resnet_from(model, 'layer3')\n",
    "\n",
    "    def _forward_impl(self, x):\n",
    "        f4 = self.layer4(x)\n",
    "        x = torch.flatten(self.avgpool(f4), 1)\n",
    "        x = self.fc(x)\n",
    "        return x\n",
    "\n",
    "    import types\n",
    "    truncated_model.forward = types.MethodType(_forward_impl, truncated_model)\n",
    "\n",
    "    train_workflow(truncated_model, caches_source, cache_target, config, device)\n",
    "    evaluate_ds(cache_target, truncated_model, device, target[0], None)\n"
   ]
  },
  {
   "cell_type": "code",
   "execution_count": 18,
   "id": "5caf2af0",
   "metadata": {},
   "outputs": [
    {
     "name": "stderr",
     "output_type": "stream",
     "text": [
      "Precomputing up to layer3: 100%|██████████| 38/38 [00:38<00:00,  1.02s/it]\n",
      "Precomputing up to layer3: 100%|██████████| 69/69 [02:18<00:00,  2.01s/it]\n",
      "Precomputing up to layer3: 100%|██████████| 70/70 [01:01<00:00,  1.14it/s]\n",
      "Precomputing up to layer3: 100%|██████████| 69/69 [00:55<00:00,  1.24it/s]\n"
     ]
    }
   ],
   "source": [
    "sources = [\"Art\", \"Real World\", \"Product\"]\n",
    "target = [\"Clipart\"]\n",
    "\n",
    "caches_source = make_cache(sources, 'layer3')\n",
    "cache_target = make_cache(target, 'layer3')"
   ]
  },
  {
   "cell_type": "code",
   "execution_count": 22,
   "id": "ec1c99a3",
   "metadata": {},
   "outputs": [
    {
     "name": "stderr",
     "output_type": "stream",
     "text": [
      "Training:   0%|          | 0/2 [00:00<?, ?it/s]"
     ]
    },
    {
     "name": "stdout",
     "output_type": "stream",
     "text": [
      "\n",
      "Epoch 1/2\n"
     ]
    },
    {
     "name": "stderr",
     "output_type": "stream",
     "text": [
      "Training:  50%|█████     | 1/2 [00:12<00:12, 12.20s/it]"
     ]
    },
    {
     "name": "stdout",
     "output_type": "stream",
     "text": [
      "\tERM loss: 11.806978\tGrad penalty: 0.027897\tTrain Accuracy: 0.1020\tTest Accuracy: 0.1054\n",
      "\n",
      "Epoch 2/2\n"
     ]
    },
    {
     "name": "stderr",
     "output_type": "stream",
     "text": [
      "Training: 100%|██████████| 2/2 [00:23<00:00, 11.65s/it]"
     ]
    },
    {
     "name": "stdout",
     "output_type": "stream",
     "text": [
      "\tERM loss: 10.724350\tGrad penalty: 0.163862\tTrain Accuracy: 0.2437\tTest Accuracy: 0.1475\n"
     ]
    },
    {
     "name": "stderr",
     "output_type": "stream",
     "text": [
      "\n",
      "/usr/local/lib/python3.11/dist-packages/sklearn/metrics/_classification.py:1344: UndefinedMetricWarning: Precision and F-score are ill-defined and being set to 0.0 in labels with no predicted samples. Use `zero_division` parameter to control this behavior.\n",
      "  _warn_prf(average, modifier, msg_start, len(result))\n",
      "/usr/local/lib/python3.11/dist-packages/sklearn/metrics/_classification.py:1344: UndefinedMetricWarning: Precision and F-score are ill-defined and being set to 0.0 in labels with no predicted samples. Use `zero_division` parameter to control this behavior.\n",
      "  _warn_prf(average, modifier, msg_start, len(result))\n",
      "/usr/local/lib/python3.11/dist-packages/sklearn/metrics/_classification.py:1344: UndefinedMetricWarning: Precision and F-score are ill-defined and being set to 0.0 in labels with no predicted samples. Use `zero_division` parameter to control this behavior.\n",
      "  _warn_prf(average, modifier, msg_start, len(result))\n"
     ]
    },
    {
     "name": "stdout",
     "output_type": "stream",
     "text": [
      "\n",
      "=== Evaluation for Clipart Domain ===\n",
      "Accuracy: 14.75%\n",
      "Confusion Matrix:\n",
      "\n",
      "Classification Report:\n",
      "               precision    recall  f1-score   support\n",
      "\n",
      "           0     0.0636    0.9000    0.1188        60\n",
      "           1     0.1800    0.1607    0.1698        56\n",
      "           2     0.0000    0.0000    0.0000        64\n",
      "           3     0.3636    0.0408    0.0734        98\n",
      "           4     0.1772    0.8788    0.2949        99\n",
      "           5     0.0867    0.4343    0.1445        99\n",
      "           6     0.0000    0.0000    0.0000        73\n",
      "           7     0.4091    0.7826    0.5373        46\n",
      "           8     0.5000    0.0128    0.0250        78\n",
      "           9     0.1565    0.4141    0.2271        99\n",
      "          10     0.1977    0.6970    0.3080        99\n",
      "          11     0.0000    0.0000    0.0000        40\n",
      "          12     0.1940    0.2626    0.2232        99\n",
      "          13     0.0000    0.0000    0.0000        64\n",
      "          14     0.5455    0.1429    0.2264        42\n",
      "          15     0.0000    0.0000    0.0000        41\n",
      "          16     1.0000    0.0417    0.0800        48\n",
      "          17     0.0000    0.0000    0.0000        40\n",
      "          18     0.6000    0.1463    0.2353        41\n",
      "          19     0.6667    0.0400    0.0755        50\n",
      "          20     0.0000    0.0000    0.0000        40\n",
      "          21     0.0303    0.0250    0.0274        40\n",
      "          22     0.2680    0.8283    0.4049        99\n",
      "          23     0.0000    0.0000    0.0000        99\n",
      "          24     0.0000    0.0000    0.0000        61\n",
      "          25     0.9091    0.1923    0.3175        52\n",
      "          26     1.0000    0.0404    0.0777        99\n",
      "          27     0.0772    0.3188    0.1243        69\n",
      "          28     0.1429    0.0250    0.0426        40\n",
      "          29     1.0000    0.0808    0.1495        99\n",
      "          30     0.0655    0.6415    0.1189        53\n",
      "          31     0.6364    0.3500    0.4516        40\n",
      "          32     0.6897    0.2020    0.3125        99\n",
      "          33     0.0000    0.0000    0.0000        71\n",
      "          34     0.6000    0.0909    0.1579        99\n",
      "          35     0.0000    0.0000    0.0000        40\n",
      "          36     0.0000    0.0000    0.0000        76\n",
      "          37     0.2500    0.0909    0.1333        99\n",
      "          38     0.0000    0.0000    0.0000        83\n",
      "          39     1.0000    0.0250    0.0488        40\n",
      "          40     0.0000    0.0000    0.0000        51\n",
      "          41     0.0000    0.0000    0.0000        40\n",
      "          42     0.0000    0.0000    0.0000        99\n",
      "          43     0.0000    0.0000    0.0000        99\n",
      "          44     0.0000    0.0000    0.0000        41\n",
      "          45     0.0000    0.0000    0.0000        87\n",
      "          46     0.0000    0.0000    0.0000        40\n",
      "          47     0.0000    0.0000    0.0000        46\n",
      "          48     0.1429    0.1500    0.1463        40\n",
      "          49     0.0000    0.0000    0.0000        67\n",
      "          50     0.0000    0.0000    0.0000        99\n",
      "          51     1.0000    0.0133    0.0263        75\n",
      "          52     0.0000    0.0000    0.0000        42\n",
      "          53     0.0000    0.0000    0.0000        42\n",
      "          54     0.1231    0.3721    0.1850        43\n",
      "          55     0.0000    0.0000    0.0000        61\n",
      "          56     0.5000    0.1222    0.1964        90\n",
      "          57     0.0000    0.0000    0.0000        60\n",
      "          58     0.3750    0.0303    0.0561        99\n",
      "          59     0.0000    0.0000    0.0000        80\n",
      "          60     0.5000    0.0404    0.0748        99\n",
      "          61     0.0227    0.0513    0.0315        39\n",
      "          62     0.0000    0.0000    0.0000        99\n",
      "          63     0.0000    0.0000    0.0000        53\n",
      "          64     0.0000    0.0000    0.0000        40\n",
      "\n",
      "    accuracy                         0.1475      4365\n",
      "   macro avg     0.2227    0.1330    0.0896      4365\n",
      "weighted avg     0.2384    0.1475    0.0962      4365\n",
      "\n"
     ]
    },
    {
     "data": {
      "image/png": "[encoded data removed]",
      "text/plain": [
       "<Figure size 640x480 with 2 Axes>"
      ]
     },
     "metadata": {},
     "output_type": "display_data"
    }
   ],
   "source": [
    "config = {'epochs':2, \n",
    "          'lr':1e-3, \n",
    "          'batch_size':32, \n",
    "          'weight_decay':1e-5, \n",
    "          'phi':1.0,\n",
    "          }\n",
    "analysis(sources, target, config, caches_source, cache_target)"
   ]
  },
  {
   "cell_type": "code",
   "execution_count": null,
   "id": "f38b7e64",
   "metadata": {},
   "outputs": [],
   "source": []
  },
  {
   "cell_type": "code",
   "execution_count": null,
   "metadata": {},
   "outputs": [],
   "source": []
  },
  {
   "cell_type": "code",
   "execution_count": null,
   "id": "e594f0f7",
   "metadata": {},
   "outputs": [],
   "source": []
  },
  {
   "cell_type": "code",
   "execution_count": null,
   "id": "7cdf5dfd",
   "metadata": {},
   "outputs": [],
   "source": []
  }
 ],
 "metadata": {
  "kernelspec": {
   "display_name": "Python 3 (ipykernel)",
   "language": "python",
   "name": "python3"
  },
  "language_info": {
   "codemirror_mode": {
    "name": "ipython",
    "version": 3
   },
   "file_extension": ".py",
   "mimetype": "text/x-python",
   "name": "python",
   "nbconvert_exporter": "python",
   "pygments_lexer": "ipython3",
   "version": "3.11.13"
  }
 },
 "nbformat": 4,
 "nbformat_minor": 5
}
