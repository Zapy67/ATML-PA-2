{
 "cells": [
  {
   "cell_type": "code",
   "execution_count": 2,
   "id": "a693c24b",
   "metadata": {},
   "outputs": [
    {
     "name": "stdout",
     "output_type": "stream",
     "text": [
      "/kaggle/working/ATML-PA-2/IRM\n"
     ]
    }
   ],
   "source": [
    "cd ATML-PA-2/IRM"
   ]
  },
  {
   "cell_type": "code",
   "execution_count": 3,
   "id": "7558798f",
   "metadata": {},
   "outputs": [
    {
     "ename": "ImportError",
     "evalue": "cannot import name 'unfreeze_layers' from 'utils' (unknown location)",
     "output_type": "error",
     "traceback": [
      "\u001b[0;31m---------------------------------------------------------------------------\u001b[0m",
      "\u001b[0;31mImportError\u001b[0m                               Traceback (most recent call last)",
      "\u001b[0;32m/tmp/ipykernel_798/2756452568.py\u001b[0m in \u001b[0;36m<cell line: 0>\u001b[0;34m()\u001b[0m\n\u001b[1;32m      2\u001b[0m \u001b[0;32mfrom\u001b[0m \u001b[0mtorchvision\u001b[0m\u001b[0;34m.\u001b[0m\u001b[0mmodels\u001b[0m \u001b[0;32mimport\u001b[0m \u001b[0mResNet50_Weights\u001b[0m\u001b[0;34m\u001b[0m\u001b[0;34m\u001b[0m\u001b[0m\n\u001b[1;32m      3\u001b[0m \u001b[0;32mfrom\u001b[0m \u001b[0mimportlib\u001b[0m \u001b[0;32mimport\u001b[0m \u001b[0mreload\u001b[0m\u001b[0;34m\u001b[0m\u001b[0;34m\u001b[0m\u001b[0m\n\u001b[0;32m----> 4\u001b[0;31m \u001b[0;32mimport\u001b[0m \u001b[0mtrain\u001b[0m\u001b[0;34m\u001b[0m\u001b[0;34m\u001b[0m\u001b[0m\n\u001b[0m\u001b[1;32m      5\u001b[0m \u001b[0;32mfrom\u001b[0m \u001b[0mtrain\u001b[0m \u001b[0;32mimport\u001b[0m \u001b[0mtrain_workflow\u001b[0m\u001b[0;34m\u001b[0m\u001b[0;34m\u001b[0m\u001b[0m\n\u001b[1;32m      6\u001b[0m \u001b[0;32mimport\u001b[0m \u001b[0mtypes\u001b[0m\u001b[0;34m\u001b[0m\u001b[0;34m\u001b[0m\u001b[0m\n",
      "\u001b[0;32m/kaggle/working/ATML-PA-2/IRM/train.py\u001b[0m in \u001b[0;36m<module>\u001b[0;34m\u001b[0m\n\u001b[1;32m      1\u001b[0m \u001b[0;32mimport\u001b[0m \u001b[0mtorch\u001b[0m\u001b[0;34m\u001b[0m\u001b[0;34m\u001b[0m\u001b[0m\n\u001b[0;32m----> 2\u001b[0;31m \u001b[0;32mfrom\u001b[0m \u001b[0marchitecture\u001b[0m \u001b[0;32mimport\u001b[0m \u001b[0mIRMLoss\u001b[0m\u001b[0;34m,\u001b[0m \u001b[0mirm_resnet\u001b[0m\u001b[0;34m\u001b[0m\u001b[0;34m\u001b[0m\u001b[0m\n\u001b[0m\u001b[1;32m      3\u001b[0m \u001b[0;32mimport\u001b[0m \u001b[0mtqdm\u001b[0m\u001b[0;34m\u001b[0m\u001b[0;34m\u001b[0m\u001b[0m\n\u001b[1;32m      4\u001b[0m \u001b[0;32mimport\u001b[0m \u001b[0margparse\u001b[0m\u001b[0;34m\u001b[0m\u001b[0;34m\u001b[0m\u001b[0m\n\u001b[1;32m      5\u001b[0m \u001b[0;32mimport\u001b[0m \u001b[0mos\u001b[0m\u001b[0;34m\u001b[0m\u001b[0;34m\u001b[0m\u001b[0m\n",
      "\u001b[0;32m/kaggle/working/ATML-PA-2/IRM/architecture.py\u001b[0m in \u001b[0;36m<module>\u001b[0;34m\u001b[0m\n\u001b[1;32m      2\u001b[0m \u001b[0;32mfrom\u001b[0m \u001b[0mtorchvision\u001b[0m\u001b[0;34m.\u001b[0m\u001b[0mmodels\u001b[0m \u001b[0;32mimport\u001b[0m \u001b[0mresnet50\u001b[0m\u001b[0;34m,\u001b[0m \u001b[0mResNet50_Weights\u001b[0m\u001b[0;34m\u001b[0m\u001b[0;34m\u001b[0m\u001b[0m\n\u001b[1;32m      3\u001b[0m \u001b[0;32mfrom\u001b[0m \u001b[0mtorch\u001b[0m \u001b[0;32mimport\u001b[0m \u001b[0mnn\u001b[0m\u001b[0;34m\u001b[0m\u001b[0;34m\u001b[0m\u001b[0m\n\u001b[0;32m----> 4\u001b[0;31m \u001b[0;32mfrom\u001b[0m \u001b[0mutils\u001b[0m \u001b[0;32mimport\u001b[0m \u001b[0munfreeze_layers\u001b[0m\u001b[0;34m\u001b[0m\u001b[0;34m\u001b[0m\u001b[0m\n\u001b[0m\u001b[1;32m      5\u001b[0m \u001b[0;32mfrom\u001b[0m \u001b[0mtorch\u001b[0m\u001b[0;34m.\u001b[0m\u001b[0mautograd\u001b[0m \u001b[0;32mimport\u001b[0m \u001b[0mgrad\u001b[0m\u001b[0;34m\u001b[0m\u001b[0;34m\u001b[0m\u001b[0m\n\u001b[1;32m      6\u001b[0m \u001b[0;34m\u001b[0m\u001b[0m\n",
      "\u001b[0;31mImportError\u001b[0m: cannot import name 'unfreeze_layers' from 'utils' (unknown location)"
     ]
    }
   ],
   "source": [
    "from utils.dataset import FeatureTensorDataset, OfficeHomeDataset, _truncate_resnet_from\n",
    "from torchvision.models import ResNet50_Weights \n",
    "from importlib import reload\n",
    "import train\n",
    "from train import train_workflow\n",
    "import types\n",
    "from utils.tsne import tsne_plot, get_features\n",
    "from utils.evaluation import evaluate_ds\n",
    "import matplotlib.pyplot as plt\n",
    "import os\n",
    "from architecture import resnet_classifier\n",
    "import torch"
   ]
  },
  {
   "cell_type": "code",
   "execution_count": null,
   "id": "fffb79b3",
   "metadata": {},
   "outputs": [],
   "source": [
    "root_dir = \"../datasets/OfficeHomeDataset\"\n",
    "csv_file = f\"{root_dir}/ImageInfo.csv\"\n",
    "\n",
    "transform = ResNet50_Weights.IMAGENET1K_V1.transforms()\n",
    "classes = len(os.listdir(f\"{root_dir}/Art\"))"
   ]
  },
  {
   "cell_type": "code",
   "execution_count": null,
   "id": "40a697bb",
   "metadata": {},
   "outputs": [],
   "source": [
    "device = 'cuda' if torch.cuda.is_available() else 'cpu'"
   ]
  },
  {
   "cell_type": "code",
   "execution_count": null,
   "id": "a86ebe82",
   "metadata": {},
   "outputs": [],
   "source": [
    "def make_cache(domains, layer_name):\n",
    "    model = resnet_classifier(len(classes))\n",
    "    if isinstance(domains, list):\n",
    "        caches = []\n",
    "        for domain in domains:\n",
    "            ds = OfficeHomeDataset(root_dir, csv_file, domain, transform)\n",
    "            caches.append(FeatureTensorDataset(ds, model, layer_name, device=device, batch_size=64))\n",
    "        return caches\n",
    "    else:\n",
    "        ds = OfficeHomeDataset(root_dir, csv_file, domains, transform)\n",
    "        return FeatureTensorDataset(ds, model, layer_name, device=device, batch_size=64)\n"
   ]
  },
  {
   "cell_type": "code",
   "execution_count": null,
   "id": "95826748",
   "metadata": {},
   "outputs": [],
   "source": [
    "def analysis(sources, target, config, caches_source=None, cache_target=None):\n",
    "    \n",
    "    if caches_source is None:\n",
    "        caches_source = make_cache(sources, 'layer3')\n",
    "        \n",
    "\n",
    "    if cache_target is None:\n",
    "        cache_target = make_cache(target, 'layer3')\n",
    "\n",
    "    model = resnet_classifier(num_classes=len(classes))\n",
    "    truncated_model = _truncate_resnet_from(model, 'layer3')\n",
    "\n",
    "    def _forward_impl(self, x):\n",
    "        f4 = self.layer4(x)\n",
    "        x = torch.flatten(self.avgpool(f4), 1)\n",
    "        x = self.fc(x)\n",
    "        return x\n",
    "\n",
    "    import types\n",
    "    truncated_model.forward = types.MethodType(_forward_impl, truncated_model)\n",
    "\n",
    "    train_workflow(truncated_model, caches_source, cache_target, config, device)\n",
    "    evaluate_ds(cache_target, truncated_model, device, target[0], None)\n"
   ]
  },
  {
   "cell_type": "code",
   "execution_count": null,
   "id": "5caf2af0",
   "metadata": {},
   "outputs": [],
   "source": [
    "sources = [\"Art\", \"Real World\", \"Product\"]\n",
    "target = \"Clipart\"\n",
    "\n",
    "caches_source = make_cache(sources)\n",
    "cache_target = make_cache(target)"
   ]
  },
  {
   "cell_type": "code",
   "execution_count": null,
   "id": "ec1c99a3",
   "metadata": {},
   "outputs": [],
   "source": [
    "config = {'epochs':2, \n",
    "          'lr':1e-3, \n",
    "          'batch_size':32, \n",
    "          'weight_decay':1e-5, \n",
    "          'phi':1.0,\n",
    "          }\n",
    "analysis(sources, target, config, caches_source, cache_target)"
   ]
  },
  {
   "cell_type": "code",
   "execution_count": null,
   "id": "f38b7e64",
   "metadata": {},
   "outputs": [],
   "source": []
  },
  {
   "cell_type": "code",
   "execution_count": null,
   "metadata": {},
   "outputs": [],
   "source": []
  },
  {
   "cell_type": "code",
   "execution_count": null,
   "id": "e594f0f7",
   "metadata": {},
   "outputs": [],
   "source": []
  },
  {
   "cell_type": "code",
   "execution_count": null,
   "id": "7cdf5dfd",
   "metadata": {},
   "outputs": [],
   "source": []
  }
 ],
 "metadata": {
  "kernelspec": {
   "display_name": "Python 3 (ipykernel)",
   "language": "python",
   "name": "python3"
  },
  "language_info": {
   "codemirror_mode": {
    "name": "ipython",
    "version": 3
   },
   "file_extension": ".py",
   "mimetype": "text/x-python",
   "name": "python",
   "nbconvert_exporter": "python",
   "pygments_lexer": "ipython3",
   "version": "3.11.13"
  }
 },
 "nbformat": 4,
 "nbformat_minor": 5
}
