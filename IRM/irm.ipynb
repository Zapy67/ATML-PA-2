{
 "cells": [
  {
   "cell_type": "code",
   "execution_count": null,
   "id": "a693c24b",
   "metadata": {},
   "outputs": [
    {
     "name": "stdout",
     "output_type": "stream",
     "text": [
      "/kaggle/working/ATML-PA-2/IRM\n"
     ]
    }
   ],
   "source": [
    "cd ATML-PA-2/"
   ]
  },
  {
   "cell_type": "code",
   "execution_count": 22,
   "id": "7558798f",
   "metadata": {},
   "outputs": [],
   "source": [
    "import importlib\n",
    "import torch\n",
    "import utils\n",
    "import architecture\n",
    "import train\n",
    "import types\n",
    "importlib.reload(utils)\n",
    "importlib.reload(architecture)\n",
    "importlib.reload(train)\n",
    "\n",
    "\n",
    "from utils.dataset import FeatureTensorDataset, OfficeHomeDataset, _truncate_resnet_from\n",
    "from torchvision.models import ResNet50_Weights \n",
    "from importlib import reload\n",
    "import train\n",
    "from train import train_workflow\n",
    "import types\n",
    "from utils.tsne import tsne_plot, get_features\n",
    "from utils.evaluation import evaluate_ds\n",
    "import matplotlib.pyplot as plt\n",
    "import os\n",
    "from architecture import resnet_classifier\n",
    "import torch"
   ]
  },
  {
   "cell_type": "code",
   "execution_count": 23,
   "id": "fffb79b3",
   "metadata": {},
   "outputs": [],
   "source": [
    "root_dir = \"../datasets/OfficeHomeDataset\"\n",
    "csv_file = f\"{root_dir}/ImageInfo.csv\"\n",
    "\n",
    "transform = ResNet50_Weights.IMAGENET1K_V1.transforms()\n",
    "classes = os.listdir(f\"{root_dir}/Art\")"
   ]
  },
  {
   "cell_type": "code",
   "execution_count": 24,
   "id": "40a697bb",
   "metadata": {},
   "outputs": [],
   "source": [
    "device = 'cuda' if torch.cuda.is_available() else 'cpu'"
   ]
  },
  {
   "cell_type": "code",
   "execution_count": 6,
   "id": "a86ebe82",
   "metadata": {},
   "outputs": [],
   "source": [
    "def make_cache(domains, layer_name):\n",
    "    model = resnet_classifier(len(classes))\n",
    "    if len(domains)>1:\n",
    "        caches = []\n",
    "        for domain in domains:\n",
    "            ds = OfficeHomeDataset(root_dir, csv_file, [domain], transform)\n",
    "            caches.append(FeatureTensorDataset(ds, model, layer_name, device=device, batch_size=64))\n",
    "        return caches\n",
    "    else:\n",
    "        ds = OfficeHomeDataset(root_dir, csv_file, domains, transform)\n",
    "        return FeatureTensorDataset(ds, model, layer_name, device=device, batch_size=64)\n"
   ]
  },
  {
   "cell_type": "code",
   "execution_count": null,
   "id": "95826748",
   "metadata": {},
   "outputs": [],
   "source": [
    "def analysis(sources, target, config, caches_source=None, cache_target=None):\n",
    "    \n",
    "    if caches_source is None:\n",
    "        caches_source = make_cache(sources, 'layer3')\n",
    "        \n",
    "\n",
    "    if cache_target is None:\n",
    "        cache_target = make_cache(target, 'layer3')\n",
    "\n",
    "    model = resnet_classifier(num_classes=len(classes))\n",
    "    truncated_model = _truncate_resnet_from(model, 'layer3')\n",
    "    # model.layer3.grad=False\n",
    "\n",
    "    def _forward_impl(self, x):\n",
    "        f4 = self.layer4(x)\n",
    "        x = torch.flatten(self.avgpool(f4), 1)\n",
    "        x = self.fc(x)\n",
    "        return x\n",
    "\n",
    "    import types\n",
    "    truncated_model.forward = types.MethodType(_forward_impl, truncated_model)\n",
    "\n",
    "    print(\"Evaluating on target domain test set\")\n",
    "    \n",
    "    \n",
    "    train_workflow(truncated_model, caches_source, cache_target, config, device)\n",
    "    evaluate_ds(cache_target, truncated_model, device, target[0], None)\n"
   ]
  },
  {
   "cell_type": "code",
   "execution_count": 8,
   "id": "5caf2af0",
   "metadata": {},
   "outputs": [
    {
     "name": "stderr",
     "output_type": "stream",
     "text": [
      "Precomputing up to layer3: 100%|██████████| 38/38 [00:38<00:00,  1.02s/it]\n",
      "Precomputing up to layer3: 100%|██████████| 69/69 [02:28<00:00,  2.15s/it]\n",
      "Precomputing up to layer3: 100%|██████████| 70/70 [00:35<00:00,  1.95it/s]\n",
      "Precomputing up to layer3: 100%|██████████| 69/69 [00:46<00:00,  1.48it/s]\n"
     ]
    }
   ],
   "source": [
    "sources = [\"Art\", \"Real World\", \"Product\"]\n",
    "target = [\"Clipart\"]\n",
    "\n",
    "caches_source = make_cache(sources, 'layer3')\n",
    "cache_target = make_cache(target, 'layer3')"
   ]
  },
  {
   "cell_type": "code",
   "execution_count": 34,
   "id": "ec1c99a3",
   "metadata": {},
   "outputs": [
    {
     "name": "stdout",
     "output_type": "stream",
     "text": [
      "Evaluating on target domain test set\n"
     ]
    },
    {
     "name": "stderr",
     "output_type": "stream",
     "text": [
      "Training:   0%|          | 0/50 [00:00<?, ?it/s]"
     ]
    },
    {
     "name": "stdout",
     "output_type": "stream",
     "text": [
      "\n",
      "Epoch 1/50\n"
     ]
    },
    {
     "name": "stderr",
     "output_type": "stream",
     "text": [
      "Training:   2%|▏         | 1/50 [00:16<13:34, 16.62s/it]"
     ]
    },
    {
     "name": "stdout",
     "output_type": "stream",
     "text": [
      "\tERM loss: 10.897760\tGrad penalty: 0.129480\tTrain Accuracy: 30.59\tTest Accuracy: 17.82\n",
      "\n",
      "Epoch 2/50\n"
     ]
    },
    {
     "name": "stderr",
     "output_type": "stream",
     "text": [
      "Training:   4%|▍         | 2/50 [00:33<13:13, 16.52s/it]"
     ]
    },
    {
     "name": "stdout",
     "output_type": "stream",
     "text": [
      "\tERM loss: 8.625384\tGrad penalty: 0.273444\tTrain Accuracy: 40.10\tTest Accuracy: 23.09\n",
      "\n",
      "Epoch 3/50\n"
     ]
    },
    {
     "name": "stderr",
     "output_type": "stream",
     "text": [
      "Training:   6%|▌         | 3/50 [00:49<12:58, 16.55s/it]"
     ]
    },
    {
     "name": "stdout",
     "output_type": "stream",
     "text": [
      "\tERM loss: 6.792338\tGrad penalty: 0.213838\tTrain Accuracy: 52.24\tTest Accuracy: 28.16\n",
      "\n",
      "Epoch 4/50\n"
     ]
    },
    {
     "name": "stderr",
     "output_type": "stream",
     "text": [
      "Training:   8%|▊         | 4/50 [01:06<12:42, 16.57s/it]"
     ]
    },
    {
     "name": "stdout",
     "output_type": "stream",
     "text": [
      "\tERM loss: 5.344297\tGrad penalty: 0.213686\tTrain Accuracy: 62.10\tTest Accuracy: 33.31\n",
      "\n",
      "Epoch 5/50\n"
     ]
    },
    {
     "name": "stderr",
     "output_type": "stream",
     "text": [
      "Training:  10%|█         | 5/50 [01:22<12:21, 16.48s/it]"
     ]
    },
    {
     "name": "stdout",
     "output_type": "stream",
     "text": [
      "\tERM loss: 4.383099\tGrad penalty: 0.147375\tTrain Accuracy: 69.72\tTest Accuracy: 37.23\n",
      "\n",
      "Epoch 6/50\n"
     ]
    },
    {
     "name": "stderr",
     "output_type": "stream",
     "text": [
      "Training:  12%|█▏        | 6/50 [01:39<12:06, 16.52s/it]"
     ]
    },
    {
     "name": "stdout",
     "output_type": "stream",
     "text": [
      "\tERM loss: 3.720728\tGrad penalty: 0.129872\tTrain Accuracy: 74.35\tTest Accuracy: 40.69\n",
      "\n",
      "Epoch 7/50\n"
     ]
    },
    {
     "name": "stderr",
     "output_type": "stream",
     "text": [
      "Training:  14%|█▍        | 7/50 [01:55<11:49, 16.49s/it]"
     ]
    },
    {
     "name": "stdout",
     "output_type": "stream",
     "text": [
      "\tERM loss: 3.087052\tGrad penalty: 0.121152\tTrain Accuracy: 77.89\tTest Accuracy: 42.70\n",
      "\n",
      "Epoch 8/50\n"
     ]
    },
    {
     "name": "stderr",
     "output_type": "stream",
     "text": [
      "Training:  16%|█▌        | 8/50 [02:11<11:30, 16.44s/it]"
     ]
    },
    {
     "name": "stdout",
     "output_type": "stream",
     "text": [
      "\tERM loss: 2.693351\tGrad penalty: 0.099943\tTrain Accuracy: 79.96\tTest Accuracy: 43.46\n",
      "\n",
      "Epoch 9/50\n"
     ]
    },
    {
     "name": "stderr",
     "output_type": "stream",
     "text": [
      "Training:  18%|█▊        | 9/50 [02:28<11:14, 16.45s/it]"
     ]
    },
    {
     "name": "stdout",
     "output_type": "stream",
     "text": [
      "\tERM loss: 2.409902\tGrad penalty: 0.049670\tTrain Accuracy: 81.67\tTest Accuracy: 43.94\n",
      "\n",
      "Epoch 10/50\n"
     ]
    },
    {
     "name": "stderr",
     "output_type": "stream",
     "text": [
      "Training:  20%|██        | 10/50 [02:44<10:59, 16.48s/it]"
     ]
    },
    {
     "name": "stdout",
     "output_type": "stream",
     "text": [
      "\tERM loss: 2.173186\tGrad penalty: 0.047350\tTrain Accuracy: 83.63\tTest Accuracy: 45.29\n",
      "\n",
      "Epoch 11/50\n"
     ]
    },
    {
     "name": "stderr",
     "output_type": "stream",
     "text": [
      "Training:  22%|██▏       | 11/50 [03:01<10:43, 16.49s/it]"
     ]
    },
    {
     "name": "stdout",
     "output_type": "stream",
     "text": [
      "\tERM loss: 1.987899\tGrad penalty: 0.047694\tTrain Accuracy: 85.03\tTest Accuracy: 45.06\n",
      "\n",
      "Epoch 12/50\n"
     ]
    },
    {
     "name": "stderr",
     "output_type": "stream",
     "text": [
      "Training:  24%|██▍       | 12/50 [03:17<10:26, 16.48s/it]"
     ]
    },
    {
     "name": "stdout",
     "output_type": "stream",
     "text": [
      "\tERM loss: 1.813285\tGrad penalty: 0.050595\tTrain Accuracy: 86.06\tTest Accuracy: 46.44\n",
      "\n",
      "Epoch 13/50\n"
     ]
    },
    {
     "name": "stderr",
     "output_type": "stream",
     "text": [
      "Training:  26%|██▌       | 13/50 [03:34<10:09, 16.49s/it]"
     ]
    },
    {
     "name": "stdout",
     "output_type": "stream",
     "text": [
      "\tERM loss: 1.670413\tGrad penalty: 0.036386\tTrain Accuracy: 87.35\tTest Accuracy: 45.80\n",
      "\n",
      "Epoch 14/50\n"
     ]
    },
    {
     "name": "stderr",
     "output_type": "stream",
     "text": [
      "Training:  28%|██▊       | 14/50 [03:50<09:52, 16.45s/it]"
     ]
    },
    {
     "name": "stdout",
     "output_type": "stream",
     "text": [
      "\tERM loss: 1.543782\tGrad penalty: 0.034173\tTrain Accuracy: 88.48\tTest Accuracy: 45.34\n",
      "\n",
      "Epoch 15/50\n"
     ]
    },
    {
     "name": "stderr",
     "output_type": "stream",
     "text": [
      "Training:  30%|███       | 15/50 [04:07<09:37, 16.50s/it]"
     ]
    },
    {
     "name": "stdout",
     "output_type": "stream",
     "text": [
      "\tERM loss: 1.437123\tGrad penalty: 0.018212\tTrain Accuracy: 88.84\tTest Accuracy: 46.55\n",
      "\n",
      "Epoch 16/50\n"
     ]
    },
    {
     "name": "stderr",
     "output_type": "stream",
     "text": [
      "Training:  32%|███▏      | 16/50 [04:24<09:22, 16.54s/it]"
     ]
    },
    {
     "name": "stdout",
     "output_type": "stream",
     "text": [
      "\tERM loss: 1.302770\tGrad penalty: 0.029707\tTrain Accuracy: 90.09\tTest Accuracy: 45.54\n",
      "\n",
      "Epoch 17/50\n"
     ]
    },
    {
     "name": "stderr",
     "output_type": "stream",
     "text": [
      "Training:  34%|███▍      | 17/50 [04:40<09:08, 16.63s/it]"
     ]
    },
    {
     "name": "stdout",
     "output_type": "stream",
     "text": [
      "\tERM loss: 1.243405\tGrad penalty: 0.023844\tTrain Accuracy: 90.81\tTest Accuracy: 46.44\n",
      "\n",
      "Epoch 18/50\n"
     ]
    },
    {
     "name": "stderr",
     "output_type": "stream",
     "text": [
      "Training:  36%|███▌      | 18/50 [04:57<08:49, 16.55s/it]"
     ]
    },
    {
     "name": "stdout",
     "output_type": "stream",
     "text": [
      "\tERM loss: 1.179913\tGrad penalty: 0.023186\tTrain Accuracy: 91.60\tTest Accuracy: 46.30\n",
      "\n",
      "Epoch 19/50\n"
     ]
    },
    {
     "name": "stderr",
     "output_type": "stream",
     "text": [
      "Training:  38%|███▊      | 19/50 [05:13<08:33, 16.57s/it]"
     ]
    },
    {
     "name": "stdout",
     "output_type": "stream",
     "text": [
      "\tERM loss: 1.070876\tGrad penalty: 0.019835\tTrain Accuracy: 92.20\tTest Accuracy: 46.99\n",
      "\n",
      "Epoch 20/50\n"
     ]
    },
    {
     "name": "stderr",
     "output_type": "stream",
     "text": [
      "Training:  40%|████      | 20/50 [05:30<08:16, 16.56s/it]"
     ]
    },
    {
     "name": "stdout",
     "output_type": "stream",
     "text": [
      "\tERM loss: 1.002208\tGrad penalty: 0.021270\tTrain Accuracy: 92.91\tTest Accuracy: 47.01\n",
      "\n",
      "Epoch 21/50\n"
     ]
    },
    {
     "name": "stderr",
     "output_type": "stream",
     "text": [
      "Training:  42%|████▏     | 21/50 [05:46<07:58, 16.49s/it]"
     ]
    },
    {
     "name": "stdout",
     "output_type": "stream",
     "text": [
      "\tERM loss: 0.937449\tGrad penalty: 0.015662\tTrain Accuracy: 93.38\tTest Accuracy: 47.42\n",
      "\n",
      "Epoch 22/50\n"
     ]
    },
    {
     "name": "stderr",
     "output_type": "stream",
     "text": [
      "Training:  44%|████▍     | 22/50 [06:03<07:41, 16.47s/it]"
     ]
    },
    {
     "name": "stdout",
     "output_type": "stream",
     "text": [
      "\tERM loss: 0.864124\tGrad penalty: 0.027169\tTrain Accuracy: 94.09\tTest Accuracy: 46.94\n",
      "\n",
      "Epoch 23/50\n"
     ]
    },
    {
     "name": "stderr",
     "output_type": "stream",
     "text": [
      "Training:  46%|████▌     | 23/50 [06:19<07:24, 16.47s/it]"
     ]
    },
    {
     "name": "stdout",
     "output_type": "stream",
     "text": [
      "\tERM loss: 0.852425\tGrad penalty: -0.000022\tTrain Accuracy: 94.52\tTest Accuracy: 47.42\n",
      "\n",
      "Epoch 24/50\n"
     ]
    },
    {
     "name": "stderr",
     "output_type": "stream",
     "text": [
      "Training:  48%|████▊     | 24/50 [06:36<07:08, 16.48s/it]"
     ]
    },
    {
     "name": "stdout",
     "output_type": "stream",
     "text": [
      "\tERM loss: 0.779691\tGrad penalty: 0.015689\tTrain Accuracy: 95.04\tTest Accuracy: 46.74\n",
      "\n",
      "Epoch 25/50\n"
     ]
    },
    {
     "name": "stderr",
     "output_type": "stream",
     "text": [
      "Training:  50%|█████     | 25/50 [06:52<06:51, 16.46s/it]"
     ]
    },
    {
     "name": "stdout",
     "output_type": "stream",
     "text": [
      "\tERM loss: 0.717564\tGrad penalty: 0.020446\tTrain Accuracy: 95.50\tTest Accuracy: 46.53\n",
      "\n",
      "Epoch 26/50\n"
     ]
    },
    {
     "name": "stderr",
     "output_type": "stream",
     "text": [
      "Training:  52%|█████▏    | 26/50 [07:09<06:37, 16.57s/it]"
     ]
    },
    {
     "name": "stdout",
     "output_type": "stream",
     "text": [
      "\tERM loss: 0.667022\tGrad penalty: 0.034566\tTrain Accuracy: 95.66\tTest Accuracy: 47.01\n",
      "\n",
      "Epoch 27/50\n"
     ]
    },
    {
     "name": "stderr",
     "output_type": "stream",
     "text": [
      "Training:  54%|█████▍    | 27/50 [07:25<06:20, 16.56s/it]"
     ]
    },
    {
     "name": "stdout",
     "output_type": "stream",
     "text": [
      "\tERM loss: 0.628887\tGrad penalty: 0.031515\tTrain Accuracy: 96.13\tTest Accuracy: 47.01\n",
      "\n",
      "Epoch 28/50\n"
     ]
    },
    {
     "name": "stderr",
     "output_type": "stream",
     "text": [
      "Training:  56%|█████▌    | 28/50 [07:42<06:04, 16.56s/it]"
     ]
    },
    {
     "name": "stdout",
     "output_type": "stream",
     "text": [
      "\tERM loss: 0.583163\tGrad penalty: 0.014993\tTrain Accuracy: 96.34\tTest Accuracy: 46.48\n",
      "\n",
      "Epoch 29/50\n"
     ]
    },
    {
     "name": "stderr",
     "output_type": "stream",
     "text": [
      "Training:  58%|█████▊    | 29/50 [07:59<05:49, 16.63s/it]"
     ]
    },
    {
     "name": "stdout",
     "output_type": "stream",
     "text": [
      "\tERM loss: 0.567367\tGrad penalty: 0.004394\tTrain Accuracy: 96.79\tTest Accuracy: 46.32\n",
      "\n",
      "Epoch 30/50\n"
     ]
    },
    {
     "name": "stderr",
     "output_type": "stream",
     "text": [
      "Training:  60%|██████    | 30/50 [08:15<05:31, 16.59s/it]"
     ]
    },
    {
     "name": "stdout",
     "output_type": "stream",
     "text": [
      "\tERM loss: 0.520193\tGrad penalty: 0.019405\tTrain Accuracy: 96.84\tTest Accuracy: 46.60\n",
      "\n",
      "Epoch 31/50\n"
     ]
    },
    {
     "name": "stderr",
     "output_type": "stream",
     "text": [
      "Training:  62%|██████▏   | 31/50 [08:32<05:15, 16.60s/it]"
     ]
    },
    {
     "name": "stdout",
     "output_type": "stream",
     "text": [
      "\tERM loss: 0.492394\tGrad penalty: 0.005096\tTrain Accuracy: 97.24\tTest Accuracy: 46.12\n",
      "\n",
      "Epoch 32/50\n"
     ]
    },
    {
     "name": "stderr",
     "output_type": "stream",
     "text": [
      "Training:  64%|██████▍   | 32/50 [08:48<04:57, 16.55s/it]"
     ]
    },
    {
     "name": "stdout",
     "output_type": "stream",
     "text": [
      "\tERM loss: 0.468515\tGrad penalty: 0.018151\tTrain Accuracy: 97.36\tTest Accuracy: 47.03\n",
      "\n",
      "Epoch 33/50\n"
     ]
    },
    {
     "name": "stderr",
     "output_type": "stream",
     "text": [
      "Training:  66%|██████▌   | 33/50 [09:05<04:41, 16.57s/it]"
     ]
    },
    {
     "name": "stdout",
     "output_type": "stream",
     "text": [
      "\tERM loss: 0.430670\tGrad penalty: 0.007514\tTrain Accuracy: 97.52\tTest Accuracy: 46.62\n",
      "\n",
      "Epoch 34/50\n"
     ]
    },
    {
     "name": "stderr",
     "output_type": "stream",
     "text": [
      "Training:  68%|██████▊   | 34/50 [09:21<04:24, 16.54s/it]"
     ]
    },
    {
     "name": "stdout",
     "output_type": "stream",
     "text": [
      "\tERM loss: 0.424956\tGrad penalty: 0.014305\tTrain Accuracy: 97.75\tTest Accuracy: 46.67\n",
      "\n",
      "Epoch 35/50\n"
     ]
    },
    {
     "name": "stderr",
     "output_type": "stream",
     "text": [
      "Training:  70%|███████   | 35/50 [09:38<04:08, 16.57s/it]"
     ]
    },
    {
     "name": "stdout",
     "output_type": "stream",
     "text": [
      "\tERM loss: 0.372858\tGrad penalty: 0.010981\tTrain Accuracy: 97.86\tTest Accuracy: 45.64\n",
      "\n",
      "Epoch 36/50\n"
     ]
    },
    {
     "name": "stderr",
     "output_type": "stream",
     "text": [
      "Training:  72%|███████▏  | 36/50 [09:54<03:51, 16.50s/it]"
     ]
    },
    {
     "name": "stdout",
     "output_type": "stream",
     "text": [
      "\tERM loss: 0.386949\tGrad penalty: 0.028273\tTrain Accuracy: 98.09\tTest Accuracy: 46.69\n",
      "\n",
      "Epoch 37/50\n"
     ]
    },
    {
     "name": "stderr",
     "output_type": "stream",
     "text": [
      "Training:  74%|███████▍  | 37/50 [10:11<03:34, 16.53s/it]"
     ]
    },
    {
     "name": "stdout",
     "output_type": "stream",
     "text": [
      "\tERM loss: 0.342215\tGrad penalty: -0.003212\tTrain Accuracy: 98.21\tTest Accuracy: 45.68\n",
      "\n",
      "Epoch 38/50\n"
     ]
    },
    {
     "name": "stderr",
     "output_type": "stream",
     "text": [
      "Training:  76%|███████▌  | 38/50 [10:27<03:18, 16.52s/it]"
     ]
    },
    {
     "name": "stdout",
     "output_type": "stream",
     "text": [
      "\tERM loss: 0.343405\tGrad penalty: 0.013335\tTrain Accuracy: 98.37\tTest Accuracy: 46.23\n",
      "\n",
      "Epoch 39/50\n"
     ]
    },
    {
     "name": "stderr",
     "output_type": "stream",
     "text": [
      "Training:  78%|███████▊  | 39/50 [10:44<03:02, 16.59s/it]"
     ]
    },
    {
     "name": "stdout",
     "output_type": "stream",
     "text": [
      "\tERM loss: 0.308568\tGrad penalty: 0.010001\tTrain Accuracy: 98.44\tTest Accuracy: 45.91\n",
      "\n",
      "Epoch 40/50\n"
     ]
    },
    {
     "name": "stderr",
     "output_type": "stream",
     "text": [
      "Training:  80%|████████  | 40/50 [11:01<02:45, 16.55s/it]"
     ]
    },
    {
     "name": "stdout",
     "output_type": "stream",
     "text": [
      "\tERM loss: 0.297415\tGrad penalty: 0.032146\tTrain Accuracy: 98.48\tTest Accuracy: 46.74\n",
      "\n",
      "Epoch 41/50\n"
     ]
    },
    {
     "name": "stderr",
     "output_type": "stream",
     "text": [
      "Training:  82%|████████▏ | 41/50 [11:17<02:28, 16.54s/it]"
     ]
    },
    {
     "name": "stdout",
     "output_type": "stream",
     "text": [
      "\tERM loss: 0.278554\tGrad penalty: 0.023945\tTrain Accuracy: 98.57\tTest Accuracy: 45.77\n",
      "\n",
      "Epoch 42/50\n"
     ]
    },
    {
     "name": "stderr",
     "output_type": "stream",
     "text": [
      "Training:  84%|████████▍ | 42/50 [11:34<02:12, 16.58s/it]"
     ]
    },
    {
     "name": "stdout",
     "output_type": "stream",
     "text": [
      "\tERM loss: 0.259781\tGrad penalty: 0.019970\tTrain Accuracy: 98.73\tTest Accuracy: 45.64\n",
      "\n",
      "Epoch 43/50\n"
     ]
    },
    {
     "name": "stderr",
     "output_type": "stream",
     "text": [
      "Training:  86%|████████▌ | 43/50 [11:50<01:55, 16.53s/it]"
     ]
    },
    {
     "name": "stdout",
     "output_type": "stream",
     "text": [
      "\tERM loss: 0.255046\tGrad penalty: -0.004688\tTrain Accuracy: 98.78\tTest Accuracy: 46.07\n",
      "\n",
      "Epoch 44/50\n"
     ]
    },
    {
     "name": "stderr",
     "output_type": "stream",
     "text": [
      "Training:  88%|████████▊ | 44/50 [12:07<01:38, 16.50s/it]"
     ]
    },
    {
     "name": "stdout",
     "output_type": "stream",
     "text": [
      "\tERM loss: 0.240542\tGrad penalty: 0.014022\tTrain Accuracy: 98.87\tTest Accuracy: 45.68\n",
      "\n",
      "Epoch 45/50\n"
     ]
    },
    {
     "name": "stderr",
     "output_type": "stream",
     "text": [
      "Training:  90%|█████████ | 45/50 [12:23<01:22, 16.46s/it]"
     ]
    },
    {
     "name": "stdout",
     "output_type": "stream",
     "text": [
      "\tERM loss: 0.217079\tGrad penalty: 0.007966\tTrain Accuracy: 98.91\tTest Accuracy: 46.05\n",
      "\n",
      "Epoch 46/50\n"
     ]
    },
    {
     "name": "stderr",
     "output_type": "stream",
     "text": [
      "Training:  92%|█████████▏| 46/50 [12:40<01:05, 16.46s/it]"
     ]
    },
    {
     "name": "stdout",
     "output_type": "stream",
     "text": [
      "\tERM loss: 0.220782\tGrad penalty: 0.007540\tTrain Accuracy: 98.97\tTest Accuracy: 46.21\n",
      "\n",
      "Epoch 47/50\n"
     ]
    },
    {
     "name": "stderr",
     "output_type": "stream",
     "text": [
      "Training:  94%|█████████▍| 47/50 [12:56<00:49, 16.49s/it]"
     ]
    },
    {
     "name": "stdout",
     "output_type": "stream",
     "text": [
      "\tERM loss: 0.209821\tGrad penalty: 0.013162\tTrain Accuracy: 98.95\tTest Accuracy: 46.03\n",
      "\n",
      "Epoch 48/50\n"
     ]
    },
    {
     "name": "stderr",
     "output_type": "stream",
     "text": [
      "Training:  96%|█████████▌| 48/50 [13:13<00:32, 16.50s/it]"
     ]
    },
    {
     "name": "stdout",
     "output_type": "stream",
     "text": [
      "\tERM loss: 0.202057\tGrad penalty: 0.009426\tTrain Accuracy: 99.04\tTest Accuracy: 46.16\n",
      "\n",
      "Epoch 49/50\n"
     ]
    },
    {
     "name": "stderr",
     "output_type": "stream",
     "text": [
      "Training:  98%|█████████▊| 49/50 [13:29<00:16, 16.52s/it]"
     ]
    },
    {
     "name": "stdout",
     "output_type": "stream",
     "text": [
      "\tERM loss: 0.201950\tGrad penalty: 0.010076\tTrain Accuracy: 99.09\tTest Accuracy: 45.52\n",
      "\n",
      "Epoch 50/50\n"
     ]
    },
    {
     "name": "stderr",
     "output_type": "stream",
     "text": [
      "Training: 100%|██████████| 50/50 [13:46<00:00, 16.52s/it]"
     ]
    },
    {
     "name": "stdout",
     "output_type": "stream",
     "text": [
      "\tERM loss: 0.183833\tGrad penalty: 0.023697\tTrain Accuracy: 99.10\tTest Accuracy: 45.59\n"
     ]
    },
    {
     "name": "stderr",
     "output_type": "stream",
     "text": [
      "\n"
     ]
    },
    {
     "name": "stdout",
     "output_type": "stream",
     "text": [
      "\n",
      "=== Evaluation for Clipart Domain ===\n",
      "Accuracy: 45.59%\n",
      "Confusion Matrix:\n",
      "\n",
      "Classification Report:\n",
      "               precision    recall  f1-score   support\n",
      "\n",
      "           0     0.5921    0.7500    0.6618        60\n",
      "           1     0.7333    0.1964    0.3099        56\n",
      "           2     0.4419    0.2969    0.3551        64\n",
      "           3     1.0000    0.0714    0.1333        98\n",
      "           4     0.9512    0.7879    0.8619        99\n",
      "           5     0.6364    0.2828    0.3916        99\n",
      "           6     0.4405    0.5068    0.4713        73\n",
      "           7     0.6000    0.8478    0.7027        46\n",
      "           8     0.4949    0.6282    0.5537        78\n",
      "           9     0.6222    0.2828    0.3889        99\n",
      "          10     0.6588    0.5657    0.6087        99\n",
      "          11     0.2045    0.2250    0.2143        40\n",
      "          12     0.3913    0.3636    0.3770        99\n",
      "          13     0.7000    0.3281    0.4468        64\n",
      "          14     0.7297    0.6429    0.6835        42\n",
      "          15     0.1833    0.2683    0.2178        41\n",
      "          16     0.9474    0.3750    0.5373        48\n",
      "          17     0.0549    0.1250    0.0763        40\n",
      "          18     0.2431    0.8537    0.3784        41\n",
      "          19     0.5833    0.5600    0.5714        50\n",
      "          20     0.5070    0.9000    0.6486        40\n",
      "          21     0.7174    0.8250    0.7674        40\n",
      "          22     0.9762    0.4141    0.5816        99\n",
      "          23     0.1386    0.6970    0.2312        99\n",
      "          24     0.3000    0.2951    0.2975        61\n",
      "          25     0.3015    0.7885    0.4362        52\n",
      "          26     0.4742    0.4646    0.4694        99\n",
      "          27     0.6111    0.4783    0.5366        69\n",
      "          28     0.5918    0.7250    0.6517        40\n",
      "          29     0.8485    0.5657    0.6788        99\n",
      "          30     0.3380    0.4528    0.3871        53\n",
      "          31     0.3421    0.6500    0.4483        40\n",
      "          32     0.6912    0.4747    0.5629        99\n",
      "          33     0.1099    0.1408    0.1235        71\n",
      "          34     0.5243    0.5455    0.5347        99\n",
      "          35     0.3256    0.3500    0.3373        40\n",
      "          36     0.6780    0.5263    0.5926        76\n",
      "          37     0.7297    0.5455    0.6243        99\n",
      "          38     0.3770    0.2771    0.3194        83\n",
      "          39     0.5714    0.5000    0.5333        40\n",
      "          40     0.6667    0.6275    0.6465        51\n",
      "          41     0.2419    0.7500    0.3659        40\n",
      "          42     0.5781    0.3737    0.4540        99\n",
      "          43     0.3855    0.3232    0.3516        99\n",
      "          44     0.3077    0.2927    0.3000        41\n",
      "          45     0.8286    0.3333    0.4754        87\n",
      "          46     0.6667    0.4500    0.5373        40\n",
      "          47     0.7600    0.4130    0.5352        46\n",
      "          48     0.3784    0.3500    0.3636        40\n",
      "          49     0.8448    0.7313    0.7840        67\n",
      "          50     0.5878    0.8788    0.7045        99\n",
      "          51     0.7174    0.4400    0.5455        75\n",
      "          52     0.4231    0.2619    0.3235        42\n",
      "          53     0.4444    0.1905    0.2667        42\n",
      "          54     0.7647    0.3023    0.4333        43\n",
      "          55     0.2836    0.3115    0.2969        61\n",
      "          56     0.7887    0.6222    0.6957        90\n",
      "          57     0.5000    0.2667    0.3478        60\n",
      "          58     0.4038    0.2121    0.2781        99\n",
      "          59     0.4583    0.6875    0.5500        80\n",
      "          60     0.9000    0.1818    0.3025        99\n",
      "          61     0.2535    0.4615    0.3273        39\n",
      "          62     0.4151    0.2222    0.2895        99\n",
      "          63     0.4898    0.4528    0.4706        53\n",
      "          64     0.6400    0.4000    0.4923        40\n",
      "\n",
      "    accuracy                         0.4559      4365\n",
      "   macro avg     0.5399    0.4632    0.4591      4365\n",
      "weighted avg     0.5653    0.4559    0.4643      4365\n",
      "\n"
     ]
    },
    {
     "data": {
      "image/png": "[encoded data removed]",
      "text/plain": [
       "<Figure size 640x480 with 2 Axes>"
      ]
     },
     "metadata": {},
     "output_type": "display_data"
    }
   ],
   "source": [
    "config = {'epochs':50, \n",
    "          'lr':4e-3, \n",
    "          'batch_size':48,  #larger batchsize \n",
    "          'weight_decay':1e-4, \n",
    "          'phi':1,\n",
    "          'scheduling_constant':1.04,\n",
    "          }\n",
    "analysis(sources, target, config, caches_source, cache_target)"
   ]
  },
  {
   "cell_type": "code",
   "execution_count": 19,
   "id": "f38b7e64",
   "metadata": {},
   "outputs": [
    {
     "data": {
      "text/plain": [
       "'Bucket'"
      ]
     },
     "execution_count": 19,
     "metadata": {},
     "output_type": "execute_result"
    }
   ],
   "source": [
    "classes[5]"
   ]
  },
  {
   "cell_type": "code",
   "execution_count": 38,
   "metadata": {},
   "outputs": [
    {
     "name": "stdout",
     "output_type": "stream",
     "text": [
      "Evaluating on target domain test set\n"
     ]
    },
    {
     "name": "stderr",
     "output_type": "stream",
     "text": [
      "Training:   0%|          | 0/10 [00:00<?, ?it/s]"
     ]
    },
    {
     "name": "stdout",
     "output_type": "stream",
     "text": [
      "\n",
      "Epoch 1/10\n"
     ]
    },
    {
     "name": "stderr",
     "output_type": "stream",
     "text": [
      "Training:  10%|█         | 1/10 [00:16<02:27, 16.44s/it]"
     ]
    },
    {
     "name": "stdout",
     "output_type": "stream",
     "text": [
      "\tERM loss: nan\tGrad penalty: nan\tTrain Accuracy: 2.27\tTest Accuracy: 1.37\n",
      "\n",
      "Epoch 2/10\n"
     ]
    },
    {
     "name": "stderr",
     "output_type": "stream",
     "text": [
      "Training:  20%|██        | 2/10 [00:33<02:12, 16.53s/it]"
     ]
    },
    {
     "name": "stdout",
     "output_type": "stream",
     "text": [
      "\tERM loss: nan\tGrad penalty: nan\tTrain Accuracy: 2.27\tTest Accuracy: 1.37\n",
      "\n",
      "Epoch 3/10\n"
     ]
    },
    {
     "name": "stderr",
     "output_type": "stream",
     "text": [
      "Training:  30%|███       | 3/10 [00:49<01:55, 16.54s/it]"
     ]
    },
    {
     "name": "stdout",
     "output_type": "stream",
     "text": [
      "\tERM loss: nan\tGrad penalty: nan\tTrain Accuracy: 2.27\tTest Accuracy: 1.37\n",
      "\n",
      "Epoch 4/10\n"
     ]
    },
    {
     "name": "stderr",
     "output_type": "stream",
     "text": [
      "Training:  40%|████      | 4/10 [01:06<01:39, 16.53s/it]"
     ]
    },
    {
     "name": "stdout",
     "output_type": "stream",
     "text": [
      "\tERM loss: nan\tGrad penalty: nan\tTrain Accuracy: 2.27\tTest Accuracy: 1.37\n",
      "\n",
      "Epoch 5/10\n"
     ]
    },
    {
     "name": "stderr",
     "output_type": "stream",
     "text": [
      "Training:  50%|█████     | 5/10 [01:22<01:22, 16.59s/it]"
     ]
    },
    {
     "name": "stdout",
     "output_type": "stream",
     "text": [
      "\tERM loss: nan\tGrad penalty: nan\tTrain Accuracy: 2.27\tTest Accuracy: 1.37\n",
      "\n",
      "Epoch 6/10\n"
     ]
    },
    {
     "name": "stderr",
     "output_type": "stream",
     "text": [
      "Training:  60%|██████    | 6/10 [01:39<01:06, 16.63s/it]"
     ]
    },
    {
     "name": "stdout",
     "output_type": "stream",
     "text": [
      "\tERM loss: nan\tGrad penalty: nan\tTrain Accuracy: 2.27\tTest Accuracy: 1.37\n",
      "\n",
      "Epoch 7/10\n"
     ]
    },
    {
     "name": "stderr",
     "output_type": "stream",
     "text": [
      "Training:  70%|███████   | 7/10 [01:55<00:49, 16.59s/it]"
     ]
    },
    {
     "name": "stdout",
     "output_type": "stream",
     "text": [
      "\tERM loss: nan\tGrad penalty: nan\tTrain Accuracy: 2.27\tTest Accuracy: 1.37\n",
      "\n",
      "Epoch 8/10\n"
     ]
    },
    {
     "name": "stderr",
     "output_type": "stream",
     "text": [
      "Training:  80%|████████  | 8/10 [02:12<00:33, 16.60s/it]"
     ]
    },
    {
     "name": "stdout",
     "output_type": "stream",
     "text": [
      "\tERM loss: nan\tGrad penalty: nan\tTrain Accuracy: 2.27\tTest Accuracy: 1.37\n",
      "\n",
      "Epoch 9/10\n"
     ]
    },
    {
     "name": "stderr",
     "output_type": "stream",
     "text": [
      "Training:  90%|█████████ | 9/10 [02:29<00:16, 16.55s/it]"
     ]
    },
    {
     "name": "stdout",
     "output_type": "stream",
     "text": [
      "\tERM loss: nan\tGrad penalty: nan\tTrain Accuracy: 2.27\tTest Accuracy: 1.37\n",
      "\n",
      "Epoch 10/10\n"
     ]
    },
    {
     "name": "stderr",
     "output_type": "stream",
     "text": [
      "Training: 100%|██████████| 10/10 [02:45<00:00, 16.56s/it]"
     ]
    },
    {
     "name": "stdout",
     "output_type": "stream",
     "text": [
      "\tERM loss: nan\tGrad penalty: nan\tTrain Accuracy: 2.27\tTest Accuracy: 1.37\n"
     ]
    },
    {
     "name": "stderr",
     "output_type": "stream",
     "text": [
      "\n",
      "/usr/local/lib/python3.11/dist-packages/sklearn/metrics/_classification.py:1344: UndefinedMetricWarning: Precision and F-score are ill-defined and being set to 0.0 in labels with no predicted samples. Use `zero_division` parameter to control this behavior.\n",
      "  _warn_prf(average, modifier, msg_start, len(result))\n",
      "/usr/local/lib/python3.11/dist-packages/sklearn/metrics/_classification.py:1344: UndefinedMetricWarning: Precision and F-score are ill-defined and being set to 0.0 in labels with no predicted samples. Use `zero_division` parameter to control this behavior.\n",
      "  _warn_prf(average, modifier, msg_start, len(result))\n",
      "/usr/local/lib/python3.11/dist-packages/sklearn/metrics/_classification.py:1344: UndefinedMetricWarning: Precision and F-score are ill-defined and being set to 0.0 in labels with no predicted samples. Use `zero_division` parameter to control this behavior.\n",
      "  _warn_prf(average, modifier, msg_start, len(result))\n"
     ]
    },
    {
     "name": "stdout",
     "output_type": "stream",
     "text": [
      "\n",
      "=== Evaluation for Clipart Domain ===\n",
      "Accuracy: 1.37%\n",
      "Confusion Matrix:\n",
      "\n",
      "Classification Report:\n",
      "               precision    recall  f1-score   support\n",
      "\n",
      "           0     0.0137    1.0000    0.0271        60\n",
      "           1     0.0000    0.0000    0.0000        56\n",
      "           2     0.0000    0.0000    0.0000        64\n",
      "           3     0.0000    0.0000    0.0000        98\n",
      "           4     0.0000    0.0000    0.0000        99\n",
      "           5     0.0000    0.0000    0.0000        99\n",
      "           6     0.0000    0.0000    0.0000        73\n",
      "           7     0.0000    0.0000    0.0000        46\n",
      "           8     0.0000    0.0000    0.0000        78\n",
      "           9     0.0000    0.0000    0.0000        99\n",
      "          10     0.0000    0.0000    0.0000        99\n",
      "          11     0.0000    0.0000    0.0000        40\n",
      "          12     0.0000    0.0000    0.0000        99\n",
      "          13     0.0000    0.0000    0.0000        64\n",
      "          14     0.0000    0.0000    0.0000        42\n",
      "          15     0.0000    0.0000    0.0000        41\n",
      "          16     0.0000    0.0000    0.0000        48\n",
      "          17     0.0000    0.0000    0.0000        40\n",
      "          18     0.0000    0.0000    0.0000        41\n",
      "          19     0.0000    0.0000    0.0000        50\n",
      "          20     0.0000    0.0000    0.0000        40\n",
      "          21     0.0000    0.0000    0.0000        40\n",
      "          22     0.0000    0.0000    0.0000        99\n",
      "          23     0.0000    0.0000    0.0000        99\n",
      "          24     0.0000    0.0000    0.0000        61\n",
      "          25     0.0000    0.0000    0.0000        52\n",
      "          26     0.0000    0.0000    0.0000        99\n",
      "          27     0.0000    0.0000    0.0000        69\n",
      "          28     0.0000    0.0000    0.0000        40\n",
      "          29     0.0000    0.0000    0.0000        99\n",
      "          30     0.0000    0.0000    0.0000        53\n",
      "          31     0.0000    0.0000    0.0000        40\n",
      "          32     0.0000    0.0000    0.0000        99\n",
      "          33     0.0000    0.0000    0.0000        71\n",
      "          34     0.0000    0.0000    0.0000        99\n",
      "          35     0.0000    0.0000    0.0000        40\n",
      "          36     0.0000    0.0000    0.0000        76\n",
      "          37     0.0000    0.0000    0.0000        99\n",
      "          38     0.0000    0.0000    0.0000        83\n",
      "          39     0.0000    0.0000    0.0000        40\n",
      "          40     0.0000    0.0000    0.0000        51\n",
      "          41     0.0000    0.0000    0.0000        40\n",
      "          42     0.0000    0.0000    0.0000        99\n",
      "          43     0.0000    0.0000    0.0000        99\n",
      "          44     0.0000    0.0000    0.0000        41\n",
      "          45     0.0000    0.0000    0.0000        87\n",
      "          46     0.0000    0.0000    0.0000        40\n",
      "          47     0.0000    0.0000    0.0000        46\n",
      "          48     0.0000    0.0000    0.0000        40\n",
      "          49     0.0000    0.0000    0.0000        67\n",
      "          50     0.0000    0.0000    0.0000        99\n",
      "          51     0.0000    0.0000    0.0000        75\n",
      "          52     0.0000    0.0000    0.0000        42\n",
      "          53     0.0000    0.0000    0.0000        42\n",
      "          54     0.0000    0.0000    0.0000        43\n",
      "          55     0.0000    0.0000    0.0000        61\n",
      "          56     0.0000    0.0000    0.0000        90\n",
      "          57     0.0000    0.0000    0.0000        60\n",
      "          58     0.0000    0.0000    0.0000        99\n",
      "          59     0.0000    0.0000    0.0000        80\n",
      "          60     0.0000    0.0000    0.0000        99\n",
      "          61     0.0000    0.0000    0.0000        39\n",
      "          62     0.0000    0.0000    0.0000        99\n",
      "          63     0.0000    0.0000    0.0000        53\n",
      "          64     0.0000    0.0000    0.0000        40\n",
      "\n",
      "    accuracy                         0.0137      4365\n",
      "   macro avg     0.0002    0.0154    0.0004      4365\n",
      "weighted avg     0.0002    0.0137    0.0004      4365\n",
      "\n"
     ]
    },
    {
     "data": {
      "image/png": "[encoded data removed]",
      "text/plain": [
       "<Figure size 640x480 with 2 Axes>"
      ]
     },
     "metadata": {},
     "output_type": "display_data"
    }
   ],
   "source": [
    "config = {'epochs':10, \n",
    "          'lr':4e-3, \n",
    "          'batch_size':48,  \n",
    "          'weight_decay':1e-4, \n",
    "          'phi':32,\n",
    "          'scheduling_constant':1.0,\n",
    "          }\n",
    "analysis(sources, target, config, caches_source, cache_target)"
   ]
  },
  {
   "cell_type": "code",
   "execution_count": 45,
   "id": "e594f0f7",
   "metadata": {},
   "outputs": [
    {
     "name": "stdout",
     "output_type": "stream",
     "text": [
      "Evaluating on target domain test set\n"
     ]
    },
    {
     "name": "stderr",
     "output_type": "stream",
     "text": [
      "Training:   0%|          | 0/25 [00:00<?, ?it/s]"
     ]
    },
    {
     "name": "stdout",
     "output_type": "stream",
     "text": [
      "\n",
      "Epoch 1/25\n"
     ]
    },
    {
     "name": "stderr",
     "output_type": "stream",
     "text": [
      "Training:   4%|▍         | 1/25 [00:15<06:05, 15.23s/it]"
     ]
    },
    {
     "name": "stdout",
     "output_type": "stream",
     "text": [
      "\tERM loss: 11.133415\tGrad penalty: 0.096570\tTrain Accuracy: 28.80\tTest Accuracy: 16.38\n",
      "\n",
      "Epoch 2/25\n"
     ]
    },
    {
     "name": "stderr",
     "output_type": "stream",
     "text": [
      "Training:   8%|▊         | 2/25 [00:30<05:51, 15.27s/it]"
     ]
    },
    {
     "name": "stdout",
     "output_type": "stream",
     "text": [
      "\tERM loss: 9.278883\tGrad penalty: 0.253201\tTrain Accuracy: 33.45\tTest Accuracy: 18.08\n",
      "\n",
      "Epoch 3/25\n"
     ]
    },
    {
     "name": "stderr",
     "output_type": "stream",
     "text": [
      "Training:  12%|█▏        | 3/25 [00:46<05:38, 15.36s/it]"
     ]
    },
    {
     "name": "stdout",
     "output_type": "stream",
     "text": [
      "\tERM loss: 7.763476\tGrad penalty: 0.214918\tTrain Accuracy: 43.70\tTest Accuracy: 24.17\n",
      "\n",
      "Epoch 4/25\n"
     ]
    },
    {
     "name": "stderr",
     "output_type": "stream",
     "text": [
      "Training:  16%|█▌        | 4/25 [01:01<05:22, 15.36s/it]"
     ]
    },
    {
     "name": "stdout",
     "output_type": "stream",
     "text": [
      "\tERM loss: 6.423488\tGrad penalty: 0.193617\tTrain Accuracy: 52.09\tTest Accuracy: 28.43\n",
      "\n",
      "Epoch 5/25\n"
     ]
    },
    {
     "name": "stderr",
     "output_type": "stream",
     "text": [
      "Training:  20%|██        | 5/25 [01:16<05:08, 15.45s/it]"
     ]
    },
    {
     "name": "stdout",
     "output_type": "stream",
     "text": [
      "\tERM loss: 5.394032\tGrad penalty: 0.169510\tTrain Accuracy: 58.58\tTest Accuracy: 31.23\n",
      "\n",
      "Epoch 6/25\n"
     ]
    },
    {
     "name": "stderr",
     "output_type": "stream",
     "text": [
      "Training:  24%|██▍       | 6/25 [01:32<04:54, 15.50s/it]"
     ]
    },
    {
     "name": "stdout",
     "output_type": "stream",
     "text": [
      "\tERM loss: 4.652635\tGrad penalty: 0.116252\tTrain Accuracy: 65.88\tTest Accuracy: 35.62\n",
      "\n",
      "Epoch 7/25\n"
     ]
    },
    {
     "name": "stderr",
     "output_type": "stream",
     "text": [
      "Training:  28%|██▊       | 7/25 [01:48<04:39, 15.54s/it]"
     ]
    },
    {
     "name": "stdout",
     "output_type": "stream",
     "text": [
      "\tERM loss: 4.001991\tGrad penalty: 0.136439\tTrain Accuracy: 69.66\tTest Accuracy: 38.44\n",
      "\n",
      "Epoch 8/25\n"
     ]
    },
    {
     "name": "stderr",
     "output_type": "stream",
     "text": [
      "Training:  32%|███▏      | 8/25 [02:04<04:25, 15.63s/it]"
     ]
    },
    {
     "name": "stdout",
     "output_type": "stream",
     "text": [
      "\tERM loss: 3.496977\tGrad penalty: 0.103800\tTrain Accuracy: 74.44\tTest Accuracy: 40.99\n",
      "\n",
      "Epoch 9/25\n"
     ]
    },
    {
     "name": "stderr",
     "output_type": "stream",
     "text": [
      "Training:  36%|███▌      | 9/25 [02:19<04:09, 15.61s/it]"
     ]
    },
    {
     "name": "stdout",
     "output_type": "stream",
     "text": [
      "\tERM loss: 3.057238\tGrad penalty: 0.102022\tTrain Accuracy: 77.12\tTest Accuracy: 42.50\n",
      "\n",
      "Epoch 10/25\n"
     ]
    },
    {
     "name": "stderr",
     "output_type": "stream",
     "text": [
      "Training:  40%|████      | 10/25 [02:34<03:52, 15.49s/it]"
     ]
    },
    {
     "name": "stdout",
     "output_type": "stream",
     "text": [
      "\tERM loss: 2.814695\tGrad penalty: 0.091599\tTrain Accuracy: 78.50\tTest Accuracy: 43.16\n",
      "\n",
      "Epoch 11/25\n"
     ]
    },
    {
     "name": "stderr",
     "output_type": "stream",
     "text": [
      "Training:  44%|████▍     | 11/25 [02:50<03:36, 15.46s/it]"
     ]
    },
    {
     "name": "stdout",
     "output_type": "stream",
     "text": [
      "\tERM loss: 2.537086\tGrad penalty: 0.084766\tTrain Accuracy: 80.37\tTest Accuracy: 43.69\n",
      "\n",
      "Epoch 12/25\n"
     ]
    },
    {
     "name": "stderr",
     "output_type": "stream",
     "text": [
      "Training:  48%|████▊     | 12/25 [03:05<03:21, 15.51s/it]"
     ]
    },
    {
     "name": "stdout",
     "output_type": "stream",
     "text": [
      "\tERM loss: 2.310898\tGrad penalty: 0.067355\tTrain Accuracy: 81.77\tTest Accuracy: 44.81\n",
      "\n",
      "Epoch 13/25\n"
     ]
    },
    {
     "name": "stderr",
     "output_type": "stream",
     "text": [
      "Training:  52%|█████▏    | 13/25 [03:21<03:05, 15.48s/it]"
     ]
    },
    {
     "name": "stdout",
     "output_type": "stream",
     "text": [
      "\tERM loss: 2.132935\tGrad penalty: 0.049012\tTrain Accuracy: 82.90\tTest Accuracy: 45.25\n",
      "\n",
      "Epoch 14/25\n"
     ]
    },
    {
     "name": "stderr",
     "output_type": "stream",
     "text": [
      "Training:  56%|█████▌    | 14/25 [03:36<02:50, 15.48s/it]"
     ]
    },
    {
     "name": "stdout",
     "output_type": "stream",
     "text": [
      "\tERM loss: 1.951176\tGrad penalty: 0.040330\tTrain Accuracy: 83.89\tTest Accuracy: 45.84\n",
      "\n",
      "Epoch 15/25\n"
     ]
    },
    {
     "name": "stderr",
     "output_type": "stream",
     "text": [
      "Training:  60%|██████    | 15/25 [03:52<02:34, 15.47s/it]"
     ]
    },
    {
     "name": "stdout",
     "output_type": "stream",
     "text": [
      "\tERM loss: 1.858508\tGrad penalty: 0.033356\tTrain Accuracy: 85.04\tTest Accuracy: 46.16\n",
      "\n",
      "Epoch 16/25\n"
     ]
    },
    {
     "name": "stderr",
     "output_type": "stream",
     "text": [
      "Training:  64%|██████▍   | 16/25 [04:07<02:18, 15.42s/it]"
     ]
    },
    {
     "name": "stdout",
     "output_type": "stream",
     "text": [
      "\tERM loss: 1.747298\tGrad penalty: 0.013879\tTrain Accuracy: 85.67\tTest Accuracy: 45.54\n",
      "\n",
      "Epoch 17/25\n"
     ]
    },
    {
     "name": "stderr",
     "output_type": "stream",
     "text": [
      "Training:  68%|██████▊   | 17/25 [04:22<02:03, 15.46s/it]"
     ]
    },
    {
     "name": "stdout",
     "output_type": "stream",
     "text": [
      "\tERM loss: 1.654183\tGrad penalty: 0.020626\tTrain Accuracy: 87.02\tTest Accuracy: 47.06\n",
      "\n",
      "Epoch 18/25\n"
     ]
    },
    {
     "name": "stderr",
     "output_type": "stream",
     "text": [
      "Training:  72%|███████▏  | 18/25 [04:38<01:48, 15.45s/it]"
     ]
    },
    {
     "name": "stdout",
     "output_type": "stream",
     "text": [
      "\tERM loss: 1.569637\tGrad penalty: 0.025763\tTrain Accuracy: 87.66\tTest Accuracy: 46.85\n",
      "\n",
      "Epoch 19/25\n"
     ]
    },
    {
     "name": "stderr",
     "output_type": "stream",
     "text": [
      "Training:  76%|███████▌  | 19/25 [04:53<01:32, 15.45s/it]"
     ]
    },
    {
     "name": "stdout",
     "output_type": "stream",
     "text": [
      "\tERM loss: 1.418317\tGrad penalty: 0.049102\tTrain Accuracy: 88.41\tTest Accuracy: 46.37\n",
      "\n",
      "Epoch 20/25\n"
     ]
    },
    {
     "name": "stderr",
     "output_type": "stream",
     "text": [
      "Training:  80%|████████  | 20/25 [05:09<01:16, 15.39s/it]"
     ]
    },
    {
     "name": "stdout",
     "output_type": "stream",
     "text": [
      "\tERM loss: 1.385747\tGrad penalty: 0.012464\tTrain Accuracy: 89.30\tTest Accuracy: 46.62\n",
      "\n",
      "Epoch 21/25\n"
     ]
    },
    {
     "name": "stderr",
     "output_type": "stream",
     "text": [
      "Training:  84%|████████▍ | 21/25 [05:24<01:01, 15.38s/it]"
     ]
    },
    {
     "name": "stdout",
     "output_type": "stream",
     "text": [
      "\tERM loss: 1.271727\tGrad penalty: -0.009691\tTrain Accuracy: 90.03\tTest Accuracy: 46.35\n",
      "\n",
      "Epoch 22/25\n"
     ]
    },
    {
     "name": "stderr",
     "output_type": "stream",
     "text": [
      "Training:  88%|████████▊ | 22/25 [05:39<00:46, 15.40s/it]"
     ]
    },
    {
     "name": "stdout",
     "output_type": "stream",
     "text": [
      "\tERM loss: 1.237024\tGrad penalty: 0.048402\tTrain Accuracy: 90.65\tTest Accuracy: 46.19\n",
      "\n",
      "Epoch 23/25\n"
     ]
    },
    {
     "name": "stderr",
     "output_type": "stream",
     "text": [
      "Training:  92%|█████████▏| 23/25 [05:55<00:30, 15.39s/it]"
     ]
    },
    {
     "name": "stdout",
     "output_type": "stream",
     "text": [
      "\tERM loss: 1.172470\tGrad penalty: 0.015355\tTrain Accuracy: 91.05\tTest Accuracy: 46.80\n",
      "\n",
      "Epoch 24/25\n"
     ]
    },
    {
     "name": "stderr",
     "output_type": "stream",
     "text": [
      "Training:  96%|█████████▌| 24/25 [06:11<00:15, 15.49s/it]"
     ]
    },
    {
     "name": "stdout",
     "output_type": "stream",
     "text": [
      "\tERM loss: 1.121388\tGrad penalty: 0.015879\tTrain Accuracy: 91.75\tTest Accuracy: 47.29\n",
      "\n",
      "Epoch 25/25\n"
     ]
    },
    {
     "name": "stderr",
     "output_type": "stream",
     "text": [
      "Training: 100%|██████████| 25/25 [06:26<00:00, 15.46s/it]"
     ]
    },
    {
     "name": "stdout",
     "output_type": "stream",
     "text": [
      "\tERM loss: 1.028803\tGrad penalty: 0.030276\tTrain Accuracy: 91.99\tTest Accuracy: 47.08\n"
     ]
    },
    {
     "name": "stderr",
     "output_type": "stream",
     "text": [
      "\n"
     ]
    },
    {
     "name": "stdout",
     "output_type": "stream",
     "text": [
      "\n",
      "=== Evaluation for Clipart Domain ===\n",
      "Accuracy: 47.08%\n",
      "Confusion Matrix:\n",
      "\n",
      "Classification Report:\n",
      "               precision    recall  f1-score   support\n",
      "\n",
      "           0     0.7049    0.7167    0.7107        60\n",
      "           1     0.6667    0.2500    0.3636        56\n",
      "           2     0.4444    0.3750    0.4068        64\n",
      "           3     0.6667    0.0612    0.1121        98\n",
      "           4     0.9367    0.7475    0.8315        99\n",
      "           5     0.4923    0.3232    0.3902        99\n",
      "           6     0.4342    0.4521    0.4430        73\n",
      "           7     0.6441    0.8261    0.7238        46\n",
      "           8     0.4757    0.6282    0.5414        78\n",
      "           9     0.6200    0.3131    0.4161        99\n",
      "          10     0.5755    0.6162    0.5951        99\n",
      "          11     0.0000    0.0000    0.0000        40\n",
      "          12     0.5094    0.2727    0.3553        99\n",
      "          13     0.8571    0.1875    0.3077        64\n",
      "          14     0.8182    0.6429    0.7200        42\n",
      "          15     0.1757    0.3171    0.2261        41\n",
      "          16     0.9412    0.3333    0.4923        48\n",
      "          17     0.0952    0.1500    0.1165        40\n",
      "          18     0.2483    0.8780    0.3871        41\n",
      "          19     0.4923    0.6400    0.5565        50\n",
      "          20     0.4853    0.8250    0.6111        40\n",
      "          21     0.7447    0.8750    0.8046        40\n",
      "          22     0.9762    0.4141    0.5816        99\n",
      "          23     0.1489    0.6364    0.2414        99\n",
      "          24     0.3469    0.2787    0.3091        61\n",
      "          25     0.3154    0.7885    0.4505        52\n",
      "          26     0.3857    0.5455    0.4519        99\n",
      "          27     0.5294    0.5217    0.5255        69\n",
      "          28     0.5238    0.8250    0.6408        40\n",
      "          29     0.8358    0.5657    0.6747        99\n",
      "          30     0.3929    0.4151    0.4037        53\n",
      "          31     0.3333    0.6750    0.4463        40\n",
      "          32     0.8171    0.6768    0.7403        99\n",
      "          33     0.1500    0.0423    0.0659        71\n",
      "          34     0.4737    0.6364    0.5431        99\n",
      "          35     0.4364    0.6000    0.5053        40\n",
      "          36     0.4556    0.5395    0.4940        76\n",
      "          37     0.8525    0.5253    0.6500        99\n",
      "          38     0.2949    0.2771    0.2857        83\n",
      "          39     0.6667    0.4000    0.5000        40\n",
      "          40     0.5577    0.5686    0.5631        51\n",
      "          41     0.2544    0.7250    0.3766        40\n",
      "          42     0.6939    0.3434    0.4595        99\n",
      "          43     0.5000    0.4545    0.4762        99\n",
      "          44     0.2400    0.2927    0.2637        41\n",
      "          45     0.5862    0.3908    0.4690        87\n",
      "          46     0.6053    0.5750    0.5897        40\n",
      "          47     0.8182    0.3913    0.5294        46\n",
      "          48     0.5312    0.4250    0.4722        40\n",
      "          49     0.8167    0.7313    0.7717        67\n",
      "          50     0.5827    0.8182    0.6807        99\n",
      "          51     0.9024    0.4933    0.6379        75\n",
      "          52     0.4000    0.2857    0.3333        42\n",
      "          53     0.4167    0.1190    0.1852        42\n",
      "          54     0.7778    0.3256    0.4590        43\n",
      "          55     0.2791    0.1967    0.2308        61\n",
      "          56     0.7821    0.6778    0.7262        90\n",
      "          57     0.4583    0.3667    0.4074        60\n",
      "          58     0.4133    0.3131    0.3563        99\n",
      "          59     0.5146    0.6625    0.5792        80\n",
      "          60     0.9091    0.2020    0.3306        99\n",
      "          61     0.2308    0.4615    0.3077        39\n",
      "          62     0.4769    0.3131    0.3780        99\n",
      "          63     0.3750    0.5660    0.4511        53\n",
      "          64     0.8095    0.4250    0.5574        40\n",
      "\n",
      "    accuracy                         0.4708      4365\n",
      "   macro avg     0.5369    0.4757    0.4648      4365\n",
      "weighted avg     0.5597    0.4708    0.4726      4365\n",
      "\n"
     ]
    },
    {
     "data": {
      "image/png": "[encoded data removed]",
      "text/plain": [
       "<Figure size 640x480 with 2 Axes>"
      ]
     },
     "metadata": {},
     "output_type": "display_data"
    }
   ],
   "source": [
    "#trained after freezing layer3\n",
    "config = {'epochs':25, \n",
    "          'lr':4e-3, \n",
    "          'batch_size':64,  \n",
    "          'weight_decay':1e-3, \n",
    "          'phi':1.0,\n",
    "          'scheduling_constant':1.05,\n",
    "          }\n",
    "analysis(sources, target, config, caches_source, cache_target)"
   ]
  },
  {
   "cell_type": "code",
   "execution_count": null,
   "id": "7cdf5dfd",
   "metadata": {},
   "outputs": [],
   "source": []
  }
 ],
 "metadata": {
  "kernelspec": {
   "display_name": "Python 3 (ipykernel)",
   "language": "python",
   "name": "python3"
  }
 },
 "nbformat": 4,
 "nbformat_minor": 5
}
