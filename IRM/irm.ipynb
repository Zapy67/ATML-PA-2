{
 "cells": [
  {
   "cell_type": "code",
   "execution_count": 2,
   "id": "a693c24b",
   "metadata": {},
   "outputs": [
    {
     "name": "stdout",
     "output_type": "stream",
     "text": [
      "/kaggle/working/ATML-PA-2/IRM\n"
     ]
    }
   ],
   "source": [
    "cd ATML-PA-2/IRM"
   ]
  },
  {
   "cell_type": "code",
   "execution_count": 24,
   "id": "7558798f",
   "metadata": {},
   "outputs": [],
   "source": [
    "import importlib\n",
    "import torch\n",
    "import utils\n",
    "import architecture\n",
    "import train\n",
    "import types\n",
    "importlib.reload(utils)\n",
    "importlib.reload(architecture)\n",
    "importlib.reload(train)\n",
    "\n",
    "\n",
    "from utils.dataset import FeatureTensorDataset, OfficeHomeDataset, _truncate_resnet_from\n",
    "from torchvision.models import ResNet50_Weights \n",
    "from importlib import reload\n",
    "import train\n",
    "from train import train_workflow\n",
    "import types\n",
    "from utils.tsne import tsne_plot, get_features\n",
    "from utils.evaluation import evaluate_ds\n",
    "import matplotlib.pyplot as plt\n",
    "import os\n",
    "from architecture import resnet_classifier\n",
    "import torch"
   ]
  },
  {
   "cell_type": "code",
   "execution_count": 14,
   "id": "fffb79b3",
   "metadata": {},
   "outputs": [],
   "source": [
    "root_dir = \"../datasets/OfficeHomeDataset\"\n",
    "csv_file = f\"{root_dir}/ImageInfo.csv\"\n",
    "\n",
    "transform = ResNet50_Weights.IMAGENET1K_V1.transforms()\n",
    "classes = os.listdir(f\"{root_dir}/Art\")"
   ]
  },
  {
   "cell_type": "code",
   "execution_count": 8,
   "id": "40a697bb",
   "metadata": {},
   "outputs": [],
   "source": [
    "device = 'cuda' if torch.cuda.is_available() else 'cpu'"
   ]
  },
  {
   "cell_type": "code",
   "execution_count": 16,
   "id": "a86ebe82",
   "metadata": {},
   "outputs": [],
   "source": [
    "def make_cache(domains, layer_name):\n",
    "    model = resnet_classifier(len(classes))\n",
    "    if len(domains)>1:\n",
    "        caches = []\n",
    "        for domain in domains:\n",
    "            ds = OfficeHomeDataset(root_dir, csv_file, [domain], transform)\n",
    "            caches.append(FeatureTensorDataset(ds, model, layer_name, device=device, batch_size=64))\n",
    "        return caches\n",
    "    else:\n",
    "        ds = OfficeHomeDataset(root_dir, csv_file, domains, transform)\n",
    "        return FeatureTensorDataset(ds, model, layer_name, device=device, batch_size=64)\n"
   ]
  },
  {
   "cell_type": "code",
   "execution_count": 10,
   "id": "95826748",
   "metadata": {},
   "outputs": [],
   "source": [
    "def analysis(sources, target, config, caches_source=None, cache_target=None):\n",
    "    \n",
    "    if caches_source is None:\n",
    "        caches_source = make_cache(sources, 'layer3')\n",
    "        \n",
    "\n",
    "    if cache_target is None:\n",
    "        cache_target = make_cache(target, 'layer3')\n",
    "\n",
    "    model = resnet_classifier(num_classes=len(classes))\n",
    "    truncated_model = _truncate_resnet_from(model, 'layer3')\n",
    "\n",
    "    def _forward_impl(self, x):\n",
    "        f4 = self.layer4(x)\n",
    "        x = torch.flatten(self.avgpool(f4), 1)\n",
    "        x = self.fc(x)\n",
    "        return x\n",
    "\n",
    "    import types\n",
    "    truncated_model.forward = types.MethodType(_forward_impl, truncated_model)\n",
    "\n",
    "    train_workflow(truncated_model, caches_source, cache_target, config, device)\n",
    "    evaluate_ds(cache_target, truncated_model, device, target[0], None)\n"
   ]
  },
  {
   "cell_type": "code",
   "execution_count": 18,
   "id": "5caf2af0",
   "metadata": {},
   "outputs": [
    {
     "name": "stderr",
     "output_type": "stream",
     "text": [
      "Precomputing up to layer3: 100%|██████████| 38/38 [00:38<00:00,  1.02s/it]\n",
      "Precomputing up to layer3: 100%|██████████| 69/69 [02:18<00:00,  2.01s/it]\n",
      "Precomputing up to layer3: 100%|██████████| 70/70 [01:01<00:00,  1.14it/s]\n",
      "Precomputing up to layer3: 100%|██████████| 69/69 [00:55<00:00,  1.24it/s]\n"
     ]
    }
   ],
   "source": [
    "sources = [\"Art\", \"Real World\", \"Product\"]\n",
    "target = [\"Clipart\"]\n",
    "\n",
    "caches_source = make_cache(sources, 'layer3')\n",
    "cache_target = make_cache(target, 'layer3')"
   ]
  },
  {
   "cell_type": "code",
   "execution_count": 25,
   "id": "ec1c99a3",
   "metadata": {},
   "outputs": [
    {
     "name": "stderr",
     "output_type": "stream",
     "text": [
      "Training:   0%|          | 0/2 [00:00<?, ?it/s]"
     ]
    },
    {
     "name": "stdout",
     "output_type": "stream",
     "text": [
      "\n",
      "Epoch 1/2\n"
     ]
    },
    {
     "name": "stderr",
     "output_type": "stream",
     "text": [
      "Training:   0%|          | 0/2 [00:09<?, ?it/s]\n"
     ]
    },
    {
     "ename": "ValueError",
     "evalue": "not enough values to unpack (expected 3, got 2)",
     "output_type": "error",
     "traceback": [
      "\u001b[0;31m---------------------------------------------------------------------------\u001b[0m",
      "\u001b[0;31mValueError\u001b[0m                                Traceback (most recent call last)",
      "\u001b[0;32m/tmp/ipykernel_798/3544044690.py\u001b[0m in \u001b[0;36m<cell line: 0>\u001b[0;34m()\u001b[0m\n\u001b[1;32m      5\u001b[0m           \u001b[0;34m'phi'\u001b[0m\u001b[0;34m:\u001b[0m\u001b[0;36m1.0\u001b[0m\u001b[0;34m,\u001b[0m\u001b[0;34m\u001b[0m\u001b[0;34m\u001b[0m\u001b[0m\n\u001b[1;32m      6\u001b[0m           }\n\u001b[0;32m----> 7\u001b[0;31m \u001b[0manalysis\u001b[0m\u001b[0;34m(\u001b[0m\u001b[0msources\u001b[0m\u001b[0;34m,\u001b[0m \u001b[0mtarget\u001b[0m\u001b[0;34m,\u001b[0m \u001b[0mconfig\u001b[0m\u001b[0;34m,\u001b[0m \u001b[0mcaches_source\u001b[0m\u001b[0;34m,\u001b[0m \u001b[0mcache_target\u001b[0m\u001b[0;34m)\u001b[0m\u001b[0;34m\u001b[0m\u001b[0;34m\u001b[0m\u001b[0m\n\u001b[0m",
      "\u001b[0;32m/tmp/ipykernel_798/1139902326.py\u001b[0m in \u001b[0;36manalysis\u001b[0;34m(sources, target, config, caches_source, cache_target)\u001b[0m\n\u001b[1;32m     20\u001b[0m     \u001b[0mtruncated_model\u001b[0m\u001b[0;34m.\u001b[0m\u001b[0mforward\u001b[0m \u001b[0;34m=\u001b[0m \u001b[0mtypes\u001b[0m\u001b[0;34m.\u001b[0m\u001b[0mMethodType\u001b[0m\u001b[0;34m(\u001b[0m\u001b[0m_forward_impl\u001b[0m\u001b[0;34m,\u001b[0m \u001b[0mtruncated_model\u001b[0m\u001b[0;34m)\u001b[0m\u001b[0;34m\u001b[0m\u001b[0;34m\u001b[0m\u001b[0m\n\u001b[1;32m     21\u001b[0m \u001b[0;34m\u001b[0m\u001b[0m\n\u001b[0;32m---> 22\u001b[0;31m     \u001b[0mtrain_workflow\u001b[0m\u001b[0;34m(\u001b[0m\u001b[0mtruncated_model\u001b[0m\u001b[0;34m,\u001b[0m \u001b[0mcaches_source\u001b[0m\u001b[0;34m,\u001b[0m \u001b[0mcache_target\u001b[0m\u001b[0;34m,\u001b[0m \u001b[0mconfig\u001b[0m\u001b[0;34m,\u001b[0m \u001b[0mdevice\u001b[0m\u001b[0;34m)\u001b[0m\u001b[0;34m\u001b[0m\u001b[0;34m\u001b[0m\u001b[0m\n\u001b[0m\u001b[1;32m     23\u001b[0m     \u001b[0mevaluate_ds\u001b[0m\u001b[0;34m(\u001b[0m\u001b[0mcache_target\u001b[0m\u001b[0;34m,\u001b[0m \u001b[0mtruncated_model\u001b[0m\u001b[0;34m,\u001b[0m \u001b[0mdevice\u001b[0m\u001b[0;34m,\u001b[0m \u001b[0mtarget\u001b[0m\u001b[0;34m[\u001b[0m\u001b[0;36m0\u001b[0m\u001b[0;34m]\u001b[0m\u001b[0;34m,\u001b[0m \u001b[0;32mNone\u001b[0m\u001b[0;34m)\u001b[0m\u001b[0;34m\u001b[0m\u001b[0;34m\u001b[0m\u001b[0m\n",
      "\u001b[0;32m/kaggle/working/ATML-PA-2/IRM/train.py\u001b[0m in \u001b[0;36mtrain_workflow\u001b[0;34m(model, src_datasets, tgt_dataset, config, device)\u001b[0m\n\u001b[1;32m    101\u001b[0m     \u001b[0mtarget_loader\u001b[0m \u001b[0;34m=\u001b[0m \u001b[0mtorch\u001b[0m\u001b[0;34m.\u001b[0m\u001b[0mutils\u001b[0m\u001b[0;34m.\u001b[0m\u001b[0mdata\u001b[0m\u001b[0;34m.\u001b[0m\u001b[0mDataLoader\u001b[0m\u001b[0;34m(\u001b[0m\u001b[0mtgt_dataset\u001b[0m\u001b[0;34m,\u001b[0m \u001b[0mbatch_size\u001b[0m\u001b[0;34m,\u001b[0m \u001b[0mshuffle\u001b[0m\u001b[0;34m=\u001b[0m\u001b[0;32mTrue\u001b[0m\u001b[0;34m)\u001b[0m\u001b[0;34m\u001b[0m\u001b[0;34m\u001b[0m\u001b[0m\n\u001b[1;32m    102\u001b[0m \u001b[0;34m\u001b[0m\u001b[0m\n\u001b[0;32m--> 103\u001b[0;31m     train(\n\u001b[0m\u001b[1;32m    104\u001b[0m         \u001b[0msource_loaders\u001b[0m\u001b[0;34m,\u001b[0m\u001b[0;34m\u001b[0m\u001b[0;34m\u001b[0m\u001b[0m\n\u001b[1;32m    105\u001b[0m         \u001b[0mtarget_loader\u001b[0m\u001b[0;34m,\u001b[0m\u001b[0;34m\u001b[0m\u001b[0;34m\u001b[0m\u001b[0m\n",
      "\u001b[0;32m/kaggle/working/ATML-PA-2/IRM/train.py\u001b[0m in \u001b[0;36mtrain\u001b[0;34m(train_loaders, val_loader, epochs, optimizer, model, loss_fn, accuracy_fn, device)\u001b[0m\n\u001b[1;32m     58\u001b[0m         \u001b[0mprint\u001b[0m\u001b[0;34m(\u001b[0m\u001b[0;34mf\"\\nEpoch {epoch+1}/{epochs}\"\u001b[0m\u001b[0;34m)\u001b[0m\u001b[0;34m\u001b[0m\u001b[0;34m\u001b[0m\u001b[0m\n\u001b[1;32m     59\u001b[0m \u001b[0;34m\u001b[0m\u001b[0m\n\u001b[0;32m---> 60\u001b[0;31m         avg_erm_loss, avg_penalty, avg_acc = train_step(\n\u001b[0m\u001b[1;32m     61\u001b[0m             \u001b[0mtrain_loaders\u001b[0m\u001b[0;34m,\u001b[0m \u001b[0mmodel\u001b[0m\u001b[0;34m,\u001b[0m \u001b[0moptimizer\u001b[0m\u001b[0;34m,\u001b[0m \u001b[0mloss_fn\u001b[0m\u001b[0;34m,\u001b[0m \u001b[0maccuracy_fn\u001b[0m\u001b[0;34m,\u001b[0m \u001b[0mdevice\u001b[0m\u001b[0;34m\u001b[0m\u001b[0;34m\u001b[0m\u001b[0m\n\u001b[1;32m     62\u001b[0m         )\n",
      "\u001b[0;31mValueError\u001b[0m: not enough values to unpack (expected 3, got 2)"
     ]
    }
   ],
   "source": [
    "config = {'epochs':2, \n",
    "          'lr':1e-3, \n",
    "          'batch_size':32, \n",
    "          'weight_decay':1e-5, \n",
    "          'phi':1.0,\n",
    "          }\n",
    "analysis(sources, target, config, caches_source, cache_target)"
   ]
  },
  {
   "cell_type": "code",
   "execution_count": null,
   "id": "f38b7e64",
   "metadata": {},
   "outputs": [],
   "source": []
  },
  {
   "cell_type": "code",
   "execution_count": null,
   "metadata": {},
   "outputs": [],
   "source": []
  },
  {
   "cell_type": "code",
   "execution_count": null,
   "id": "e594f0f7",
   "metadata": {},
   "outputs": [],
   "source": []
  },
  {
   "cell_type": "code",
   "execution_count": null,
   "id": "7cdf5dfd",
   "metadata": {},
   "outputs": [],
   "source": []
  }
 ],
 "metadata": {
  "kernelspec": {
   "display_name": "Python 3 (ipykernel)",
   "language": "python",
   "name": "python3"
  },
  "language_info": {
   "codemirror_mode": {
    "name": "ipython",
    "version": 3
   },
   "file_extension": ".py",
   "mimetype": "text/x-python",
   "name": "python",
   "nbconvert_exporter": "python",
   "pygments_lexer": "ipython3",
   "version": "3.11.13"
  }
 },
 "nbformat": 4,
 "nbformat_minor": 5
}
